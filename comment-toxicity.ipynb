{
 "cells": [
  {
   "cell_type": "code",
   "execution_count": 1,
   "id": "9d8d3b84",
   "metadata": {
    "execution": {
     "iopub.execute_input": "2023-11-02T14:32:07.891218Z",
     "iopub.status.busy": "2023-11-02T14:32:07.890800Z",
     "iopub.status.idle": "2023-11-02T14:32:12.299110Z",
     "shell.execute_reply": "2023-11-02T14:32:12.298297Z"
    },
    "papermill": {
     "duration": 4.427576,
     "end_time": "2023-11-02T14:32:12.301668",
     "exception": false,
     "start_time": "2023-11-02T14:32:07.874092",
     "status": "completed"
    },
    "tags": []
   },
   "outputs": [],
   "source": [
    "import os\n",
    "import tensorflow as tf\n",
    "import numpy as np\n",
    "import pandas as pd\n",
    "\n",
    "\n"
   ]
  },
  {
   "cell_type": "code",
   "execution_count": 2,
   "id": "7ff4f01d",
   "metadata": {
    "execution": {
     "iopub.execute_input": "2023-11-02T14:32:12.331513Z",
     "iopub.status.busy": "2023-11-02T14:32:12.330959Z",
     "iopub.status.idle": "2023-11-02T14:32:13.953857Z",
     "shell.execute_reply": "2023-11-02T14:32:13.952550Z"
    },
    "papermill": {
     "duration": 1.64057,
     "end_time": "2023-11-02T14:32:13.956687",
     "exception": false,
     "start_time": "2023-11-02T14:32:12.316117",
     "status": "completed"
    },
    "tags": []
   },
   "outputs": [
    {
     "name": "stdout",
     "output_type": "stream",
     "text": [
      "Archive:  /kaggle/input/jigsaw-toxic-comment-classification-challenge/test.csv.zip\r\n",
      "  inflating: test.csv                \r\n"
     ]
    }
   ],
   "source": [
    "!unzip /kaggle/input/jigsaw-toxic-comment-classification-challenge/test.csv.zip\n"
   ]
  },
  {
   "cell_type": "code",
   "execution_count": 3,
   "id": "a0cc8ea1",
   "metadata": {
    "execution": {
     "iopub.execute_input": "2023-11-02T14:32:13.988225Z",
     "iopub.status.busy": "2023-11-02T14:32:13.987889Z",
     "iopub.status.idle": "2023-11-02T14:32:15.637637Z",
     "shell.execute_reply": "2023-11-02T14:32:15.636498Z"
    },
    "papermill": {
     "duration": 1.667367,
     "end_time": "2023-11-02T14:32:15.640106",
     "exception": false,
     "start_time": "2023-11-02T14:32:13.972739",
     "status": "completed"
    },
    "tags": []
   },
   "outputs": [
    {
     "name": "stdout",
     "output_type": "stream",
     "text": [
      "Archive:  /kaggle/input/jigsaw-toxic-comment-classification-challenge/train.csv.zip\r\n",
      "  inflating: train.csv               \r\n"
     ]
    }
   ],
   "source": [
    "!unzip /kaggle/input/jigsaw-toxic-comment-classification-challenge/train.csv.zip"
   ]
  },
  {
   "cell_type": "code",
   "execution_count": 4,
   "id": "3e6890c7",
   "metadata": {
    "execution": {
     "iopub.execute_input": "2023-11-02T14:32:15.671401Z",
     "iopub.status.busy": "2023-11-02T14:32:15.670391Z",
     "iopub.status.idle": "2023-11-02T14:32:15.833723Z",
     "shell.execute_reply": "2023-11-02T14:32:15.832556Z"
    },
    "papermill": {
     "duration": 0.181302,
     "end_time": "2023-11-02T14:32:15.835832",
     "exception": false,
     "start_time": "2023-11-02T14:32:15.654530",
     "status": "completed"
    },
    "tags": []
   },
   "outputs": [],
   "source": [
    "physical_devices = tf.config.list_physical_devices('GPU')"
   ]
  },
  {
   "cell_type": "code",
   "execution_count": 5,
   "id": "d6450a45",
   "metadata": {
    "execution": {
     "iopub.execute_input": "2023-11-02T14:32:15.866035Z",
     "iopub.status.busy": "2023-11-02T14:32:15.865607Z",
     "iopub.status.idle": "2023-11-02T14:32:35.219851Z",
     "shell.execute_reply": "2023-11-02T14:32:35.218610Z"
    },
    "papermill": {
     "duration": 19.372173,
     "end_time": "2023-11-02T14:32:35.222380",
     "exception": false,
     "start_time": "2023-11-02T14:32:15.850207",
     "status": "completed"
    },
    "tags": []
   },
   "outputs": [
    {
     "name": "stdout",
     "output_type": "stream",
     "text": [
      "Cloning into 'comment-toxicity-detecttion-'...\r\n",
      "remote: Enumerating objects: 58, done.\u001b[K\r\n",
      "remote: Total 58 (delta 0), reused 0 (delta 0), pack-reused 58\u001b[K\r\n",
      "Unpacking objects: 100% (58/58), 137.11 MiB | 8.30 MiB/s, done.\r\n"
     ]
    }
   ],
   "source": [
    "!git clone https://github.com/whitehatjr1001/comment-toxicity-detecttion-.git"
   ]
  },
  {
   "cell_type": "code",
   "execution_count": 6,
   "id": "5cb48533",
   "metadata": {
    "execution": {
     "iopub.execute_input": "2023-11-02T14:32:35.254708Z",
     "iopub.status.busy": "2023-11-02T14:32:35.254015Z",
     "iopub.status.idle": "2023-11-02T14:32:36.193504Z",
     "shell.execute_reply": "2023-11-02T14:32:36.192440Z"
    },
    "papermill": {
     "duration": 0.95833,
     "end_time": "2023-11-02T14:32:36.196123",
     "exception": false,
     "start_time": "2023-11-02T14:32:35.237793",
     "status": "completed"
    },
    "tags": []
   },
   "outputs": [],
   "source": [
    "data = pd.read_csv('/kaggle/working/train.csv')"
   ]
  },
  {
   "cell_type": "code",
   "execution_count": 7,
   "id": "ae96901d",
   "metadata": {
    "execution": {
     "iopub.execute_input": "2023-11-02T14:32:36.229561Z",
     "iopub.status.busy": "2023-11-02T14:32:36.229219Z",
     "iopub.status.idle": "2023-11-02T14:32:36.251373Z",
     "shell.execute_reply": "2023-11-02T14:32:36.250493Z"
    },
    "papermill": {
     "duration": 0.040343,
     "end_time": "2023-11-02T14:32:36.253518",
     "exception": false,
     "start_time": "2023-11-02T14:32:36.213175",
     "status": "completed"
    },
    "tags": []
   },
   "outputs": [
    {
     "data": {
      "text/html": [
       "<div>\n",
       "<style scoped>\n",
       "    .dataframe tbody tr th:only-of-type {\n",
       "        vertical-align: middle;\n",
       "    }\n",
       "\n",
       "    .dataframe tbody tr th {\n",
       "        vertical-align: top;\n",
       "    }\n",
       "\n",
       "    .dataframe thead th {\n",
       "        text-align: right;\n",
       "    }\n",
       "</style>\n",
       "<table border=\"1\" class=\"dataframe\">\n",
       "  <thead>\n",
       "    <tr style=\"text-align: right;\">\n",
       "      <th></th>\n",
       "      <th>id</th>\n",
       "      <th>comment_text</th>\n",
       "      <th>toxic</th>\n",
       "      <th>severe_toxic</th>\n",
       "      <th>obscene</th>\n",
       "      <th>threat</th>\n",
       "      <th>insult</th>\n",
       "      <th>identity_hate</th>\n",
       "    </tr>\n",
       "  </thead>\n",
       "  <tbody>\n",
       "    <tr>\n",
       "      <th>0</th>\n",
       "      <td>0000997932d777bf</td>\n",
       "      <td>Explanation\\nWhy the edits made under my usern...</td>\n",
       "      <td>0</td>\n",
       "      <td>0</td>\n",
       "      <td>0</td>\n",
       "      <td>0</td>\n",
       "      <td>0</td>\n",
       "      <td>0</td>\n",
       "    </tr>\n",
       "    <tr>\n",
       "      <th>1</th>\n",
       "      <td>000103f0d9cfb60f</td>\n",
       "      <td>D'aww! He matches this background colour I'm s...</td>\n",
       "      <td>0</td>\n",
       "      <td>0</td>\n",
       "      <td>0</td>\n",
       "      <td>0</td>\n",
       "      <td>0</td>\n",
       "      <td>0</td>\n",
       "    </tr>\n",
       "    <tr>\n",
       "      <th>2</th>\n",
       "      <td>000113f07ec002fd</td>\n",
       "      <td>Hey man, I'm really not trying to edit war. It...</td>\n",
       "      <td>0</td>\n",
       "      <td>0</td>\n",
       "      <td>0</td>\n",
       "      <td>0</td>\n",
       "      <td>0</td>\n",
       "      <td>0</td>\n",
       "    </tr>\n",
       "    <tr>\n",
       "      <th>3</th>\n",
       "      <td>0001b41b1c6bb37e</td>\n",
       "      <td>\"\\nMore\\nI can't make any real suggestions on ...</td>\n",
       "      <td>0</td>\n",
       "      <td>0</td>\n",
       "      <td>0</td>\n",
       "      <td>0</td>\n",
       "      <td>0</td>\n",
       "      <td>0</td>\n",
       "    </tr>\n",
       "    <tr>\n",
       "      <th>4</th>\n",
       "      <td>0001d958c54c6e35</td>\n",
       "      <td>You, sir, are my hero. Any chance you remember...</td>\n",
       "      <td>0</td>\n",
       "      <td>0</td>\n",
       "      <td>0</td>\n",
       "      <td>0</td>\n",
       "      <td>0</td>\n",
       "      <td>0</td>\n",
       "    </tr>\n",
       "  </tbody>\n",
       "</table>\n",
       "</div>"
      ],
      "text/plain": [
       "                 id                                       comment_text  toxic  \\\n",
       "0  0000997932d777bf  Explanation\\nWhy the edits made under my usern...      0   \n",
       "1  000103f0d9cfb60f  D'aww! He matches this background colour I'm s...      0   \n",
       "2  000113f07ec002fd  Hey man, I'm really not trying to edit war. It...      0   \n",
       "3  0001b41b1c6bb37e  \"\\nMore\\nI can't make any real suggestions on ...      0   \n",
       "4  0001d958c54c6e35  You, sir, are my hero. Any chance you remember...      0   \n",
       "\n",
       "   severe_toxic  obscene  threat  insult  identity_hate  \n",
       "0             0        0       0       0              0  \n",
       "1             0        0       0       0              0  \n",
       "2             0        0       0       0              0  \n",
       "3             0        0       0       0              0  \n",
       "4             0        0       0       0              0  "
      ]
     },
     "execution_count": 7,
     "metadata": {},
     "output_type": "execute_result"
    }
   ],
   "source": [
    "data.head()"
   ]
  },
  {
   "cell_type": "code",
   "execution_count": 8,
   "id": "2d505687",
   "metadata": {
    "execution": {
     "iopub.execute_input": "2023-11-02T14:32:36.285565Z",
     "iopub.status.busy": "2023-11-02T14:32:36.285237Z",
     "iopub.status.idle": "2023-11-02T14:32:36.296406Z",
     "shell.execute_reply": "2023-11-02T14:32:36.295506Z"
    },
    "papermill": {
     "duration": 0.029516,
     "end_time": "2023-11-02T14:32:36.298559",
     "exception": false,
     "start_time": "2023-11-02T14:32:36.269043",
     "status": "completed"
    },
    "tags": []
   },
   "outputs": [
    {
     "data": {
      "text/plain": [
       "0         6\n",
       "1         6\n",
       "2         6\n",
       "3         6\n",
       "4         6\n",
       "         ..\n",
       "159566    6\n",
       "159567    6\n",
       "159568    6\n",
       "159569    6\n",
       "159570    6\n",
       "Length: 159571, dtype: int64"
      ]
     },
     "execution_count": 8,
     "metadata": {},
     "output_type": "execute_result"
    }
   ],
   "source": [
    "data.count(axis=1,level=None,numeric_only=True)"
   ]
  },
  {
   "cell_type": "code",
   "execution_count": 9,
   "id": "ee702758",
   "metadata": {
    "execution": {
     "iopub.execute_input": "2023-11-02T14:32:36.332424Z",
     "iopub.status.busy": "2023-11-02T14:32:36.331813Z",
     "iopub.status.idle": "2023-11-02T14:32:36.345592Z",
     "shell.execute_reply": "2023-11-02T14:32:36.344639Z"
    },
    "papermill": {
     "duration": 0.033129,
     "end_time": "2023-11-02T14:32:36.347973",
     "exception": false,
     "start_time": "2023-11-02T14:32:36.314844",
     "status": "completed"
    },
    "tags": []
   },
   "outputs": [
    {
     "data": {
      "text/plain": [
       "144277"
      ]
     },
     "execution_count": 9,
     "metadata": {},
     "output_type": "execute_result"
    }
   ],
   "source": [
    "x=data['toxic'].value_counts()[0]\n",
    "x\n"
   ]
  },
  {
   "cell_type": "code",
   "execution_count": 10,
   "id": "16d4d4a2",
   "metadata": {
    "execution": {
     "iopub.execute_input": "2023-11-02T14:32:36.380627Z",
     "iopub.status.busy": "2023-11-02T14:32:36.380280Z",
     "iopub.status.idle": "2023-11-02T14:32:36.388415Z",
     "shell.execute_reply": "2023-11-02T14:32:36.387500Z"
    },
    "papermill": {
     "duration": 0.026506,
     "end_time": "2023-11-02T14:32:36.390379",
     "exception": false,
     "start_time": "2023-11-02T14:32:36.363873",
     "status": "completed"
    },
    "tags": []
   },
   "outputs": [
    {
     "data": {
      "text/plain": [
       "15294"
      ]
     },
     "execution_count": 10,
     "metadata": {},
     "output_type": "execute_result"
    }
   ],
   "source": [
    "y=data['toxic'].value_counts()[1]\n",
    "y\n"
   ]
  },
  {
   "cell_type": "code",
   "execution_count": 11,
   "id": "afaf2f2d",
   "metadata": {
    "execution": {
     "iopub.execute_input": "2023-11-02T14:32:36.422803Z",
     "iopub.status.busy": "2023-11-02T14:32:36.422489Z",
     "iopub.status.idle": "2023-11-02T14:32:36.430146Z",
     "shell.execute_reply": "2023-11-02T14:32:36.429231Z"
    },
    "papermill": {
     "duration": 0.02611,
     "end_time": "2023-11-02T14:32:36.432139",
     "exception": false,
     "start_time": "2023-11-02T14:32:36.406029",
     "status": "completed"
    },
    "tags": []
   },
   "outputs": [
    {
     "data": {
      "text/plain": [
       "0         Explanation\\nWhy the edits made under my usern...\n",
       "1         D'aww! He matches this background colour I'm s...\n",
       "2         Hey man, I'm really not trying to edit war. It...\n",
       "3         \"\\nMore\\nI can't make any real suggestions on ...\n",
       "4         You, sir, are my hero. Any chance you remember...\n",
       "                                ...                        \n",
       "159566    \":::::And for the second time of asking, when ...\n",
       "159567    You should be ashamed of yourself \\n\\nThat is ...\n",
       "159568    Spitzer \\n\\nUmm, theres no actual article for ...\n",
       "159569    And it looks like it was actually you who put ...\n",
       "159570    \"\\nAnd ... I really don't think you understand...\n",
       "Name: comment_text, Length: 159571, dtype: object"
      ]
     },
     "execution_count": 11,
     "metadata": {},
     "output_type": "execute_result"
    }
   ],
   "source": [
    "x = data['comment_text']\n",
    "x"
   ]
  },
  {
   "cell_type": "markdown",
   "id": "b54b6051",
   "metadata": {
    "papermill": {
     "duration": 0.015813,
     "end_time": "2023-11-02T14:32:36.463955",
     "exception": false,
     "start_time": "2023-11-02T14:32:36.448142",
     "status": "completed"
    },
    "tags": []
   },
   "source": [
    "### "
   ]
  },
  {
   "cell_type": "markdown",
   "id": "d6e4fbda",
   "metadata": {
    "papermill": {
     "duration": 0.015444,
     "end_time": "2023-11-02T14:32:36.495100",
     "exception": false,
     "start_time": "2023-11-02T14:32:36.479656",
     "status": "completed"
    },
    "tags": []
   },
   "source": [
    "preprosseing\n"
   ]
  },
  {
   "cell_type": "code",
   "execution_count": 12,
   "id": "1cf35b8d",
   "metadata": {
    "execution": {
     "iopub.execute_input": "2023-11-02T14:32:36.529002Z",
     "iopub.status.busy": "2023-11-02T14:32:36.528140Z",
     "iopub.status.idle": "2023-11-02T14:32:37.409542Z",
     "shell.execute_reply": "2023-11-02T14:32:37.408700Z"
    },
    "papermill": {
     "duration": 0.900942,
     "end_time": "2023-11-02T14:32:37.412017",
     "exception": false,
     "start_time": "2023-11-02T14:32:36.511075",
     "status": "completed"
    },
    "tags": []
   },
   "outputs": [],
   "source": [
    "from tensorflow.keras.layers import TextVectorization "
   ]
  },
  {
   "cell_type": "code",
   "execution_count": 13,
   "id": "75113642",
   "metadata": {
    "execution": {
     "iopub.execute_input": "2023-11-02T14:32:37.447436Z",
     "iopub.status.busy": "2023-11-02T14:32:37.447111Z",
     "iopub.status.idle": "2023-11-02T14:32:37.456249Z",
     "shell.execute_reply": "2023-11-02T14:32:37.455336Z"
    },
    "papermill": {
     "duration": 0.029567,
     "end_time": "2023-11-02T14:32:37.458347",
     "exception": false,
     "start_time": "2023-11-02T14:32:37.428780",
     "status": "completed"
    },
    "tags": []
   },
   "outputs": [],
   "source": [
    "X=data['comment_text']\n",
    "Y=data[data.columns[2:]]\n",
    "\n"
   ]
  },
  {
   "cell_type": "code",
   "execution_count": 14,
   "id": "4583767d",
   "metadata": {
    "execution": {
     "iopub.execute_input": "2023-11-02T14:32:37.490942Z",
     "iopub.status.busy": "2023-11-02T14:32:37.490680Z",
     "iopub.status.idle": "2023-11-02T14:32:37.494678Z",
     "shell.execute_reply": "2023-11-02T14:32:37.493819Z"
    },
    "papermill": {
     "duration": 0.022602,
     "end_time": "2023-11-02T14:32:37.496674",
     "exception": false,
     "start_time": "2023-11-02T14:32:37.474072",
     "status": "completed"
    },
    "tags": []
   },
   "outputs": [],
   "source": [
    "MAX_FETURES=200000"
   ]
  },
  {
   "cell_type": "code",
   "execution_count": 15,
   "id": "02deecf2",
   "metadata": {
    "execution": {
     "iopub.execute_input": "2023-11-02T14:32:37.530133Z",
     "iopub.status.busy": "2023-11-02T14:32:37.529334Z",
     "iopub.status.idle": "2023-11-02T14:32:40.068846Z",
     "shell.execute_reply": "2023-11-02T14:32:40.068006Z"
    },
    "papermill": {
     "duration": 2.558633,
     "end_time": "2023-11-02T14:32:40.071429",
     "exception": false,
     "start_time": "2023-11-02T14:32:37.512796",
     "status": "completed"
    },
    "tags": []
   },
   "outputs": [],
   "source": [
    "vecterizor = TextVectorization(max_tokens=MAX_FETURES,output_sequence_length=1800,output_mode='int')"
   ]
  },
  {
   "cell_type": "code",
   "execution_count": 16,
   "id": "6aff0db3",
   "metadata": {
    "execution": {
     "iopub.execute_input": "2023-11-02T14:32:40.105816Z",
     "iopub.status.busy": "2023-11-02T14:32:40.105400Z",
     "iopub.status.idle": "2023-11-02T14:32:40.111417Z",
     "shell.execute_reply": "2023-11-02T14:32:40.110508Z"
    },
    "papermill": {
     "duration": 0.025699,
     "end_time": "2023-11-02T14:32:40.113599",
     "exception": false,
     "start_time": "2023-11-02T14:32:40.087900",
     "status": "completed"
    },
    "tags": []
   },
   "outputs": [
    {
     "data": {
      "text/plain": [
       "pandas.core.series.Series"
      ]
     },
     "execution_count": 16,
     "metadata": {},
     "output_type": "execute_result"
    }
   ],
   "source": [
    "type(X)\n"
   ]
  },
  {
   "cell_type": "code",
   "execution_count": 17,
   "id": "4ef14416",
   "metadata": {
    "execution": {
     "iopub.execute_input": "2023-11-02T14:32:40.146642Z",
     "iopub.status.busy": "2023-11-02T14:32:40.146328Z",
     "iopub.status.idle": "2023-11-02T14:32:40.152718Z",
     "shell.execute_reply": "2023-11-02T14:32:40.151815Z"
    },
    "papermill": {
     "duration": 0.025315,
     "end_time": "2023-11-02T14:32:40.154882",
     "exception": false,
     "start_time": "2023-11-02T14:32:40.129567",
     "status": "completed"
    },
    "tags": []
   },
   "outputs": [
    {
     "data": {
      "text/plain": [
       "numpy.ndarray"
      ]
     },
     "execution_count": 17,
     "metadata": {},
     "output_type": "execute_result"
    }
   ],
   "source": [
    "type(X.values)"
   ]
  },
  {
   "cell_type": "code",
   "execution_count": 18,
   "id": "789b895d",
   "metadata": {
    "execution": {
     "iopub.execute_input": "2023-11-02T14:32:40.187967Z",
     "iopub.status.busy": "2023-11-02T14:32:40.187683Z",
     "iopub.status.idle": "2023-11-02T14:32:49.592515Z",
     "shell.execute_reply": "2023-11-02T14:32:49.591390Z"
    },
    "papermill": {
     "duration": 9.424221,
     "end_time": "2023-11-02T14:32:49.595176",
     "exception": false,
     "start_time": "2023-11-02T14:32:40.170955",
     "status": "completed"
    },
    "tags": []
   },
   "outputs": [],
   "source": [
    "vecterizor.adapt(X.values)"
   ]
  },
  {
   "cell_type": "code",
   "execution_count": 19,
   "id": "fe445d5a",
   "metadata": {
    "execution": {
     "iopub.execute_input": "2023-11-02T14:32:49.630315Z",
     "iopub.status.busy": "2023-11-02T14:32:49.629622Z",
     "iopub.status.idle": "2023-11-02T14:32:54.265577Z",
     "shell.execute_reply": "2023-11-02T14:32:54.263980Z"
    },
    "papermill": {
     "duration": 4.65682,
     "end_time": "2023-11-02T14:32:54.268729",
     "exception": false,
     "start_time": "2023-11-02T14:32:49.611909",
     "status": "completed"
    },
    "tags": []
   },
   "outputs": [],
   "source": [
    "vectorized_text=vecterizor(X.values)"
   ]
  },
  {
   "cell_type": "code",
   "execution_count": 20,
   "id": "ce2f069d",
   "metadata": {
    "execution": {
     "iopub.execute_input": "2023-11-02T14:32:54.302973Z",
     "iopub.status.busy": "2023-11-02T14:32:54.302608Z",
     "iopub.status.idle": "2023-11-02T14:32:54.309601Z",
     "shell.execute_reply": "2023-11-02T14:32:54.308819Z"
    },
    "papermill": {
     "duration": 0.026192,
     "end_time": "2023-11-02T14:32:54.311574",
     "exception": false,
     "start_time": "2023-11-02T14:32:54.285382",
     "status": "completed"
    },
    "tags": []
   },
   "outputs": [
    {
     "data": {
      "text/plain": [
       "<tf.Tensor: shape=(159571, 1800), dtype=int64, numpy=\n",
       "array([[  645,    76,     2, ...,     0,     0,     0],\n",
       "       [    1,    54,  2489, ...,     0,     0,     0],\n",
       "       [  425,   441,    70, ...,     0,     0,     0],\n",
       "       ...,\n",
       "       [32445,  7392,   383, ...,     0,     0,     0],\n",
       "       [    5,    12,   534, ...,     0,     0,     0],\n",
       "       [    5,     8,   130, ...,     0,     0,     0]])>"
      ]
     },
     "execution_count": 20,
     "metadata": {},
     "output_type": "execute_result"
    }
   ],
   "source": [
    "vectorized_text"
   ]
  },
  {
   "cell_type": "code",
   "execution_count": 21,
   "id": "7bd71ef7",
   "metadata": {
    "execution": {
     "iopub.execute_input": "2023-11-02T14:32:54.347638Z",
     "iopub.status.busy": "2023-11-02T14:32:54.347264Z",
     "iopub.status.idle": "2023-11-02T14:32:54.368001Z",
     "shell.execute_reply": "2023-11-02T14:32:54.367142Z"
    },
    "papermill": {
     "duration": 0.041811,
     "end_time": "2023-11-02T14:32:54.370095",
     "exception": false,
     "start_time": "2023-11-02T14:32:54.328284",
     "status": "completed"
    },
    "tags": []
   },
   "outputs": [],
   "source": [
    "dataset = tf.data.Dataset.from_tensor_slices((vectorized_text, Y))\n",
    "dataset = dataset.cache()\n",
    "dataset = dataset.shuffle(160000)\n",
    "dataset = dataset.batch(16)\n",
    "dataset = dataset.prefetch(8)"
   ]
  },
  {
   "cell_type": "code",
   "execution_count": 22,
   "id": "48de354d",
   "metadata": {
    "execution": {
     "iopub.execute_input": "2023-11-02T14:32:54.404188Z",
     "iopub.status.busy": "2023-11-02T14:32:54.403851Z",
     "iopub.status.idle": "2023-11-02T14:32:58.421805Z",
     "shell.execute_reply": "2023-11-02T14:32:58.420702Z"
    },
    "papermill": {
     "duration": 4.037986,
     "end_time": "2023-11-02T14:32:58.424333",
     "exception": false,
     "start_time": "2023-11-02T14:32:54.386347",
     "status": "completed"
    },
    "tags": []
   },
   "outputs": [],
   "source": [
    "dataset.as_numpy_iterator().next()\n",
    "(batch_x,batch_y)=dataset.as_numpy_iterator().next()"
   ]
  },
  {
   "cell_type": "code",
   "execution_count": 23,
   "id": "92aa59cc",
   "metadata": {
    "execution": {
     "iopub.execute_input": "2023-11-02T14:32:58.459960Z",
     "iopub.status.busy": "2023-11-02T14:32:58.459583Z",
     "iopub.status.idle": "2023-11-02T14:32:58.466253Z",
     "shell.execute_reply": "2023-11-02T14:32:58.465219Z"
    },
    "papermill": {
     "duration": 0.027032,
     "end_time": "2023-11-02T14:32:58.468427",
     "exception": false,
     "start_time": "2023-11-02T14:32:58.441395",
     "status": "completed"
    },
    "tags": []
   },
   "outputs": [
    {
     "data": {
      "text/plain": [
       "(16, 1800)"
      ]
     },
     "execution_count": 23,
     "metadata": {},
     "output_type": "execute_result"
    }
   ],
   "source": [
    "batch_x.shape"
   ]
  },
  {
   "cell_type": "code",
   "execution_count": 24,
   "id": "ddd17f6e",
   "metadata": {
    "execution": {
     "iopub.execute_input": "2023-11-02T14:32:58.502190Z",
     "iopub.status.busy": "2023-11-02T14:32:58.501923Z",
     "iopub.status.idle": "2023-11-02T14:32:58.507895Z",
     "shell.execute_reply": "2023-11-02T14:32:58.506993Z"
    },
    "papermill": {
     "duration": 0.025588,
     "end_time": "2023-11-02T14:32:58.510354",
     "exception": false,
     "start_time": "2023-11-02T14:32:58.484766",
     "status": "completed"
    },
    "tags": []
   },
   "outputs": [
    {
     "data": {
      "text/plain": [
       "(16, 6)"
      ]
     },
     "execution_count": 24,
     "metadata": {},
     "output_type": "execute_result"
    }
   ],
   "source": [
    "batch_y.shape"
   ]
  },
  {
   "cell_type": "markdown",
   "id": "fd788d08",
   "metadata": {
    "papermill": {
     "duration": 0.016558,
     "end_time": "2023-11-02T14:32:58.545933",
     "exception": false,
     "start_time": "2023-11-02T14:32:58.529375",
     "status": "completed"
    },
    "tags": []
   },
   "source": [
    "competing the pieline by particining the data set into train test and vald\n"
   ]
  },
  {
   "cell_type": "code",
   "execution_count": 25,
   "id": "2adc83dc",
   "metadata": {
    "execution": {
     "iopub.execute_input": "2023-11-02T14:32:58.580479Z",
     "iopub.status.busy": "2023-11-02T14:32:58.579758Z",
     "iopub.status.idle": "2023-11-02T14:32:58.590046Z",
     "shell.execute_reply": "2023-11-02T14:32:58.589179Z"
    },
    "papermill": {
     "duration": 0.029729,
     "end_time": "2023-11-02T14:32:58.592104",
     "exception": false,
     "start_time": "2023-11-02T14:32:58.562375",
     "status": "completed"
    },
    "tags": []
   },
   "outputs": [],
   "source": [
    "train=dataset.take(int(len(dataset)*7))\n",
    "vald=dataset.skip(int(len(dataset)*7)).take(int(len(dataset)*2))\n",
    "test=dataset.skip(int(len(dataset)*.9)).take(int(len(dataset)*.1))\n"
   ]
  },
  {
   "cell_type": "code",
   "execution_count": 26,
   "id": "75950243",
   "metadata": {
    "execution": {
     "iopub.execute_input": "2023-11-02T14:32:58.627041Z",
     "iopub.status.busy": "2023-11-02T14:32:58.626278Z",
     "iopub.status.idle": "2023-11-02T14:32:58.632409Z",
     "shell.execute_reply": "2023-11-02T14:32:58.631485Z"
    },
    "papermill": {
     "duration": 0.02624,
     "end_time": "2023-11-02T14:32:58.634956",
     "exception": false,
     "start_time": "2023-11-02T14:32:58.608716",
     "status": "completed"
    },
    "tags": []
   },
   "outputs": [],
   "source": [
    "from tensorflow.keras.models import Sequential\n",
    "from tensorflow.keras.layers import Dense,LSTM,Dropout,Bidirectional,Embedding"
   ]
  },
  {
   "cell_type": "code",
   "execution_count": 27,
   "id": "8423d9fd",
   "metadata": {
    "execution": {
     "iopub.execute_input": "2023-11-02T14:32:58.670921Z",
     "iopub.status.busy": "2023-11-02T14:32:58.670567Z",
     "iopub.status.idle": "2023-11-02T14:32:58.677811Z",
     "shell.execute_reply": "2023-11-02T14:32:58.676831Z"
    },
    "papermill": {
     "duration": 0.027543,
     "end_time": "2023-11-02T14:32:58.680223",
     "exception": false,
     "start_time": "2023-11-02T14:32:58.652680",
     "status": "completed"
    },
    "tags": []
   },
   "outputs": [
    {
     "data": {
      "text/plain": [
       "\"model = Sequential()\\n# Create the embedding layer \\nmodel.add(Embedding(MAX_FETURES+1, 32))\\n# Bidirectional LSTM Layer\\nmodel.add(Bidirectional(LSTM(32, activation='tanh')))\\n# Feature extractor Fully connected layers\\nmodel.add(Dense(128, activation='relu'))\\n#model.add(Dropout(0.2))\\nmodel.add(Dense(256, activation='relu'))\\nmodel.add(Dropout(0.01))\\nmodel.add(Dense(128, activation='relu'))\\n# Final layer \\nmodel.add(Dense(6, activation='sigmoid'))\""
      ]
     },
     "execution_count": 27,
     "metadata": {},
     "output_type": "execute_result"
    }
   ],
   "source": [
    "'''model = Sequential()\n",
    "# Create the embedding layer \n",
    "model.add(Embedding(MAX_FETURES+1, 32))\n",
    "# Bidirectional LSTM Layer\n",
    "model.add(Bidirectional(LSTM(32, activation='tanh')))\n",
    "# Feature extractor Fully connected layers\n",
    "model.add(Dense(128, activation='relu'))\n",
    "#model.add(Dropout(0.2))\n",
    "model.add(Dense(256, activation='relu'))\n",
    "model.add(Dropout(0.01))\n",
    "model.add(Dense(128, activation='relu'))\n",
    "# Final layer \n",
    "model.add(Dense(6, activation='sigmoid'))'''\n"
   ]
  },
  {
   "cell_type": "code",
   "execution_count": 28,
   "id": "f61ee146",
   "metadata": {
    "execution": {
     "iopub.execute_input": "2023-11-02T14:32:58.718626Z",
     "iopub.status.busy": "2023-11-02T14:32:58.718321Z",
     "iopub.status.idle": "2023-11-02T14:32:58.722362Z",
     "shell.execute_reply": "2023-11-02T14:32:58.721434Z"
    },
    "papermill": {
     "duration": 0.023915,
     "end_time": "2023-11-02T14:32:58.724860",
     "exception": false,
     "start_time": "2023-11-02T14:32:58.700945",
     "status": "completed"
    },
    "tags": []
   },
   "outputs": [],
   "source": [
    "#model.compile(loss='BinaryCrossentropy',optimizer='Adam')"
   ]
  },
  {
   "cell_type": "code",
   "execution_count": 29,
   "id": "77827e62",
   "metadata": {
    "execution": {
     "iopub.execute_input": "2023-11-02T14:32:58.762146Z",
     "iopub.status.busy": "2023-11-02T14:32:58.761594Z",
     "iopub.status.idle": "2023-11-02T14:32:58.765451Z",
     "shell.execute_reply": "2023-11-02T14:32:58.764571Z"
    },
    "papermill": {
     "duration": 0.023255,
     "end_time": "2023-11-02T14:32:58.767485",
     "exception": false,
     "start_time": "2023-11-02T14:32:58.744230",
     "status": "completed"
    },
    "tags": []
   },
   "outputs": [],
   "source": [
    "#model.summary()"
   ]
  },
  {
   "cell_type": "code",
   "execution_count": 30,
   "id": "fddfbf19",
   "metadata": {
    "execution": {
     "iopub.execute_input": "2023-11-02T14:32:58.801863Z",
     "iopub.status.busy": "2023-11-02T14:32:58.801050Z",
     "iopub.status.idle": "2023-11-02T14:32:58.805369Z",
     "shell.execute_reply": "2023-11-02T14:32:58.804501Z"
    },
    "papermill": {
     "duration": 0.023647,
     "end_time": "2023-11-02T14:32:58.807557",
     "exception": false,
     "start_time": "2023-11-02T14:32:58.783910",
     "status": "completed"
    },
    "tags": []
   },
   "outputs": [],
   "source": [
    "from keras.callbacks import EarlyStopping"
   ]
  },
  {
   "cell_type": "code",
   "execution_count": 31,
   "id": "61ff88d6",
   "metadata": {
    "execution": {
     "iopub.execute_input": "2023-11-02T14:32:58.842165Z",
     "iopub.status.busy": "2023-11-02T14:32:58.841531Z",
     "iopub.status.idle": "2023-11-02T14:32:58.846386Z",
     "shell.execute_reply": "2023-11-02T14:32:58.845516Z"
    },
    "papermill": {
     "duration": 0.024639,
     "end_time": "2023-11-02T14:32:58.848535",
     "exception": false,
     "start_time": "2023-11-02T14:32:58.823896",
     "status": "completed"
    },
    "tags": []
   },
   "outputs": [],
   "source": [
    "es = EarlyStopping(monitor='val_loss',patience = 3, verbose=1,restore_best_weights=True)"
   ]
  },
  {
   "cell_type": "code",
   "execution_count": 32,
   "id": "6b69326d",
   "metadata": {
    "execution": {
     "iopub.execute_input": "2023-11-02T14:32:58.882767Z",
     "iopub.status.busy": "2023-11-02T14:32:58.882493Z",
     "iopub.status.idle": "2023-11-02T14:32:59.511662Z",
     "shell.execute_reply": "2023-11-02T14:32:59.510813Z"
    },
    "papermill": {
     "duration": 0.649036,
     "end_time": "2023-11-02T14:32:59.514110",
     "exception": false,
     "start_time": "2023-11-02T14:32:58.865074",
     "status": "completed"
    },
    "tags": []
   },
   "outputs": [],
   "source": [
    "model = tf.keras.models.load_model('/kaggle/working/comment-toxicity-detecttion-/commenttoxicity (1).h5')"
   ]
  },
  {
   "cell_type": "code",
   "execution_count": 33,
   "id": "8d6767ba",
   "metadata": {
    "execution": {
     "iopub.execute_input": "2023-11-02T14:32:59.549507Z",
     "iopub.status.busy": "2023-11-02T14:32:59.548837Z",
     "iopub.status.idle": "2023-11-02T18:37:05.367434Z",
     "shell.execute_reply": "2023-11-02T18:37:05.366306Z"
    },
    "papermill": {
     "duration": 14645.838938,
     "end_time": "2023-11-02T18:37:05.370354",
     "exception": false,
     "start_time": "2023-11-02T14:32:59.531416",
     "status": "completed"
    },
    "tags": []
   },
   "outputs": [
    {
     "name": "stdout",
     "output_type": "stream",
     "text": [
      "Epoch 1/15\n",
      "9974/9974 [==============================] - 974s 97ms/step - loss: 0.0026\n",
      "Epoch 2/15\n",
      "9974/9974 [==============================] - 967s 97ms/step - loss: 0.0026\n",
      "Epoch 3/15\n",
      "9974/9974 [==============================] - 968s 97ms/step - loss: 0.0026\n",
      "Epoch 4/15\n",
      "9974/9974 [==============================] - 968s 97ms/step - loss: 0.0024\n",
      "Epoch 5/15\n",
      "9974/9974 [==============================] - 972s 97ms/step - loss: 0.0025\n",
      "Epoch 6/15\n",
      "9974/9974 [==============================] - 977s 98ms/step - loss: 0.0025\n",
      "Epoch 7/15\n",
      "9974/9974 [==============================] - 977s 98ms/step - loss: 0.0025\n",
      "Epoch 8/15\n",
      "9974/9974 [==============================] - 977s 98ms/step - loss: 0.0027\n",
      "Epoch 9/15\n",
      "9974/9974 [==============================] - 976s 98ms/step - loss: 0.0024\n",
      "Epoch 10/15\n",
      "9974/9974 [==============================] - 977s 98ms/step - loss: 0.0028\n",
      "Epoch 11/15\n",
      "9974/9974 [==============================] - 979s 98ms/step - loss: 0.0022\n",
      "Epoch 12/15\n",
      "9974/9974 [==============================] - 979s 98ms/step - loss: 0.0025\n",
      "Epoch 13/15\n",
      "9974/9974 [==============================] - 978s 98ms/step - loss: 0.0024\n",
      "Epoch 14/15\n",
      "9974/9974 [==============================] - 974s 98ms/step - loss: 0.0023\n",
      "Epoch 15/15\n",
      "9974/9974 [==============================] - 971s 97ms/step - loss: 0.0028\n"
     ]
    }
   ],
   "source": [
    "history = model.fit(train, epochs=15,validation_data=vald,callbacks=[es])"
   ]
  },
  {
   "cell_type": "code",
   "execution_count": 34,
   "id": "ef9d0b04",
   "metadata": {
    "execution": {
     "iopub.execute_input": "2023-11-02T18:37:28.552171Z",
     "iopub.status.busy": "2023-11-02T18:37:28.551776Z",
     "iopub.status.idle": "2023-11-02T18:37:28.683668Z",
     "shell.execute_reply": "2023-11-02T18:37:28.682620Z"
    },
    "papermill": {
     "duration": 11.750408,
     "end_time": "2023-11-02T18:37:28.686297",
     "exception": false,
     "start_time": "2023-11-02T18:37:16.935889",
     "status": "completed"
    },
    "tags": []
   },
   "outputs": [],
   "source": [
    "model.save('commenttoxicity.h5')"
   ]
  },
  {
   "cell_type": "code",
   "execution_count": 35,
   "id": "de3492a4",
   "metadata": {
    "execution": {
     "iopub.execute_input": "2023-11-02T18:37:51.855682Z",
     "iopub.status.busy": "2023-11-02T18:37:51.854970Z",
     "iopub.status.idle": "2023-11-02T18:37:52.113680Z",
     "shell.execute_reply": "2023-11-02T18:37:52.112695Z"
    },
    "papermill": {
     "duration": 11.831235,
     "end_time": "2023-11-02T18:37:52.116057",
     "exception": false,
     "start_time": "2023-11-02T18:37:40.284822",
     "status": "completed"
    },
    "tags": []
   },
   "outputs": [
    {
     "data": {
      "text/plain": [
       "<Figure size 576x144 with 0 Axes>"
      ]
     },
     "metadata": {},
     "output_type": "display_data"
    },
    {
     "data": {
      "image/png": "[encoded data removed]",
      "text/plain": [
       "<Figure size 432x288 with 1 Axes>"
      ]
     },
     "metadata": {
      "needs_background": "light"
     },
     "output_type": "display_data"
    }
   ],
   "source": [
    "from matplotlib import pyplot as plt\n",
    "plt.figure(figsize=(8,2))\n",
    "pd.DataFrame(history.history).plot()\n",
    "plt.show()"
   ]
  },
  {
   "cell_type": "markdown",
   "id": "a21928a2",
   "metadata": {
    "papermill": {
     "duration": 11.455221,
     "end_time": "2023-11-02T18:38:15.114074",
     "exception": false,
     "start_time": "2023-11-02T18:38:03.658853",
     "status": "completed"
    },
    "tags": []
   },
   "source": [
    "predition time"
   ]
  },
  {
   "cell_type": "code",
   "execution_count": 36,
   "id": "5222b3a8",
   "metadata": {
    "execution": {
     "iopub.execute_input": "2023-11-02T18:38:38.011533Z",
     "iopub.status.busy": "2023-11-02T18:38:38.011079Z",
     "iopub.status.idle": "2023-11-02T18:38:40.378577Z",
     "shell.execute_reply": "2023-11-02T18:38:40.377647Z"
    },
    "papermill": {
     "duration": 13.752681,
     "end_time": "2023-11-02T18:38:40.381091",
     "exception": false,
     "start_time": "2023-11-02T18:38:26.628410",
     "status": "completed"
    },
    "tags": []
   },
   "outputs": [],
   "source": [
    "batch=test.as_numpy_iterator().next() "
   ]
  },
  {
   "cell_type": "code",
   "execution_count": 37,
   "id": "d5ece578",
   "metadata": {
    "execution": {
     "iopub.execute_input": "2023-11-02T18:39:03.680298Z",
     "iopub.status.busy": "2023-11-02T18:39:03.679906Z",
     "iopub.status.idle": "2023-11-02T18:39:03.696721Z",
     "shell.execute_reply": "2023-11-02T18:39:03.695993Z"
    },
    "papermill": {
     "duration": 11.576261,
     "end_time": "2023-11-02T18:39:03.698624",
     "exception": false,
     "start_time": "2023-11-02T18:38:52.122363",
     "status": "completed"
    },
    "tags": []
   },
   "outputs": [],
   "source": [
    "input_text=vecterizor('You are so horible. I hate you')"
   ]
  },
  {
   "cell_type": "code",
   "execution_count": 38,
   "id": "a6d41345",
   "metadata": {
    "execution": {
     "iopub.execute_input": "2023-11-02T18:39:26.745668Z",
     "iopub.status.busy": "2023-11-02T18:39:26.744821Z",
     "iopub.status.idle": "2023-11-02T18:39:26.751961Z",
     "shell.execute_reply": "2023-11-02T18:39:26.750997Z"
    },
    "papermill": {
     "duration": 11.676815,
     "end_time": "2023-11-02T18:39:26.754715",
     "exception": false,
     "start_time": "2023-11-02T18:39:15.077900",
     "status": "completed"
    },
    "tags": []
   },
   "outputs": [
    {
     "data": {
      "text/plain": [
       "<tf.Tensor: shape=(1800,), dtype=int64, numpy=array([ 7, 20, 37, ...,  0,  0,  0])>"
      ]
     },
     "execution_count": 38,
     "metadata": {},
     "output_type": "execute_result"
    }
   ],
   "source": [
    "input_text"
   ]
  },
  {
   "cell_type": "code",
   "execution_count": 39,
   "id": "59990d70",
   "metadata": {
    "execution": {
     "iopub.execute_input": "2023-11-02T18:39:49.695792Z",
     "iopub.status.busy": "2023-11-02T18:39:49.695000Z",
     "iopub.status.idle": "2023-11-02T18:39:49.701972Z",
     "shell.execute_reply": "2023-11-02T18:39:49.701012Z"
    },
    "papermill": {
     "duration": 11.437519,
     "end_time": "2023-11-02T18:39:49.704131",
     "exception": false,
     "start_time": "2023-11-02T18:39:38.266612",
     "status": "completed"
    },
    "tags": []
   },
   "outputs": [
    {
     "data": {
      "text/plain": [
       "array([[ 7, 20, 37, ...,  0,  0,  0]])"
      ]
     },
     "execution_count": 39,
     "metadata": {},
     "output_type": "execute_result"
    }
   ],
   "source": [
    "np.expand_dims(input_text,0)"
   ]
  },
  {
   "cell_type": "code",
   "execution_count": 40,
   "id": "90548f59",
   "metadata": {
    "execution": {
     "iopub.execute_input": "2023-11-02T18:40:12.948325Z",
     "iopub.status.busy": "2023-11-02T18:40:12.947363Z",
     "iopub.status.idle": "2023-11-02T18:40:13.588903Z",
     "shell.execute_reply": "2023-11-02T18:40:13.587856Z"
    },
    "papermill": {
     "duration": 12.167714,
     "end_time": "2023-11-02T18:40:13.591116",
     "exception": false,
     "start_time": "2023-11-02T18:40:01.423402",
     "status": "completed"
    },
    "tags": []
   },
   "outputs": [
    {
     "data": {
      "text/plain": [
       "array([[9.9350196e-01, 1.4216711e-02, 2.0995833e-02, 4.9068588e-10,\n",
       "        8.4779090e-01, 2.9562155e-03]], dtype=float32)"
      ]
     },
     "execution_count": 40,
     "metadata": {},
     "output_type": "execute_result"
    }
   ],
   "source": [
    "model.predict(np.expand_dims(input_text,0))"
   ]
  },
  {
   "cell_type": "code",
   "execution_count": 41,
   "id": "0801c75f",
   "metadata": {
    "execution": {
     "iopub.execute_input": "2023-11-02T18:40:36.739859Z",
     "iopub.status.busy": "2023-11-02T18:40:36.739420Z",
     "iopub.status.idle": "2023-11-02T18:40:36.818933Z",
     "shell.execute_reply": "2023-11-02T18:40:36.817919Z"
    },
    "papermill": {
     "duration": 11.606386,
     "end_time": "2023-11-02T18:40:36.821109",
     "exception": false,
     "start_time": "2023-11-02T18:40:25.214723",
     "status": "completed"
    },
    "tags": []
   },
   "outputs": [
    {
     "data": {
      "text/plain": [
       "array([[9.9350196e-01, 1.4216711e-02, 2.0995833e-02, 4.9068588e-10,\n",
       "        8.4779090e-01, 2.9562155e-03]], dtype=float32)"
      ]
     },
     "execution_count": 41,
     "metadata": {},
     "output_type": "execute_result"
    }
   ],
   "source": [
    "model.predict(np.expand_dims(input_text,0))"
   ]
  },
  {
   "cell_type": "code",
   "execution_count": 42,
   "id": "b4d44baf",
   "metadata": {
    "execution": {
     "iopub.execute_input": "2023-11-02T18:40:59.976923Z",
     "iopub.status.busy": "2023-11-02T18:40:59.976518Z",
     "iopub.status.idle": "2023-11-02T18:41:02.324415Z",
     "shell.execute_reply": "2023-11-02T18:41:02.323347Z"
    },
    "papermill": {
     "duration": 13.897006,
     "end_time": "2023-11-02T18:41:02.326967",
     "exception": false,
     "start_time": "2023-11-02T18:40:48.429961",
     "status": "completed"
    },
    "tags": []
   },
   "outputs": [],
   "source": [
    "batch_X,batch_Y=test.as_numpy_iterator().next() "
   ]
  },
  {
   "cell_type": "code",
   "execution_count": 43,
   "id": "fffb1411",
   "metadata": {
    "execution": {
     "iopub.execute_input": "2023-11-02T18:41:25.358948Z",
     "iopub.status.busy": "2023-11-02T18:41:25.358568Z",
     "iopub.status.idle": "2023-11-02T18:41:25.460867Z",
     "shell.execute_reply": "2023-11-02T18:41:25.459736Z"
    },
    "papermill": {
     "duration": 11.621261,
     "end_time": "2023-11-02T18:41:25.463026",
     "exception": false,
     "start_time": "2023-11-02T18:41:13.841765",
     "status": "completed"
    },
    "tags": []
   },
   "outputs": [
    {
     "data": {
      "text/plain": [
       "array([[0, 0, 0, 0, 0, 0],\n",
       "       [0, 0, 0, 0, 0, 0],\n",
       "       [0, 0, 0, 0, 0, 0],\n",
       "       [0, 0, 0, 0, 0, 0],\n",
       "       [0, 0, 0, 0, 1, 0],\n",
       "       [0, 0, 0, 0, 0, 0],\n",
       "       [0, 0, 0, 0, 0, 0],\n",
       "       [0, 0, 0, 0, 0, 0],\n",
       "       [0, 0, 0, 0, 0, 0],\n",
       "       [0, 0, 0, 0, 0, 0],\n",
       "       [0, 0, 0, 0, 0, 0],\n",
       "       [1, 0, 1, 0, 1, 0],\n",
       "       [0, 0, 0, 0, 0, 0],\n",
       "       [0, 0, 0, 0, 0, 0],\n",
       "       [0, 0, 0, 0, 0, 0],\n",
       "       [0, 0, 0, 0, 0, 0]])"
      ]
     },
     "execution_count": 43,
     "metadata": {},
     "output_type": "execute_result"
    }
   ],
   "source": [
    "(model.predict(batch_X)>0.5).astype(int)"
   ]
  },
  {
   "cell_type": "code",
   "execution_count": 44,
   "id": "49f16c0d",
   "metadata": {
    "execution": {
     "iopub.execute_input": "2023-11-02T18:41:48.626549Z",
     "iopub.status.busy": "2023-11-02T18:41:48.626165Z",
     "iopub.status.idle": "2023-11-02T18:41:48.632818Z",
     "shell.execute_reply": "2023-11-02T18:41:48.631956Z"
    },
    "papermill": {
     "duration": 11.606223,
     "end_time": "2023-11-02T18:41:48.635007",
     "exception": false,
     "start_time": "2023-11-02T18:41:37.028784",
     "status": "completed"
    },
    "tags": []
   },
   "outputs": [
    {
     "data": {
      "text/plain": [
       "array([[0, 0, 0, 0, 0, 0],\n",
       "       [0, 0, 0, 0, 0, 0],\n",
       "       [0, 0, 0, 0, 0, 0],\n",
       "       [0, 0, 0, 0, 0, 0],\n",
       "       [0, 0, 0, 0, 1, 0],\n",
       "       [0, 0, 0, 0, 0, 0],\n",
       "       [0, 0, 0, 0, 0, 0],\n",
       "       [0, 0, 0, 0, 0, 0],\n",
       "       [0, 0, 0, 0, 0, 0],\n",
       "       [0, 0, 0, 0, 0, 0],\n",
       "       [0, 0, 0, 0, 0, 0],\n",
       "       [1, 0, 1, 0, 1, 0],\n",
       "       [0, 0, 0, 0, 0, 0],\n",
       "       [0, 0, 0, 0, 0, 0],\n",
       "       [0, 0, 0, 0, 0, 0],\n",
       "       [0, 0, 0, 0, 0, 0]])"
      ]
     },
     "execution_count": 44,
     "metadata": {},
     "output_type": "execute_result"
    }
   ],
   "source": [
    "batch_Y"
   ]
  },
  {
   "cell_type": "code",
   "execution_count": 45,
   "id": "d8456ff9",
   "metadata": {
    "execution": {
     "iopub.execute_input": "2023-11-02T18:42:11.851659Z",
     "iopub.status.busy": "2023-11-02T18:42:11.851235Z",
     "iopub.status.idle": "2023-11-02T18:42:11.931963Z",
     "shell.execute_reply": "2023-11-02T18:42:11.931100Z"
    },
    "papermill": {
     "duration": 11.77645,
     "end_time": "2023-11-02T18:42:11.934239",
     "exception": false,
     "start_time": "2023-11-02T18:42:00.157789",
     "status": "completed"
    },
    "tags": []
   },
   "outputs": [],
   "source": [
    "res=model.predict(np.expand_dims(input_text,0))"
   ]
  },
  {
   "cell_type": "raw",
   "id": "259e91b0",
   "metadata": {
    "papermill": {
     "duration": 11.58107,
     "end_time": "2023-11-02T18:42:35.076404",
     "exception": false,
     "start_time": "2023-11-02T18:42:23.495334",
     "status": "completed"
    },
    "tags": []
   },
   "source": [
    "res"
   ]
  },
  {
   "cell_type": "code",
   "execution_count": 46,
   "id": "3c17108e",
   "metadata": {
    "execution": {
     "iopub.execute_input": "2023-11-02T18:42:58.123583Z",
     "iopub.status.busy": "2023-11-02T18:42:58.122835Z",
     "iopub.status.idle": "2023-11-02T18:42:58.128747Z",
     "shell.execute_reply": "2023-11-02T18:42:58.127789Z"
    },
    "papermill": {
     "duration": 11.546498,
     "end_time": "2023-11-02T18:42:58.130957",
     "exception": false,
     "start_time": "2023-11-02T18:42:46.584459",
     "status": "completed"
    },
    "tags": []
   },
   "outputs": [],
   "source": [
    "from tensorflow.keras.metrics import Precision, Recall, CategoricalAccuracy"
   ]
  },
  {
   "cell_type": "code",
   "execution_count": 47,
   "id": "8bacb8f6",
   "metadata": {
    "execution": {
     "iopub.execute_input": "2023-11-02T18:43:21.368192Z",
     "iopub.status.busy": "2023-11-02T18:43:21.367814Z",
     "iopub.status.idle": "2023-11-02T18:43:21.380741Z",
     "shell.execute_reply": "2023-11-02T18:43:21.379971Z"
    },
    "papermill": {
     "duration": 11.667635,
     "end_time": "2023-11-02T18:43:21.382810",
     "exception": false,
     "start_time": "2023-11-02T18:43:09.715175",
     "status": "completed"
    },
    "tags": []
   },
   "outputs": [],
   "source": [
    "pre = Precision()\n",
    "re = Recall()\n",
    "acc = CategoricalAccuracy()"
   ]
  },
  {
   "cell_type": "code",
   "execution_count": 48,
   "id": "609478dc",
   "metadata": {
    "execution": {
     "iopub.execute_input": "2023-11-02T18:43:44.438375Z",
     "iopub.status.busy": "2023-11-02T18:43:44.437993Z",
     "iopub.status.idle": "2023-11-02T18:45:10.493974Z",
     "shell.execute_reply": "2023-11-02T18:45:10.493122Z"
    },
    "papermill": {
     "duration": 97.559694,
     "end_time": "2023-11-02T18:45:10.496687",
     "exception": false,
     "start_time": "2023-11-02T18:43:32.936993",
     "status": "completed"
    },
    "tags": []
   },
   "outputs": [],
   "source": [
    "for batch in test.as_numpy_iterator(): \n",
    "    # Unpack the batch \n",
    "    X_true, y_true = batch\n",
    "    # Make a prediction \n",
    "    yhat = model.predict(X_true)\n",
    "    \n",
    "    # Flatten the predictions\n",
    "    y_true = y_true.flatten()\n",
    "    yhat = yhat.flatten()\n",
    "    \n",
    "    pre.update_state(y_true, yhat)\n",
    "    re.update_state(y_true, yhat)\n",
    "    acc.update_state(y_true, yhat)"
   ]
  },
  {
   "cell_type": "code",
   "execution_count": 49,
   "id": "f7e9b057",
   "metadata": {
    "execution": {
     "iopub.execute_input": "2023-11-02T18:45:33.483334Z",
     "iopub.status.busy": "2023-11-02T18:45:33.482974Z",
     "iopub.status.idle": "2023-11-02T18:45:33.492344Z",
     "shell.execute_reply": "2023-11-02T18:45:33.491226Z"
    },
    "papermill": {
     "duration": 11.564494,
     "end_time": "2023-11-02T18:45:33.494455",
     "exception": false,
     "start_time": "2023-11-02T18:45:21.929961",
     "status": "completed"
    },
    "tags": []
   },
   "outputs": [
    {
     "name": "stdout",
     "output_type": "stream",
     "text": [
      "Precision: 0.9960991740226746, Recall:0.9938837885856628, Accuracy:0.567703127861023\n"
     ]
    }
   ],
   "source": [
    "print(f'Precision: {pre.result().numpy()}, Recall:{re.result().numpy()}, Accuracy:{acc.result().numpy()}')"
   ]
  },
  {
   "cell_type": "code",
   "execution_count": null,
   "id": "42c21c28",
   "metadata": {
    "execution": {
     "iopub.status.busy": "2023-10-13T05:31:32.069407Z",
     "iopub.status.idle": "2023-10-13T05:31:32.069932Z",
     "shell.execute_reply": "2023-10-13T05:31:32.069690Z",
     "shell.execute_reply.started": "2023-10-13T05:31:32.069665Z"
    },
    "papermill": {
     "duration": 11.469456,
     "end_time": "2023-11-02T18:45:56.508992",
     "exception": false,
     "start_time": "2023-11-02T18:45:45.039536",
     "status": "completed"
    },
    "tags": []
   },
   "outputs": [],
   "source": []
  }
 ],
 "metadata": {
  "kernelspec": {
   "display_name": "Python 3",
   "language": "python",
   "name": "python3"
  },
  "language_info": {
   "codemirror_mode": {
    "name": "ipython",
    "version": 3
   },
   "file_extension": ".py",
   "mimetype": "text/x-python",
   "name": "python",
   "nbconvert_exporter": "python",
   "pygments_lexer": "ipython3",
   "version": "3.7.12"
  },
  "papermill": {
   "default_parameters": {},
   "duration": 15251.979983,
   "end_time": "2023-11-02T18:46:10.896360",
   "environment_variables": {},
   "exception": null,
   "input_path": "__notebook__.ipynb",
   "output_path": "__notebook__.ipynb",
   "parameters": {},
   "start_time": "2023-11-02T14:31:58.916377",
   "version": "2.3.4"
  }
 },
 "nbformat": 4,
 "nbformat_minor": 5
}
