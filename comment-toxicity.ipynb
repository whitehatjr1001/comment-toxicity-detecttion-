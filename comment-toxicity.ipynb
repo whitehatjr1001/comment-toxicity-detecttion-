{
 "cells": [
  {
   "cell_type": "code",
   "execution_count": 1,
   "id": "db40444b",
   "metadata": {
    "execution": {
     "iopub.execute_input": "2023-11-02T06:41:19.057577Z",
     "iopub.status.busy": "2023-11-02T06:41:19.057141Z",
     "iopub.status.idle": "2023-11-02T06:41:23.359772Z",
     "shell.execute_reply": "2023-11-02T06:41:23.358945Z"
    },
    "papermill": {
     "duration": 4.322562,
     "end_time": "2023-11-02T06:41:23.362367",
     "exception": false,
     "start_time": "2023-11-02T06:41:19.039805",
     "status": "completed"
    },
    "tags": []
   },
   "outputs": [],
   "source": [
    "import os\n",
    "import tensorflow as tf\n",
    "import numpy as np\n",
    "import pandas as pd\n",
    "\n",
    "\n"
   ]
  },
  {
   "cell_type": "code",
   "execution_count": 2,
   "id": "e6297353",
   "metadata": {
    "execution": {
     "iopub.execute_input": "2023-11-02T06:41:23.391993Z",
     "iopub.status.busy": "2023-11-02T06:41:23.391453Z",
     "iopub.status.idle": "2023-11-02T06:41:25.029021Z",
     "shell.execute_reply": "2023-11-02T06:41:25.027819Z"
    },
    "papermill": {
     "duration": 1.655065,
     "end_time": "2023-11-02T06:41:25.031864",
     "exception": false,
     "start_time": "2023-11-02T06:41:23.376799",
     "status": "completed"
    },
    "tags": []
   },
   "outputs": [
    {
     "name": "stdout",
     "output_type": "stream",
     "text": [
      "Archive:  /kaggle/input/jigsaw-toxic-comment-classification-challenge/test.csv.zip\r\n",
      "  inflating: test.csv                \r\n"
     ]
    }
   ],
   "source": [
    "!unzip /kaggle/input/jigsaw-toxic-comment-classification-challenge/test.csv.zip\n"
   ]
  },
  {
   "cell_type": "code",
   "execution_count": 3,
   "id": "be12b690",
   "metadata": {
    "execution": {
     "iopub.execute_input": "2023-11-02T06:41:25.063294Z",
     "iopub.status.busy": "2023-11-02T06:41:25.062954Z",
     "iopub.status.idle": "2023-11-02T06:41:26.784577Z",
     "shell.execute_reply": "2023-11-02T06:41:26.783489Z"
    },
    "papermill": {
     "duration": 1.739409,
     "end_time": "2023-11-02T06:41:26.786946",
     "exception": false,
     "start_time": "2023-11-02T06:41:25.047537",
     "status": "completed"
    },
    "tags": []
   },
   "outputs": [
    {
     "name": "stdout",
     "output_type": "stream",
     "text": [
      "Archive:  /kaggle/input/jigsaw-toxic-comment-classification-challenge/train.csv.zip\r\n",
      "  inflating: train.csv               \r\n"
     ]
    }
   ],
   "source": [
    "!unzip /kaggle/input/jigsaw-toxic-comment-classification-challenge/train.csv.zip"
   ]
  },
  {
   "cell_type": "code",
   "execution_count": 4,
   "id": "236118c9",
   "metadata": {
    "execution": {
     "iopub.execute_input": "2023-11-02T06:41:26.817385Z",
     "iopub.status.busy": "2023-11-02T06:41:26.816812Z",
     "iopub.status.idle": "2023-11-02T06:41:26.979124Z",
     "shell.execute_reply": "2023-11-02T06:41:26.977990Z"
    },
    "papermill": {
     "duration": 0.17982,
     "end_time": "2023-11-02T06:41:26.981222",
     "exception": false,
     "start_time": "2023-11-02T06:41:26.801402",
     "status": "completed"
    },
    "tags": []
   },
   "outputs": [],
   "source": [
    "physical_devices = tf.config.list_physical_devices('GPU')"
   ]
  },
  {
   "cell_type": "code",
   "execution_count": 5,
   "id": "c85050d7",
   "metadata": {
    "execution": {
     "iopub.execute_input": "2023-11-02T06:41:27.011242Z",
     "iopub.status.busy": "2023-11-02T06:41:27.010549Z",
     "iopub.status.idle": "2023-11-02T06:41:39.930799Z",
     "shell.execute_reply": "2023-11-02T06:41:39.929753Z"
    },
    "papermill": {
     "duration": 12.937833,
     "end_time": "2023-11-02T06:41:39.933504",
     "exception": false,
     "start_time": "2023-11-02T06:41:26.995671",
     "status": "completed"
    },
    "tags": []
   },
   "outputs": [
    {
     "name": "stdout",
     "output_type": "stream",
     "text": [
      "Cloning into 'comment-toxicity-detecttion-'...\r\n",
      "remote: Enumerating objects: 49, done.\u001b[K\r\n",
      "remote: Counting objects: 100% (32/32), done.\u001b[K\r\n",
      "remote: Compressing objects: 100% (23/23), done.\u001b[K\r\n",
      "remote: Total 49 (delta 7), reused 30 (delta 7), pack-reused 17\u001b[K\r\n",
      "Unpacking objects: 100% (49/49), 94.88 MiB | 9.42 MiB/s, done.\r\n"
     ]
    }
   ],
   "source": [
    "!git clone https://github.com/whitehatjr1001/comment-toxicity-detecttion-.git"
   ]
  },
  {
   "cell_type": "code",
   "execution_count": 6,
   "id": "0bbba2ce",
   "metadata": {
    "execution": {
     "iopub.execute_input": "2023-11-02T06:41:39.965564Z",
     "iopub.status.busy": "2023-11-02T06:41:39.965238Z",
     "iopub.status.idle": "2023-11-02T06:41:40.898467Z",
     "shell.execute_reply": "2023-11-02T06:41:40.897613Z"
    },
    "papermill": {
     "duration": 0.952208,
     "end_time": "2023-11-02T06:41:40.900852",
     "exception": false,
     "start_time": "2023-11-02T06:41:39.948644",
     "status": "completed"
    },
    "tags": []
   },
   "outputs": [],
   "source": [
    "data = pd.read_csv('/kaggle/working/train.csv')"
   ]
  },
  {
   "cell_type": "code",
   "execution_count": 7,
   "id": "990e34f7",
   "metadata": {
    "execution": {
     "iopub.execute_input": "2023-11-02T06:41:40.934175Z",
     "iopub.status.busy": "2023-11-02T06:41:40.933879Z",
     "iopub.status.idle": "2023-11-02T06:41:40.956833Z",
     "shell.execute_reply": "2023-11-02T06:41:40.955857Z"
    },
    "papermill": {
     "duration": 0.041565,
     "end_time": "2023-11-02T06:41:40.958847",
     "exception": false,
     "start_time": "2023-11-02T06:41:40.917282",
     "status": "completed"
    },
    "tags": []
   },
   "outputs": [
    {
     "data": {
      "text/html": [
       "<div>\n",
       "<style scoped>\n",
       "    .dataframe tbody tr th:only-of-type {\n",
       "        vertical-align: middle;\n",
       "    }\n",
       "\n",
       "    .dataframe tbody tr th {\n",
       "        vertical-align: top;\n",
       "    }\n",
       "\n",
       "    .dataframe thead th {\n",
       "        text-align: right;\n",
       "    }\n",
       "</style>\n",
       "<table border=\"1\" class=\"dataframe\">\n",
       "  <thead>\n",
       "    <tr style=\"text-align: right;\">\n",
       "      <th></th>\n",
       "      <th>id</th>\n",
       "      <th>comment_text</th>\n",
       "      <th>toxic</th>\n",
       "      <th>severe_toxic</th>\n",
       "      <th>obscene</th>\n",
       "      <th>threat</th>\n",
       "      <th>insult</th>\n",
       "      <th>identity_hate</th>\n",
       "    </tr>\n",
       "  </thead>\n",
       "  <tbody>\n",
       "    <tr>\n",
       "      <th>0</th>\n",
       "      <td>0000997932d777bf</td>\n",
       "      <td>Explanation\\nWhy the edits made under my usern...</td>\n",
       "      <td>0</td>\n",
       "      <td>0</td>\n",
       "      <td>0</td>\n",
       "      <td>0</td>\n",
       "      <td>0</td>\n",
       "      <td>0</td>\n",
       "    </tr>\n",
       "    <tr>\n",
       "      <th>1</th>\n",
       "      <td>000103f0d9cfb60f</td>\n",
       "      <td>D'aww! He matches this background colour I'm s...</td>\n",
       "      <td>0</td>\n",
       "      <td>0</td>\n",
       "      <td>0</td>\n",
       "      <td>0</td>\n",
       "      <td>0</td>\n",
       "      <td>0</td>\n",
       "    </tr>\n",
       "    <tr>\n",
       "      <th>2</th>\n",
       "      <td>000113f07ec002fd</td>\n",
       "      <td>Hey man, I'm really not trying to edit war. It...</td>\n",
       "      <td>0</td>\n",
       "      <td>0</td>\n",
       "      <td>0</td>\n",
       "      <td>0</td>\n",
       "      <td>0</td>\n",
       "      <td>0</td>\n",
       "    </tr>\n",
       "    <tr>\n",
       "      <th>3</th>\n",
       "      <td>0001b41b1c6bb37e</td>\n",
       "      <td>\"\\nMore\\nI can't make any real suggestions on ...</td>\n",
       "      <td>0</td>\n",
       "      <td>0</td>\n",
       "      <td>0</td>\n",
       "      <td>0</td>\n",
       "      <td>0</td>\n",
       "      <td>0</td>\n",
       "    </tr>\n",
       "    <tr>\n",
       "      <th>4</th>\n",
       "      <td>0001d958c54c6e35</td>\n",
       "      <td>You, sir, are my hero. Any chance you remember...</td>\n",
       "      <td>0</td>\n",
       "      <td>0</td>\n",
       "      <td>0</td>\n",
       "      <td>0</td>\n",
       "      <td>0</td>\n",
       "      <td>0</td>\n",
       "    </tr>\n",
       "  </tbody>\n",
       "</table>\n",
       "</div>"
      ],
      "text/plain": [
       "                 id                                       comment_text  toxic  \\\n",
       "0  0000997932d777bf  Explanation\\nWhy the edits made under my usern...      0   \n",
       "1  000103f0d9cfb60f  D'aww! He matches this background colour I'm s...      0   \n",
       "2  000113f07ec002fd  Hey man, I'm really not trying to edit war. It...      0   \n",
       "3  0001b41b1c6bb37e  \"\\nMore\\nI can't make any real suggestions on ...      0   \n",
       "4  0001d958c54c6e35  You, sir, are my hero. Any chance you remember...      0   \n",
       "\n",
       "   severe_toxic  obscene  threat  insult  identity_hate  \n",
       "0             0        0       0       0              0  \n",
       "1             0        0       0       0              0  \n",
       "2             0        0       0       0              0  \n",
       "3             0        0       0       0              0  \n",
       "4             0        0       0       0              0  "
      ]
     },
     "execution_count": 7,
     "metadata": {},
     "output_type": "execute_result"
    }
   ],
   "source": [
    "data.head()"
   ]
  },
  {
   "cell_type": "code",
   "execution_count": 8,
   "id": "2624cbf9",
   "metadata": {
    "execution": {
     "iopub.execute_input": "2023-11-02T06:41:40.990144Z",
     "iopub.status.busy": "2023-11-02T06:41:40.989839Z",
     "iopub.status.idle": "2023-11-02T06:41:41.001105Z",
     "shell.execute_reply": "2023-11-02T06:41:41.000209Z"
    },
    "papermill": {
     "duration": 0.029243,
     "end_time": "2023-11-02T06:41:41.003243",
     "exception": false,
     "start_time": "2023-11-02T06:41:40.974000",
     "status": "completed"
    },
    "tags": []
   },
   "outputs": [
    {
     "data": {
      "text/plain": [
       "0         6\n",
       "1         6\n",
       "2         6\n",
       "3         6\n",
       "4         6\n",
       "         ..\n",
       "159566    6\n",
       "159567    6\n",
       "159568    6\n",
       "159569    6\n",
       "159570    6\n",
       "Length: 159571, dtype: int64"
      ]
     },
     "execution_count": 8,
     "metadata": {},
     "output_type": "execute_result"
    }
   ],
   "source": [
    "data.count(axis=1,level=None,numeric_only=True)"
   ]
  },
  {
   "cell_type": "code",
   "execution_count": 9,
   "id": "9bd68f3a",
   "metadata": {
    "execution": {
     "iopub.execute_input": "2023-11-02T06:41:41.034504Z",
     "iopub.status.busy": "2023-11-02T06:41:41.034229Z",
     "iopub.status.idle": "2023-11-02T06:41:41.048576Z",
     "shell.execute_reply": "2023-11-02T06:41:41.047755Z"
    },
    "papermill": {
     "duration": 0.032362,
     "end_time": "2023-11-02T06:41:41.050682",
     "exception": false,
     "start_time": "2023-11-02T06:41:41.018320",
     "status": "completed"
    },
    "tags": []
   },
   "outputs": [
    {
     "data": {
      "text/plain": [
       "144277"
      ]
     },
     "execution_count": 9,
     "metadata": {},
     "output_type": "execute_result"
    }
   ],
   "source": [
    "x=data['toxic'].value_counts()[0]\n",
    "x\n"
   ]
  },
  {
   "cell_type": "code",
   "execution_count": 10,
   "id": "d81162ac",
   "metadata": {
    "execution": {
     "iopub.execute_input": "2023-11-02T06:41:41.082196Z",
     "iopub.status.busy": "2023-11-02T06:41:41.081939Z",
     "iopub.status.idle": "2023-11-02T06:41:41.089475Z",
     "shell.execute_reply": "2023-11-02T06:41:41.088622Z"
    },
    "papermill": {
     "duration": 0.025549,
     "end_time": "2023-11-02T06:41:41.091501",
     "exception": false,
     "start_time": "2023-11-02T06:41:41.065952",
     "status": "completed"
    },
    "tags": []
   },
   "outputs": [
    {
     "data": {
      "text/plain": [
       "15294"
      ]
     },
     "execution_count": 10,
     "metadata": {},
     "output_type": "execute_result"
    }
   ],
   "source": [
    "y=data['toxic'].value_counts()[1]\n",
    "y\n"
   ]
  },
  {
   "cell_type": "code",
   "execution_count": 11,
   "id": "8da2efb7",
   "metadata": {
    "execution": {
     "iopub.execute_input": "2023-11-02T06:41:41.123874Z",
     "iopub.status.busy": "2023-11-02T06:41:41.123383Z",
     "iopub.status.idle": "2023-11-02T06:41:41.130763Z",
     "shell.execute_reply": "2023-11-02T06:41:41.129936Z"
    },
    "papermill": {
     "duration": 0.025646,
     "end_time": "2023-11-02T06:41:41.132755",
     "exception": false,
     "start_time": "2023-11-02T06:41:41.107109",
     "status": "completed"
    },
    "tags": []
   },
   "outputs": [
    {
     "data": {
      "text/plain": [
       "0         Explanation\\nWhy the edits made under my usern...\n",
       "1         D'aww! He matches this background colour I'm s...\n",
       "2         Hey man, I'm really not trying to edit war. It...\n",
       "3         \"\\nMore\\nI can't make any real suggestions on ...\n",
       "4         You, sir, are my hero. Any chance you remember...\n",
       "                                ...                        \n",
       "159566    \":::::And for the second time of asking, when ...\n",
       "159567    You should be ashamed of yourself \\n\\nThat is ...\n",
       "159568    Spitzer \\n\\nUmm, theres no actual article for ...\n",
       "159569    And it looks like it was actually you who put ...\n",
       "159570    \"\\nAnd ... I really don't think you understand...\n",
       "Name: comment_text, Length: 159571, dtype: object"
      ]
     },
     "execution_count": 11,
     "metadata": {},
     "output_type": "execute_result"
    }
   ],
   "source": [
    "x = data['comment_text']\n",
    "x"
   ]
  },
  {
   "cell_type": "markdown",
   "id": "b7a38d95",
   "metadata": {
    "papermill": {
     "duration": 0.01531,
     "end_time": "2023-11-02T06:41:41.163532",
     "exception": false,
     "start_time": "2023-11-02T06:41:41.148222",
     "status": "completed"
    },
    "tags": []
   },
   "source": [
    "### "
   ]
  },
  {
   "cell_type": "markdown",
   "id": "dbbf424d",
   "metadata": {
    "papermill": {
     "duration": 0.015389,
     "end_time": "2023-11-02T06:41:41.194552",
     "exception": false,
     "start_time": "2023-11-02T06:41:41.179163",
     "status": "completed"
    },
    "tags": []
   },
   "source": [
    "preprosseing\n"
   ]
  },
  {
   "cell_type": "code",
   "execution_count": 12,
   "id": "522fec3b",
   "metadata": {
    "execution": {
     "iopub.execute_input": "2023-11-02T06:41:41.228403Z",
     "iopub.status.busy": "2023-11-02T06:41:41.227523Z",
     "iopub.status.idle": "2023-11-02T06:41:42.077033Z",
     "shell.execute_reply": "2023-11-02T06:41:42.076183Z"
    },
    "papermill": {
     "duration": 0.868452,
     "end_time": "2023-11-02T06:41:42.079504",
     "exception": false,
     "start_time": "2023-11-02T06:41:41.211052",
     "status": "completed"
    },
    "tags": []
   },
   "outputs": [],
   "source": [
    "from tensorflow.keras.layers import TextVectorization "
   ]
  },
  {
   "cell_type": "code",
   "execution_count": 13,
   "id": "bdea9e23",
   "metadata": {
    "execution": {
     "iopub.execute_input": "2023-11-02T06:41:42.113221Z",
     "iopub.status.busy": "2023-11-02T06:41:42.112896Z",
     "iopub.status.idle": "2023-11-02T06:41:42.121946Z",
     "shell.execute_reply": "2023-11-02T06:41:42.121011Z"
    },
    "papermill": {
     "duration": 0.028221,
     "end_time": "2023-11-02T06:41:42.124066",
     "exception": false,
     "start_time": "2023-11-02T06:41:42.095845",
     "status": "completed"
    },
    "tags": []
   },
   "outputs": [],
   "source": [
    "X=data['comment_text']\n",
    "Y=data[data.columns[2:]]\n",
    "\n"
   ]
  },
  {
   "cell_type": "code",
   "execution_count": 14,
   "id": "ac0f70a6",
   "metadata": {
    "execution": {
     "iopub.execute_input": "2023-11-02T06:41:42.156594Z",
     "iopub.status.busy": "2023-11-02T06:41:42.156298Z",
     "iopub.status.idle": "2023-11-02T06:41:42.160651Z",
     "shell.execute_reply": "2023-11-02T06:41:42.159742Z"
    },
    "papermill": {
     "duration": 0.022924,
     "end_time": "2023-11-02T06:41:42.162707",
     "exception": false,
     "start_time": "2023-11-02T06:41:42.139783",
     "status": "completed"
    },
    "tags": []
   },
   "outputs": [],
   "source": [
    "MAX_FETURES=200000"
   ]
  },
  {
   "cell_type": "code",
   "execution_count": 15,
   "id": "aa2c2bab",
   "metadata": {
    "execution": {
     "iopub.execute_input": "2023-11-02T06:41:42.195132Z",
     "iopub.status.busy": "2023-11-02T06:41:42.194833Z",
     "iopub.status.idle": "2023-11-02T06:41:44.634556Z",
     "shell.execute_reply": "2023-11-02T06:41:44.633750Z"
    },
    "papermill": {
     "duration": 2.458782,
     "end_time": "2023-11-02T06:41:44.636994",
     "exception": false,
     "start_time": "2023-11-02T06:41:42.178212",
     "status": "completed"
    },
    "tags": []
   },
   "outputs": [],
   "source": [
    "vecterizor = TextVectorization(max_tokens=MAX_FETURES,output_sequence_length=1800,output_mode='int')"
   ]
  },
  {
   "cell_type": "code",
   "execution_count": 16,
   "id": "d488f540",
   "metadata": {
    "execution": {
     "iopub.execute_input": "2023-11-02T06:41:44.670501Z",
     "iopub.status.busy": "2023-11-02T06:41:44.669502Z",
     "iopub.status.idle": "2023-11-02T06:41:44.675582Z",
     "shell.execute_reply": "2023-11-02T06:41:44.674754Z"
    },
    "papermill": {
     "duration": 0.024679,
     "end_time": "2023-11-02T06:41:44.677589",
     "exception": false,
     "start_time": "2023-11-02T06:41:44.652910",
     "status": "completed"
    },
    "tags": []
   },
   "outputs": [
    {
     "data": {
      "text/plain": [
       "pandas.core.series.Series"
      ]
     },
     "execution_count": 16,
     "metadata": {},
     "output_type": "execute_result"
    }
   ],
   "source": [
    "type(X)\n"
   ]
  },
  {
   "cell_type": "code",
   "execution_count": 17,
   "id": "b24648fc",
   "metadata": {
    "execution": {
     "iopub.execute_input": "2023-11-02T06:41:44.710200Z",
     "iopub.status.busy": "2023-11-02T06:41:44.709891Z",
     "iopub.status.idle": "2023-11-02T06:41:44.715669Z",
     "shell.execute_reply": "2023-11-02T06:41:44.714758Z"
    },
    "papermill": {
     "duration": 0.024484,
     "end_time": "2023-11-02T06:41:44.717895",
     "exception": false,
     "start_time": "2023-11-02T06:41:44.693411",
     "status": "completed"
    },
    "tags": []
   },
   "outputs": [
    {
     "data": {
      "text/plain": [
       "numpy.ndarray"
      ]
     },
     "execution_count": 17,
     "metadata": {},
     "output_type": "execute_result"
    }
   ],
   "source": [
    "type(X.values)"
   ]
  },
  {
   "cell_type": "code",
   "execution_count": 18,
   "id": "9e61c376",
   "metadata": {
    "execution": {
     "iopub.execute_input": "2023-11-02T06:41:44.751130Z",
     "iopub.status.busy": "2023-11-02T06:41:44.750792Z",
     "iopub.status.idle": "2023-11-02T06:41:54.262073Z",
     "shell.execute_reply": "2023-11-02T06:41:54.261166Z"
    },
    "papermill": {
     "duration": 9.530727,
     "end_time": "2023-11-02T06:41:54.264605",
     "exception": false,
     "start_time": "2023-11-02T06:41:44.733878",
     "status": "completed"
    },
    "tags": []
   },
   "outputs": [],
   "source": [
    "vecterizor.adapt(X.values)"
   ]
  },
  {
   "cell_type": "code",
   "execution_count": 19,
   "id": "25f38747",
   "metadata": {
    "execution": {
     "iopub.execute_input": "2023-11-02T06:41:54.300001Z",
     "iopub.status.busy": "2023-11-02T06:41:54.299599Z",
     "iopub.status.idle": "2023-11-02T06:41:58.948004Z",
     "shell.execute_reply": "2023-11-02T06:41:58.946883Z"
    },
    "papermill": {
     "duration": 4.669448,
     "end_time": "2023-11-02T06:41:58.951108",
     "exception": false,
     "start_time": "2023-11-02T06:41:54.281660",
     "status": "completed"
    },
    "tags": []
   },
   "outputs": [],
   "source": [
    "vectorized_text=vecterizor(X.values)"
   ]
  },
  {
   "cell_type": "code",
   "execution_count": 20,
   "id": "4e21681c",
   "metadata": {
    "execution": {
     "iopub.execute_input": "2023-11-02T06:41:59.053258Z",
     "iopub.status.busy": "2023-11-02T06:41:59.052157Z",
     "iopub.status.idle": "2023-11-02T06:41:59.060550Z",
     "shell.execute_reply": "2023-11-02T06:41:59.059419Z"
    },
    "papermill": {
     "duration": 0.065349,
     "end_time": "2023-11-02T06:41:59.064034",
     "exception": false,
     "start_time": "2023-11-02T06:41:58.998685",
     "status": "completed"
    },
    "tags": []
   },
   "outputs": [
    {
     "data": {
      "text/plain": [
       "<tf.Tensor: shape=(159571, 1800), dtype=int64, numpy=\n",
       "array([[  645,    76,     2, ...,     0,     0,     0],\n",
       "       [    1,    54,  2489, ...,     0,     0,     0],\n",
       "       [  425,   441,    70, ...,     0,     0,     0],\n",
       "       ...,\n",
       "       [32445,  7392,   383, ...,     0,     0,     0],\n",
       "       [    5,    12,   534, ...,     0,     0,     0],\n",
       "       [    5,     8,   130, ...,     0,     0,     0]])>"
      ]
     },
     "execution_count": 20,
     "metadata": {},
     "output_type": "execute_result"
    }
   ],
   "source": [
    "vectorized_text"
   ]
  },
  {
   "cell_type": "code",
   "execution_count": 21,
   "id": "2fea4792",
   "metadata": {
    "execution": {
     "iopub.execute_input": "2023-11-02T06:41:59.103647Z",
     "iopub.status.busy": "2023-11-02T06:41:59.103308Z",
     "iopub.status.idle": "2023-11-02T06:41:59.124371Z",
     "shell.execute_reply": "2023-11-02T06:41:59.123575Z"
    },
    "papermill": {
     "duration": 0.042002,
     "end_time": "2023-11-02T06:41:59.126602",
     "exception": false,
     "start_time": "2023-11-02T06:41:59.084600",
     "status": "completed"
    },
    "tags": []
   },
   "outputs": [],
   "source": [
    "dataset = tf.data.Dataset.from_tensor_slices((vectorized_text, Y))\n",
    "dataset = dataset.cache()\n",
    "dataset = dataset.shuffle(160000)\n",
    "dataset = dataset.batch(16)\n",
    "dataset = dataset.prefetch(8)"
   ]
  },
  {
   "cell_type": "code",
   "execution_count": 22,
   "id": "c875475b",
   "metadata": {
    "execution": {
     "iopub.execute_input": "2023-11-02T06:41:59.160337Z",
     "iopub.status.busy": "2023-11-02T06:41:59.159747Z",
     "iopub.status.idle": "2023-11-02T06:42:03.588999Z",
     "shell.execute_reply": "2023-11-02T06:42:03.587745Z"
    },
    "papermill": {
     "duration": 4.448879,
     "end_time": "2023-11-02T06:42:03.591635",
     "exception": false,
     "start_time": "2023-11-02T06:41:59.142756",
     "status": "completed"
    },
    "tags": []
   },
   "outputs": [],
   "source": [
    "dataset.as_numpy_iterator().next()\n",
    "(batch_x,batch_y)=dataset.as_numpy_iterator().next()"
   ]
  },
  {
   "cell_type": "code",
   "execution_count": 23,
   "id": "7256801a",
   "metadata": {
    "execution": {
     "iopub.execute_input": "2023-11-02T06:42:03.627515Z",
     "iopub.status.busy": "2023-11-02T06:42:03.627156Z",
     "iopub.status.idle": "2023-11-02T06:42:03.635201Z",
     "shell.execute_reply": "2023-11-02T06:42:03.634099Z"
    },
    "papermill": {
     "duration": 0.028629,
     "end_time": "2023-11-02T06:42:03.637436",
     "exception": false,
     "start_time": "2023-11-02T06:42:03.608807",
     "status": "completed"
    },
    "tags": []
   },
   "outputs": [
    {
     "data": {
      "text/plain": [
       "(16, 1800)"
      ]
     },
     "execution_count": 23,
     "metadata": {},
     "output_type": "execute_result"
    }
   ],
   "source": [
    "batch_x.shape"
   ]
  },
  {
   "cell_type": "code",
   "execution_count": 24,
   "id": "badbd60a",
   "metadata": {
    "execution": {
     "iopub.execute_input": "2023-11-02T06:42:03.672558Z",
     "iopub.status.busy": "2023-11-02T06:42:03.671641Z",
     "iopub.status.idle": "2023-11-02T06:42:03.679292Z",
     "shell.execute_reply": "2023-11-02T06:42:03.677747Z"
    },
    "papermill": {
     "duration": 0.027239,
     "end_time": "2023-11-02T06:42:03.681468",
     "exception": false,
     "start_time": "2023-11-02T06:42:03.654229",
     "status": "completed"
    },
    "tags": []
   },
   "outputs": [
    {
     "data": {
      "text/plain": [
       "(16, 6)"
      ]
     },
     "execution_count": 24,
     "metadata": {},
     "output_type": "execute_result"
    }
   ],
   "source": [
    "batch_y.shape"
   ]
  },
  {
   "cell_type": "markdown",
   "id": "1bd3426e",
   "metadata": {
    "papermill": {
     "duration": 0.016502,
     "end_time": "2023-11-02T06:42:03.714534",
     "exception": false,
     "start_time": "2023-11-02T06:42:03.698032",
     "status": "completed"
    },
    "tags": []
   },
   "source": [
    "competing the pieline by particining the data set into train test and vald\n"
   ]
  },
  {
   "cell_type": "code",
   "execution_count": 25,
   "id": "3b2beec7",
   "metadata": {
    "execution": {
     "iopub.execute_input": "2023-11-02T06:42:03.749389Z",
     "iopub.status.busy": "2023-11-02T06:42:03.748497Z",
     "iopub.status.idle": "2023-11-02T06:42:03.759594Z",
     "shell.execute_reply": "2023-11-02T06:42:03.758696Z"
    },
    "papermill": {
     "duration": 0.030724,
     "end_time": "2023-11-02T06:42:03.761683",
     "exception": false,
     "start_time": "2023-11-02T06:42:03.730959",
     "status": "completed"
    },
    "tags": []
   },
   "outputs": [],
   "source": [
    "train=dataset.take(int(len(dataset)*7))\n",
    "vald=dataset.skip(int(len(dataset)*7)).take(int(len(dataset)*2))\n",
    "test=dataset.skip(int(len(dataset)*.9)).take(int(len(dataset)*.1))\n"
   ]
  },
  {
   "cell_type": "code",
   "execution_count": 26,
   "id": "c91873fe",
   "metadata": {
    "execution": {
     "iopub.execute_input": "2023-11-02T06:42:03.797724Z",
     "iopub.status.busy": "2023-11-02T06:42:03.797049Z",
     "iopub.status.idle": "2023-11-02T06:42:03.803544Z",
     "shell.execute_reply": "2023-11-02T06:42:03.802597Z"
    },
    "papermill": {
     "duration": 0.02754,
     "end_time": "2023-11-02T06:42:03.805843",
     "exception": false,
     "start_time": "2023-11-02T06:42:03.778303",
     "status": "completed"
    },
    "tags": []
   },
   "outputs": [],
   "source": [
    "from tensorflow.keras.models import Sequential\n",
    "from tensorflow.keras.layers import Dense,LSTM,Dropout,Bidirectional,Embedding"
   ]
  },
  {
   "cell_type": "code",
   "execution_count": 27,
   "id": "50997a1d",
   "metadata": {
    "execution": {
     "iopub.execute_input": "2023-11-02T06:42:03.841336Z",
     "iopub.status.busy": "2023-11-02T06:42:03.840738Z",
     "iopub.status.idle": "2023-11-02T06:42:04.365484Z",
     "shell.execute_reply": "2023-11-02T06:42:04.364595Z"
    },
    "papermill": {
     "duration": 0.545047,
     "end_time": "2023-11-02T06:42:04.368018",
     "exception": false,
     "start_time": "2023-11-02T06:42:03.822971",
     "status": "completed"
    },
    "tags": []
   },
   "outputs": [],
   "source": [
    "model = Sequential()\n",
    "# Create the embedding layer \n",
    "model.add(Embedding(MAX_FETURES+1, 32))\n",
    "# Bidirectional LSTM Layer\n",
    "model.add(Bidirectional(LSTM(32, activation='tanh')))\n",
    "# Feature extractor Fully connected layers\n",
    "model.add(Dense(128, activation='relu'))\n",
    "#model.add(Dropout(0.2))\n",
    "model.add(Dense(256, activation='relu'))\n",
    "model.add(Dropout(0.01))\n",
    "model.add(Dense(128, activation='relu'))\n",
    "# Final layer \n",
    "model.add(Dense(6, activation='sigmoid'))"
   ]
  },
  {
   "cell_type": "code",
   "execution_count": 28,
   "id": "804b0239",
   "metadata": {
    "execution": {
     "iopub.execute_input": "2023-11-02T06:42:04.403762Z",
     "iopub.status.busy": "2023-11-02T06:42:04.403371Z",
     "iopub.status.idle": "2023-11-02T06:42:04.418116Z",
     "shell.execute_reply": "2023-11-02T06:42:04.417122Z"
    },
    "papermill": {
     "duration": 0.035339,
     "end_time": "2023-11-02T06:42:04.420432",
     "exception": false,
     "start_time": "2023-11-02T06:42:04.385093",
     "status": "completed"
    },
    "tags": []
   },
   "outputs": [],
   "source": [
    "model.compile(loss='BinaryCrossentropy',optimizer='Adam')"
   ]
  },
  {
   "cell_type": "code",
   "execution_count": 29,
   "id": "7bd0dbe4",
   "metadata": {
    "execution": {
     "iopub.execute_input": "2023-11-02T06:42:04.456113Z",
     "iopub.status.busy": "2023-11-02T06:42:04.455731Z",
     "iopub.status.idle": "2023-11-02T06:42:04.462948Z",
     "shell.execute_reply": "2023-11-02T06:42:04.461875Z"
    },
    "papermill": {
     "duration": 0.027617,
     "end_time": "2023-11-02T06:42:04.465241",
     "exception": false,
     "start_time": "2023-11-02T06:42:04.437624",
     "status": "completed"
    },
    "tags": []
   },
   "outputs": [
    {
     "name": "stdout",
     "output_type": "stream",
     "text": [
      "Model: \"sequential\"\n",
      "_________________________________________________________________\n",
      "Layer (type)                 Output Shape              Param #   \n",
      "=================================================================\n",
      "embedding (Embedding)        (None, None, 32)          6400032   \n",
      "_________________________________________________________________\n",
      "bidirectional (Bidirectional (None, 64)                16640     \n",
      "_________________________________________________________________\n",
      "dense (Dense)                (None, 128)               8320      \n",
      "_________________________________________________________________\n",
      "dense_1 (Dense)              (None, 256)               33024     \n",
      "_________________________________________________________________\n",
      "dropout (Dropout)            (None, 256)               0         \n",
      "_________________________________________________________________\n",
      "dense_2 (Dense)              (None, 128)               32896     \n",
      "_________________________________________________________________\n",
      "dense_3 (Dense)              (None, 6)                 774       \n",
      "=================================================================\n",
      "Total params: 6,491,686\n",
      "Trainable params: 6,491,686\n",
      "Non-trainable params: 0\n",
      "_________________________________________________________________\n"
     ]
    }
   ],
   "source": [
    "model.summary()"
   ]
  },
  {
   "cell_type": "code",
   "execution_count": 30,
   "id": "d44b2499",
   "metadata": {
    "execution": {
     "iopub.execute_input": "2023-11-02T06:42:04.501118Z",
     "iopub.status.busy": "2023-11-02T06:42:04.500774Z",
     "iopub.status.idle": "2023-11-02T06:42:04.505647Z",
     "shell.execute_reply": "2023-11-02T06:42:04.504625Z"
    },
    "papermill": {
     "duration": 0.025701,
     "end_time": "2023-11-02T06:42:04.508027",
     "exception": false,
     "start_time": "2023-11-02T06:42:04.482326",
     "status": "completed"
    },
    "tags": []
   },
   "outputs": [],
   "source": [
    "from keras.callbacks import EarlyStopping"
   ]
  },
  {
   "cell_type": "code",
   "execution_count": 31,
   "id": "fd433687",
   "metadata": {
    "execution": {
     "iopub.execute_input": "2023-11-02T06:42:04.543878Z",
     "iopub.status.busy": "2023-11-02T06:42:04.543544Z",
     "iopub.status.idle": "2023-11-02T06:42:04.548511Z",
     "shell.execute_reply": "2023-11-02T06:42:04.547476Z"
    },
    "papermill": {
     "duration": 0.025523,
     "end_time": "2023-11-02T06:42:04.550640",
     "exception": false,
     "start_time": "2023-11-02T06:42:04.525117",
     "status": "completed"
    },
    "tags": []
   },
   "outputs": [],
   "source": [
    "es = EarlyStopping(monitor='val_loss',patience = 3, verbose=1,restore_best_weights=True)"
   ]
  },
  {
   "cell_type": "code",
   "execution_count": 32,
   "id": "04adb692",
   "metadata": {
    "execution": {
     "iopub.execute_input": "2023-11-02T06:42:04.585991Z",
     "iopub.status.busy": "2023-11-02T06:42:04.585625Z",
     "iopub.status.idle": "2023-11-02T06:42:05.199091Z",
     "shell.execute_reply": "2023-11-02T06:42:05.198166Z"
    },
    "papermill": {
     "duration": 0.634412,
     "end_time": "2023-11-02T06:42:05.201833",
     "exception": false,
     "start_time": "2023-11-02T06:42:04.567421",
     "status": "completed"
    },
    "tags": []
   },
   "outputs": [],
   "source": [
    "model = tf.keras.models.load_model('/kaggle/working/comment-toxicity-detecttion-/commenttoxicity (1).h5')"
   ]
  },
  {
   "cell_type": "code",
   "execution_count": 33,
   "id": "f24fc40f",
   "metadata": {
    "execution": {
     "iopub.execute_input": "2023-11-02T06:42:05.239228Z",
     "iopub.status.busy": "2023-11-02T06:42:05.238869Z",
     "iopub.status.idle": "2023-11-02T12:09:17.033257Z",
     "shell.execute_reply": "2023-11-02T12:09:17.032363Z"
    },
    "papermill": {
     "duration": 19631.816085,
     "end_time": "2023-11-02T12:09:17.035768",
     "exception": false,
     "start_time": "2023-11-02T06:42:05.219683",
     "status": "completed"
    },
    "tags": []
   },
   "outputs": [
    {
     "name": "stdout",
     "output_type": "stream",
     "text": [
      "Epoch 1/20\n",
      "9974/9974 [==============================] - 978s 98ms/step - loss: 0.0046\n",
      "Epoch 2/20\n",
      "9974/9974 [==============================] - 978s 98ms/step - loss: 0.0041\n",
      "Epoch 3/20\n",
      "9974/9974 [==============================] - 980s 98ms/step - loss: 0.0041\n",
      "Epoch 4/20\n",
      "9974/9974 [==============================] - 981s 98ms/step - loss: 0.0040\n",
      "Epoch 5/20\n",
      "9974/9974 [==============================] - 981s 98ms/step - loss: 0.0037\n",
      "Epoch 6/20\n",
      "9974/9974 [==============================] - 980s 98ms/step - loss: 0.0037\n",
      "Epoch 7/20\n",
      "9974/9974 [==============================] - 980s 98ms/step - loss: 0.0036\n",
      "Epoch 8/20\n",
      "9974/9974 [==============================] - 980s 98ms/step - loss: 0.0033\n",
      "Epoch 9/20\n",
      "9974/9974 [==============================] - 980s 98ms/step - loss: 0.0033\n",
      "Epoch 10/20\n",
      "9974/9974 [==============================] - 980s 98ms/step - loss: 0.0033\n",
      "Epoch 11/20\n",
      "9974/9974 [==============================] - 981s 98ms/step - loss: 0.0032\n",
      "Epoch 12/20\n",
      "9974/9974 [==============================] - 982s 98ms/step - loss: 0.0031\n",
      "Epoch 13/20\n",
      "9974/9974 [==============================] - 982s 98ms/step - loss: 0.0031\n",
      "Epoch 14/20\n",
      "9974/9974 [==============================] - 981s 98ms/step - loss: 0.0031\n",
      "Epoch 15/20\n",
      "9974/9974 [==============================] - 981s 98ms/step - loss: 0.0031\n",
      "Epoch 16/20\n",
      "9974/9974 [==============================] - 979s 98ms/step - loss: 0.0028\n",
      "Epoch 17/20\n",
      "9974/9974 [==============================] - 975s 98ms/step - loss: 0.0031\n",
      "Epoch 18/20\n",
      "9974/9974 [==============================] - 975s 98ms/step - loss: 0.0027\n",
      "Epoch 19/20\n",
      "9974/9974 [==============================] - 975s 98ms/step - loss: 0.0029\n",
      "Epoch 20/20\n",
      "9974/9974 [==============================] - 974s 98ms/step - loss: 0.0028\n"
     ]
    }
   ],
   "source": [
    "history = model.fit(train, epochs=20,validation_data=vald,callbacks=[es])"
   ]
  },
  {
   "cell_type": "code",
   "execution_count": 34,
   "id": "c7b37f24",
   "metadata": {
    "execution": {
     "iopub.execute_input": "2023-11-02T12:09:47.846442Z",
     "iopub.status.busy": "2023-11-02T12:09:47.846075Z",
     "iopub.status.idle": "2023-11-02T12:09:47.977899Z",
     "shell.execute_reply": "2023-11-02T12:09:47.977045Z"
    },
    "papermill": {
     "duration": 15.314137,
     "end_time": "2023-11-02T12:09:47.980586",
     "exception": false,
     "start_time": "2023-11-02T12:09:32.666449",
     "status": "completed"
    },
    "tags": []
   },
   "outputs": [],
   "source": [
    "model.save('commenttoxicity.h5')"
   ]
  },
  {
   "cell_type": "code",
   "execution_count": 35,
   "id": "566dd8e0",
   "metadata": {
    "execution": {
     "iopub.execute_input": "2023-11-02T12:10:18.915840Z",
     "iopub.status.busy": "2023-11-02T12:10:18.914492Z",
     "iopub.status.idle": "2023-11-02T12:10:19.176515Z",
     "shell.execute_reply": "2023-11-02T12:10:19.175550Z"
    },
    "papermill": {
     "duration": 15.585664,
     "end_time": "2023-11-02T12:10:19.178669",
     "exception": false,
     "start_time": "2023-11-02T12:10:03.593005",
     "status": "completed"
    },
    "tags": []
   },
   "outputs": [
    {
     "data": {
      "text/plain": [
       "<Figure size 576x144 with 0 Axes>"
      ]
     },
     "metadata": {},
     "output_type": "display_data"
    },
    {
     "data": {
      "image/png": "[encoded data removed]",
      "text/plain": [
       "<Figure size 432x288 with 1 Axes>"
      ]
     },
     "metadata": {
      "needs_background": "light"
     },
     "output_type": "display_data"
    }
   ],
   "source": [
    "from matplotlib import pyplot as plt\n",
    "plt.figure(figsize=(8,2))\n",
    "pd.DataFrame(history.history).plot()\n",
    "plt.show()"
   ]
  },
  {
   "cell_type": "markdown",
   "id": "f8be7b34",
   "metadata": {
    "papermill": {
     "duration": 15.33274,
     "end_time": "2023-11-02T12:10:50.123943",
     "exception": false,
     "start_time": "2023-11-02T12:10:34.791203",
     "status": "completed"
    },
    "tags": []
   },
   "source": [
    "predition time"
   ]
  },
  {
   "cell_type": "code",
   "execution_count": 36,
   "id": "89324bb9",
   "metadata": {
    "execution": {
     "iopub.execute_input": "2023-11-02T12:11:21.007949Z",
     "iopub.status.busy": "2023-11-02T12:11:21.007191Z",
     "iopub.status.idle": "2023-11-02T12:11:23.416903Z",
     "shell.execute_reply": "2023-11-02T12:11:23.415748Z"
    },
    "papermill": {
     "duration": 17.86733,
     "end_time": "2023-11-02T12:11:23.419274",
     "exception": false,
     "start_time": "2023-11-02T12:11:05.551944",
     "status": "completed"
    },
    "tags": []
   },
   "outputs": [],
   "source": [
    "batch=test.as_numpy_iterator().next() "
   ]
  },
  {
   "cell_type": "code",
   "execution_count": 37,
   "id": "db807c92",
   "metadata": {
    "execution": {
     "iopub.execute_input": "2023-11-02T12:11:54.315980Z",
     "iopub.status.busy": "2023-11-02T12:11:54.315546Z",
     "iopub.status.idle": "2023-11-02T12:11:54.333876Z",
     "shell.execute_reply": "2023-11-02T12:11:54.332890Z"
    },
    "papermill": {
     "duration": 15.272532,
     "end_time": "2023-11-02T12:11:54.336084",
     "exception": false,
     "start_time": "2023-11-02T12:11:39.063552",
     "status": "completed"
    },
    "tags": []
   },
   "outputs": [],
   "source": [
    "input_text=vecterizor('You are so horible. I hate you')"
   ]
  },
  {
   "cell_type": "code",
   "execution_count": 38,
   "id": "77f13f99",
   "metadata": {
    "execution": {
     "iopub.execute_input": "2023-11-02T12:12:24.845903Z",
     "iopub.status.busy": "2023-11-02T12:12:24.844978Z",
     "iopub.status.idle": "2023-11-02T12:12:24.851603Z",
     "shell.execute_reply": "2023-11-02T12:12:24.850756Z"
    },
    "papermill": {
     "duration": 15.181696,
     "end_time": "2023-11-02T12:12:24.853825",
     "exception": false,
     "start_time": "2023-11-02T12:12:09.672129",
     "status": "completed"
    },
    "tags": []
   },
   "outputs": [
    {
     "data": {
      "text/plain": [
       "<tf.Tensor: shape=(1800,), dtype=int64, numpy=array([ 7, 20, 37, ...,  0,  0,  0])>"
      ]
     },
     "execution_count": 38,
     "metadata": {},
     "output_type": "execute_result"
    }
   ],
   "source": [
    "input_text"
   ]
  },
  {
   "cell_type": "code",
   "execution_count": 39,
   "id": "27870fef",
   "metadata": {
    "execution": {
     "iopub.execute_input": "2023-11-02T12:12:55.853636Z",
     "iopub.status.busy": "2023-11-02T12:12:55.852681Z",
     "iopub.status.idle": "2023-11-02T12:12:55.859642Z",
     "shell.execute_reply": "2023-11-02T12:12:55.858816Z"
    },
    "papermill": {
     "duration": 15.353442,
     "end_time": "2023-11-02T12:12:55.861827",
     "exception": false,
     "start_time": "2023-11-02T12:12:40.508385",
     "status": "completed"
    },
    "tags": []
   },
   "outputs": [
    {
     "data": {
      "text/plain": [
       "array([[ 7, 20, 37, ...,  0,  0,  0]])"
      ]
     },
     "execution_count": 39,
     "metadata": {},
     "output_type": "execute_result"
    }
   ],
   "source": [
    "np.expand_dims(input_text,0)"
   ]
  },
  {
   "cell_type": "code",
   "execution_count": 40,
   "id": "8f2c89ab",
   "metadata": {
    "execution": {
     "iopub.execute_input": "2023-11-02T12:13:26.633258Z",
     "iopub.status.busy": "2023-11-02T12:13:26.632854Z",
     "iopub.status.idle": "2023-11-02T12:13:27.277633Z",
     "shell.execute_reply": "2023-11-02T12:13:27.276744Z"
    },
    "papermill": {
     "duration": 16.107901,
     "end_time": "2023-11-02T12:13:27.279819",
     "exception": false,
     "start_time": "2023-11-02T12:13:11.171918",
     "status": "completed"
    },
    "tags": []
   },
   "outputs": [
    {
     "data": {
      "text/plain": [
       "array([[9.7518933e-01, 6.3610537e-04, 2.1637287e-02, 6.7345729e-09,\n",
       "        8.9243472e-01, 1.7820791e-04]], dtype=float32)"
      ]
     },
     "execution_count": 40,
     "metadata": {},
     "output_type": "execute_result"
    }
   ],
   "source": [
    "model.predict(np.expand_dims(input_text,0))"
   ]
  },
  {
   "cell_type": "code",
   "execution_count": 41,
   "id": "8d58b026",
   "metadata": {
    "execution": {
     "iopub.execute_input": "2023-11-02T12:13:58.130685Z",
     "iopub.status.busy": "2023-11-02T12:13:58.130259Z",
     "iopub.status.idle": "2023-11-02T12:13:58.227808Z",
     "shell.execute_reply": "2023-11-02T12:13:58.226668Z"
    },
    "papermill": {
     "duration": 15.468302,
     "end_time": "2023-11-02T12:13:58.230215",
     "exception": false,
     "start_time": "2023-11-02T12:13:42.761913",
     "status": "completed"
    },
    "tags": []
   },
   "outputs": [
    {
     "data": {
      "text/plain": [
       "array([[9.7518933e-01, 6.3610537e-04, 2.1637287e-02, 6.7345729e-09,\n",
       "        8.9243472e-01, 1.7820791e-04]], dtype=float32)"
      ]
     },
     "execution_count": 41,
     "metadata": {},
     "output_type": "execute_result"
    }
   ],
   "source": [
    "model.predict(np.expand_dims(input_text,0))"
   ]
  },
  {
   "cell_type": "code",
   "execution_count": 42,
   "id": "9d91e379",
   "metadata": {
    "execution": {
     "iopub.execute_input": "2023-11-02T12:14:29.103058Z",
     "iopub.status.busy": "2023-11-02T12:14:29.102214Z",
     "iopub.status.idle": "2023-11-02T12:14:31.521490Z",
     "shell.execute_reply": "2023-11-02T12:14:31.520406Z"
    },
    "papermill": {
     "duration": 17.964081,
     "end_time": "2023-11-02T12:14:31.524044",
     "exception": false,
     "start_time": "2023-11-02T12:14:13.559963",
     "status": "completed"
    },
    "tags": []
   },
   "outputs": [],
   "source": [
    "batch_X,batch_Y=test.as_numpy_iterator().next() "
   ]
  },
  {
   "cell_type": "code",
   "execution_count": 43,
   "id": "eb0cdd7c",
   "metadata": {
    "execution": {
     "iopub.execute_input": "2023-11-02T12:15:02.212244Z",
     "iopub.status.busy": "2023-11-02T12:15:02.211859Z",
     "iopub.status.idle": "2023-11-02T12:15:02.313491Z",
     "shell.execute_reply": "2023-11-02T12:15:02.312554Z"
    },
    "papermill": {
     "duration": 15.495194,
     "end_time": "2023-11-02T12:15:02.315625",
     "exception": false,
     "start_time": "2023-11-02T12:14:46.820431",
     "status": "completed"
    },
    "tags": []
   },
   "outputs": [
    {
     "data": {
      "text/plain": [
       "array([[0, 0, 0, 0, 0, 0],\n",
       "       [0, 0, 0, 0, 0, 0],\n",
       "       [0, 0, 0, 0, 0, 0],\n",
       "       [1, 1, 1, 0, 1, 1],\n",
       "       [0, 0, 0, 0, 0, 0],\n",
       "       [0, 0, 0, 0, 0, 0],\n",
       "       [0, 0, 0, 0, 0, 0],\n",
       "       [0, 0, 0, 0, 0, 0],\n",
       "       [0, 0, 0, 0, 0, 0],\n",
       "       [0, 0, 0, 0, 0, 0],\n",
       "       [1, 0, 0, 0, 1, 0],\n",
       "       [0, 0, 0, 0, 0, 0],\n",
       "       [0, 0, 0, 0, 0, 0],\n",
       "       [0, 0, 0, 0, 0, 0],\n",
       "       [0, 0, 0, 0, 0, 0],\n",
       "       [0, 0, 0, 0, 0, 0]])"
      ]
     },
     "execution_count": 43,
     "metadata": {},
     "output_type": "execute_result"
    }
   ],
   "source": [
    "(model.predict(batch_X)>0.5).astype(int)"
   ]
  },
  {
   "cell_type": "code",
   "execution_count": 44,
   "id": "639a347a",
   "metadata": {
    "execution": {
     "iopub.execute_input": "2023-11-02T12:15:33.181791Z",
     "iopub.status.busy": "2023-11-02T12:15:33.181389Z",
     "iopub.status.idle": "2023-11-02T12:15:33.188198Z",
     "shell.execute_reply": "2023-11-02T12:15:33.187341Z"
    },
    "papermill": {
     "duration": 15.518544,
     "end_time": "2023-11-02T12:15:33.190297",
     "exception": false,
     "start_time": "2023-11-02T12:15:17.671753",
     "status": "completed"
    },
    "tags": []
   },
   "outputs": [
    {
     "data": {
      "text/plain": [
       "array([[0, 0, 0, 0, 0, 0],\n",
       "       [0, 0, 0, 0, 0, 0],\n",
       "       [0, 0, 0, 0, 0, 0],\n",
       "       [1, 1, 1, 0, 1, 1],\n",
       "       [0, 0, 0, 0, 0, 0],\n",
       "       [0, 0, 0, 0, 0, 0],\n",
       "       [0, 0, 0, 0, 0, 0],\n",
       "       [0, 0, 0, 0, 0, 0],\n",
       "       [0, 0, 0, 0, 0, 0],\n",
       "       [0, 0, 0, 0, 0, 0],\n",
       "       [1, 0, 0, 0, 1, 0],\n",
       "       [0, 0, 0, 0, 0, 0],\n",
       "       [0, 0, 0, 0, 0, 0],\n",
       "       [0, 0, 0, 0, 0, 0],\n",
       "       [0, 0, 0, 0, 0, 0],\n",
       "       [0, 0, 0, 0, 0, 0]])"
      ]
     },
     "execution_count": 44,
     "metadata": {},
     "output_type": "execute_result"
    }
   ],
   "source": [
    "batch_Y"
   ]
  },
  {
   "cell_type": "code",
   "execution_count": 45,
   "id": "9f5ed7e3",
   "metadata": {
    "execution": {
     "iopub.execute_input": "2023-11-02T12:16:03.765082Z",
     "iopub.status.busy": "2023-11-02T12:16:03.764702Z",
     "iopub.status.idle": "2023-11-02T12:16:03.849377Z",
     "shell.execute_reply": "2023-11-02T12:16:03.848357Z"
    },
    "papermill": {
     "duration": 15.360307,
     "end_time": "2023-11-02T12:16:03.851744",
     "exception": false,
     "start_time": "2023-11-02T12:15:48.491437",
     "status": "completed"
    },
    "tags": []
   },
   "outputs": [],
   "source": [
    "res=model.predict(np.expand_dims(input_text,0))"
   ]
  },
  {
   "cell_type": "raw",
   "id": "32928292",
   "metadata": {
    "papermill": {
     "duration": 15.321378,
     "end_time": "2023-11-02T12:16:34.381998",
     "exception": false,
     "start_time": "2023-11-02T12:16:19.060620",
     "status": "completed"
    },
    "tags": []
   },
   "source": [
    "res"
   ]
  },
  {
   "cell_type": "code",
   "execution_count": 46,
   "id": "7924e5d8",
   "metadata": {
    "execution": {
     "iopub.execute_input": "2023-11-02T12:17:05.189503Z",
     "iopub.status.busy": "2023-11-02T12:17:05.188595Z",
     "iopub.status.idle": "2023-11-02T12:17:05.194188Z",
     "shell.execute_reply": "2023-11-02T12:17:05.193264Z"
    },
    "papermill": {
     "duration": 15.444831,
     "end_time": "2023-11-02T12:17:05.196178",
     "exception": false,
     "start_time": "2023-11-02T12:16:49.751347",
     "status": "completed"
    },
    "tags": []
   },
   "outputs": [],
   "source": [
    "from tensorflow.keras.metrics import Precision, Recall, CategoricalAccuracy"
   ]
  },
  {
   "cell_type": "code",
   "execution_count": 47,
   "id": "7f3801d6",
   "metadata": {
    "execution": {
     "iopub.execute_input": "2023-11-02T12:17:35.541163Z",
     "iopub.status.busy": "2023-11-02T12:17:35.540767Z",
     "iopub.status.idle": "2023-11-02T12:17:35.553743Z",
     "shell.execute_reply": "2023-11-02T12:17:35.553039Z"
    },
    "papermill": {
     "duration": 15.144635,
     "end_time": "2023-11-02T12:17:35.555921",
     "exception": false,
     "start_time": "2023-11-02T12:17:20.411286",
     "status": "completed"
    },
    "tags": []
   },
   "outputs": [],
   "source": [
    "pre = Precision()\n",
    "re = Recall()\n",
    "acc = CategoricalAccuracy()"
   ]
  },
  {
   "cell_type": "code",
   "execution_count": 48,
   "id": "3fda2b04",
   "metadata": {
    "execution": {
     "iopub.execute_input": "2023-11-02T12:18:06.137389Z",
     "iopub.status.busy": "2023-11-02T12:18:06.137018Z",
     "iopub.status.idle": "2023-11-02T12:19:31.830379Z",
     "shell.execute_reply": "2023-11-02T12:19:31.829529Z"
    },
    "papermill": {
     "duration": 100.84203,
     "end_time": "2023-11-02T12:19:31.833095",
     "exception": false,
     "start_time": "2023-11-02T12:17:50.991065",
     "status": "completed"
    },
    "tags": []
   },
   "outputs": [],
   "source": [
    "for batch in test.as_numpy_iterator(): \n",
    "    # Unpack the batch \n",
    "    X_true, y_true = batch\n",
    "    # Make a prediction \n",
    "    yhat = model.predict(X_true)\n",
    "    \n",
    "    # Flatten the predictions\n",
    "    y_true = y_true.flatten()\n",
    "    yhat = yhat.flatten()\n",
    "    \n",
    "    pre.update_state(y_true, yhat)\n",
    "    re.update_state(y_true, yhat)\n",
    "    acc.update_state(y_true, yhat)"
   ]
  },
  {
   "cell_type": "code",
   "execution_count": 49,
   "id": "14fe2b86",
   "metadata": {
    "execution": {
     "iopub.execute_input": "2023-11-02T12:20:02.758051Z",
     "iopub.status.busy": "2023-11-02T12:20:02.757675Z",
     "iopub.status.idle": "2023-11-02T12:20:02.766555Z",
     "shell.execute_reply": "2023-11-02T12:20:02.765445Z"
    },
    "papermill": {
     "duration": 15.436522,
     "end_time": "2023-11-02T12:20:02.768556",
     "exception": false,
     "start_time": "2023-11-02T12:19:47.332034",
     "status": "completed"
    },
    "tags": []
   },
   "outputs": [
    {
     "name": "stdout",
     "output_type": "stream",
     "text": [
      "Precision: 0.9916434288024902, Recall:0.9886142611503601, Accuracy:0.573721170425415\n"
     ]
    }
   ],
   "source": [
    "print(f'Precision: {pre.result().numpy()}, Recall:{re.result().numpy()}, Accuracy:{acc.result().numpy()}')"
   ]
  },
  {
   "cell_type": "code",
   "execution_count": null,
   "id": "ab30a270",
   "metadata": {
    "execution": {
     "iopub.status.busy": "2023-10-13T05:31:32.069407Z",
     "iopub.status.idle": "2023-10-13T05:31:32.069932Z",
     "shell.execute_reply": "2023-10-13T05:31:32.069690Z",
     "shell.execute_reply.started": "2023-10-13T05:31:32.069665Z"
    },
    "papermill": {
     "duration": 15.251089,
     "end_time": "2023-11-02T12:20:33.310065",
     "exception": false,
     "start_time": "2023-11-02T12:20:18.058976",
     "status": "completed"
    },
    "tags": []
   },
   "outputs": [],
   "source": []
  }
 ],
 "metadata": {
  "kernelspec": {
   "display_name": "Python 3",
   "language": "python",
   "name": "python3"
  },
  "language_info": {
   "codemirror_mode": {
    "name": "ipython",
    "version": 3
   },
   "file_extension": ".py",
   "mimetype": "text/x-python",
   "name": "python",
   "nbconvert_exporter": "python",
   "pygments_lexer": "ipython3",
   "version": "3.7.12"
  },
  "papermill": {
   "default_parameters": {},
   "duration": 20381.734271,
   "end_time": "2023-11-02T12:20:51.668568",
   "environment_variables": {},
   "exception": null,
   "input_path": "__notebook__.ipynb",
   "output_path": "__notebook__.ipynb",
   "parameters": {},
   "start_time": "2023-11-02T06:41:09.934297",
   "version": "2.3.4"
  }
 },
 "nbformat": 4,
 "nbformat_minor": 5
}
