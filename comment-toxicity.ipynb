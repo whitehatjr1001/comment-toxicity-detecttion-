{
 "cells": [
  {
   "cell_type": "code",
   "execution_count": 1,
   "id": "c52454f4",
   "metadata": {
    "execution": {
     "iopub.execute_input": "2023-10-21T17:15:41.264141Z",
     "iopub.status.busy": "2023-10-21T17:15:41.263685Z",
     "iopub.status.idle": "2023-10-21T17:15:46.003637Z",
     "shell.execute_reply": "2023-10-21T17:15:46.002807Z"
    },
    "papermill": {
     "duration": 4.759837,
     "end_time": "2023-10-21T17:15:46.006288",
     "exception": false,
     "start_time": "2023-10-21T17:15:41.246451",
     "status": "completed"
    },
    "tags": []
   },
   "outputs": [],
   "source": [
    "import os\n",
    "import tensorflow as tf\n",
    "import numpy as np\n",
    "import pandas as pd\n",
    "\n",
    "\n"
   ]
  },
  {
   "cell_type": "code",
   "execution_count": 2,
   "id": "13c4524b",
   "metadata": {
    "execution": {
     "iopub.execute_input": "2023-10-21T17:15:46.036364Z",
     "iopub.status.busy": "2023-10-21T17:15:46.035324Z",
     "iopub.status.idle": "2023-10-21T17:15:47.610238Z",
     "shell.execute_reply": "2023-10-21T17:15:47.609015Z"
    },
    "papermill": {
     "duration": 1.592185,
     "end_time": "2023-10-21T17:15:47.612733",
     "exception": false,
     "start_time": "2023-10-21T17:15:46.020548",
     "status": "completed"
    },
    "tags": []
   },
   "outputs": [
    {
     "name": "stdout",
     "output_type": "stream",
     "text": [
      "Archive:  /kaggle/input/jigsaw-toxic-comment-classification-challenge/test.csv.zip\r\n",
      "  inflating: test.csv                \r\n"
     ]
    }
   ],
   "source": [
    "!unzip /kaggle/input/jigsaw-toxic-comment-classification-challenge/test.csv.zip\n"
   ]
  },
  {
   "cell_type": "code",
   "execution_count": 3,
   "id": "2a95b69c",
   "metadata": {
    "execution": {
     "iopub.execute_input": "2023-10-21T17:15:47.643792Z",
     "iopub.status.busy": "2023-10-21T17:15:47.643460Z",
     "iopub.status.idle": "2023-10-21T17:15:49.287112Z",
     "shell.execute_reply": "2023-10-21T17:15:49.285869Z"
    },
    "papermill": {
     "duration": 1.662883,
     "end_time": "2023-10-21T17:15:49.289762",
     "exception": false,
     "start_time": "2023-10-21T17:15:47.626879",
     "status": "completed"
    },
    "tags": []
   },
   "outputs": [
    {
     "name": "stdout",
     "output_type": "stream",
     "text": [
      "Archive:  /kaggle/input/jigsaw-toxic-comment-classification-challenge/train.csv.zip\r\n",
      "  inflating: train.csv               \r\n"
     ]
    }
   ],
   "source": [
    "!unzip /kaggle/input/jigsaw-toxic-comment-classification-challenge/train.csv.zip"
   ]
  },
  {
   "cell_type": "code",
   "execution_count": 4,
   "id": "43600837",
   "metadata": {
    "execution": {
     "iopub.execute_input": "2023-10-21T17:15:49.319291Z",
     "iopub.status.busy": "2023-10-21T17:15:49.318435Z",
     "iopub.status.idle": "2023-10-21T17:15:49.502798Z",
     "shell.execute_reply": "2023-10-21T17:15:49.501804Z"
    },
    "papermill": {
     "duration": 0.201377,
     "end_time": "2023-10-21T17:15:49.504996",
     "exception": false,
     "start_time": "2023-10-21T17:15:49.303619",
     "status": "completed"
    },
    "tags": []
   },
   "outputs": [],
   "source": [
    "physical_devices = tf.config.list_physical_devices('GPU')"
   ]
  },
  {
   "cell_type": "code",
   "execution_count": 5,
   "id": "2a84689e",
   "metadata": {
    "execution": {
     "iopub.execute_input": "2023-10-21T17:15:49.562717Z",
     "iopub.status.busy": "2023-10-21T17:15:49.561540Z",
     "iopub.status.idle": "2023-10-21T17:15:50.493782Z",
     "shell.execute_reply": "2023-10-21T17:15:50.492962Z"
    },
    "papermill": {
     "duration": 0.963411,
     "end_time": "2023-10-21T17:15:50.496278",
     "exception": false,
     "start_time": "2023-10-21T17:15:49.532867",
     "status": "completed"
    },
    "tags": []
   },
   "outputs": [],
   "source": [
    "data = pd.read_csv('/kaggle/working/train.csv')"
   ]
  },
  {
   "cell_type": "code",
   "execution_count": 6,
   "id": "bbb0e016",
   "metadata": {
    "execution": {
     "iopub.execute_input": "2023-10-21T17:15:50.525037Z",
     "iopub.status.busy": "2023-10-21T17:15:50.524743Z",
     "iopub.status.idle": "2023-10-21T17:15:50.547071Z",
     "shell.execute_reply": "2023-10-21T17:15:50.546195Z"
    },
    "papermill": {
     "duration": 0.039055,
     "end_time": "2023-10-21T17:15:50.549257",
     "exception": false,
     "start_time": "2023-10-21T17:15:50.510202",
     "status": "completed"
    },
    "tags": []
   },
   "outputs": [
    {
     "data": {
      "text/html": [
       "<div>\n",
       "<style scoped>\n",
       "    .dataframe tbody tr th:only-of-type {\n",
       "        vertical-align: middle;\n",
       "    }\n",
       "\n",
       "    .dataframe tbody tr th {\n",
       "        vertical-align: top;\n",
       "    }\n",
       "\n",
       "    .dataframe thead th {\n",
       "        text-align: right;\n",
       "    }\n",
       "</style>\n",
       "<table border=\"1\" class=\"dataframe\">\n",
       "  <thead>\n",
       "    <tr style=\"text-align: right;\">\n",
       "      <th></th>\n",
       "      <th>id</th>\n",
       "      <th>comment_text</th>\n",
       "      <th>toxic</th>\n",
       "      <th>severe_toxic</th>\n",
       "      <th>obscene</th>\n",
       "      <th>threat</th>\n",
       "      <th>insult</th>\n",
       "      <th>identity_hate</th>\n",
       "    </tr>\n",
       "  </thead>\n",
       "  <tbody>\n",
       "    <tr>\n",
       "      <th>0</th>\n",
       "      <td>0000997932d777bf</td>\n",
       "      <td>Explanation\\nWhy the edits made under my usern...</td>\n",
       "      <td>0</td>\n",
       "      <td>0</td>\n",
       "      <td>0</td>\n",
       "      <td>0</td>\n",
       "      <td>0</td>\n",
       "      <td>0</td>\n",
       "    </tr>\n",
       "    <tr>\n",
       "      <th>1</th>\n",
       "      <td>000103f0d9cfb60f</td>\n",
       "      <td>D'aww! He matches this background colour I'm s...</td>\n",
       "      <td>0</td>\n",
       "      <td>0</td>\n",
       "      <td>0</td>\n",
       "      <td>0</td>\n",
       "      <td>0</td>\n",
       "      <td>0</td>\n",
       "    </tr>\n",
       "    <tr>\n",
       "      <th>2</th>\n",
       "      <td>000113f07ec002fd</td>\n",
       "      <td>Hey man, I'm really not trying to edit war. It...</td>\n",
       "      <td>0</td>\n",
       "      <td>0</td>\n",
       "      <td>0</td>\n",
       "      <td>0</td>\n",
       "      <td>0</td>\n",
       "      <td>0</td>\n",
       "    </tr>\n",
       "    <tr>\n",
       "      <th>3</th>\n",
       "      <td>0001b41b1c6bb37e</td>\n",
       "      <td>\"\\nMore\\nI can't make any real suggestions on ...</td>\n",
       "      <td>0</td>\n",
       "      <td>0</td>\n",
       "      <td>0</td>\n",
       "      <td>0</td>\n",
       "      <td>0</td>\n",
       "      <td>0</td>\n",
       "    </tr>\n",
       "    <tr>\n",
       "      <th>4</th>\n",
       "      <td>0001d958c54c6e35</td>\n",
       "      <td>You, sir, are my hero. Any chance you remember...</td>\n",
       "      <td>0</td>\n",
       "      <td>0</td>\n",
       "      <td>0</td>\n",
       "      <td>0</td>\n",
       "      <td>0</td>\n",
       "      <td>0</td>\n",
       "    </tr>\n",
       "  </tbody>\n",
       "</table>\n",
       "</div>"
      ],
      "text/plain": [
       "                 id                                       comment_text  toxic  \\\n",
       "0  0000997932d777bf  Explanation\\nWhy the edits made under my usern...      0   \n",
       "1  000103f0d9cfb60f  D'aww! He matches this background colour I'm s...      0   \n",
       "2  000113f07ec002fd  Hey man, I'm really not trying to edit war. It...      0   \n",
       "3  0001b41b1c6bb37e  \"\\nMore\\nI can't make any real suggestions on ...      0   \n",
       "4  0001d958c54c6e35  You, sir, are my hero. Any chance you remember...      0   \n",
       "\n",
       "   severe_toxic  obscene  threat  insult  identity_hate  \n",
       "0             0        0       0       0              0  \n",
       "1             0        0       0       0              0  \n",
       "2             0        0       0       0              0  \n",
       "3             0        0       0       0              0  \n",
       "4             0        0       0       0              0  "
      ]
     },
     "execution_count": 6,
     "metadata": {},
     "output_type": "execute_result"
    }
   ],
   "source": [
    "data.head()"
   ]
  },
  {
   "cell_type": "code",
   "execution_count": 7,
   "id": "bb9523c7",
   "metadata": {
    "execution": {
     "iopub.execute_input": "2023-10-21T17:15:50.578211Z",
     "iopub.status.busy": "2023-10-21T17:15:50.577894Z",
     "iopub.status.idle": "2023-10-21T17:15:50.588920Z",
     "shell.execute_reply": "2023-10-21T17:15:50.588100Z"
    },
    "papermill": {
     "duration": 0.027708,
     "end_time": "2023-10-21T17:15:50.590882",
     "exception": false,
     "start_time": "2023-10-21T17:15:50.563174",
     "status": "completed"
    },
    "tags": []
   },
   "outputs": [
    {
     "data": {
      "text/plain": [
       "0         6\n",
       "1         6\n",
       "2         6\n",
       "3         6\n",
       "4         6\n",
       "         ..\n",
       "159566    6\n",
       "159567    6\n",
       "159568    6\n",
       "159569    6\n",
       "159570    6\n",
       "Length: 159571, dtype: int64"
      ]
     },
     "execution_count": 7,
     "metadata": {},
     "output_type": "execute_result"
    }
   ],
   "source": [
    "data.count(axis=1,level=None,numeric_only=True)"
   ]
  },
  {
   "cell_type": "code",
   "execution_count": 8,
   "id": "1ca9dd0c",
   "metadata": {
    "execution": {
     "iopub.execute_input": "2023-10-21T17:15:50.620347Z",
     "iopub.status.busy": "2023-10-21T17:15:50.620054Z",
     "iopub.status.idle": "2023-10-21T17:15:50.633649Z",
     "shell.execute_reply": "2023-10-21T17:15:50.632781Z"
    },
    "papermill": {
     "duration": 0.030909,
     "end_time": "2023-10-21T17:15:50.635736",
     "exception": false,
     "start_time": "2023-10-21T17:15:50.604827",
     "status": "completed"
    },
    "tags": []
   },
   "outputs": [
    {
     "data": {
      "text/plain": [
       "144277"
      ]
     },
     "execution_count": 8,
     "metadata": {},
     "output_type": "execute_result"
    }
   ],
   "source": [
    "x=data['toxic'].value_counts()[0]\n",
    "x\n"
   ]
  },
  {
   "cell_type": "code",
   "execution_count": 9,
   "id": "68cec423",
   "metadata": {
    "execution": {
     "iopub.execute_input": "2023-10-21T17:15:50.665589Z",
     "iopub.status.busy": "2023-10-21T17:15:50.665087Z",
     "iopub.status.idle": "2023-10-21T17:15:50.672647Z",
     "shell.execute_reply": "2023-10-21T17:15:50.671803Z"
    },
    "papermill": {
     "duration": 0.024581,
     "end_time": "2023-10-21T17:15:50.674691",
     "exception": false,
     "start_time": "2023-10-21T17:15:50.650110",
     "status": "completed"
    },
    "tags": []
   },
   "outputs": [
    {
     "data": {
      "text/plain": [
       "15294"
      ]
     },
     "execution_count": 9,
     "metadata": {},
     "output_type": "execute_result"
    }
   ],
   "source": [
    "y=data['toxic'].value_counts()[1]\n",
    "y\n"
   ]
  },
  {
   "cell_type": "code",
   "execution_count": 10,
   "id": "73a93576",
   "metadata": {
    "execution": {
     "iopub.execute_input": "2023-10-21T17:15:50.704220Z",
     "iopub.status.busy": "2023-10-21T17:15:50.703905Z",
     "iopub.status.idle": "2023-10-21T17:15:50.711065Z",
     "shell.execute_reply": "2023-10-21T17:15:50.710197Z"
    },
    "papermill": {
     "duration": 0.024085,
     "end_time": "2023-10-21T17:15:50.713091",
     "exception": false,
     "start_time": "2023-10-21T17:15:50.689006",
     "status": "completed"
    },
    "tags": []
   },
   "outputs": [
    {
     "data": {
      "text/plain": [
       "0         Explanation\\nWhy the edits made under my usern...\n",
       "1         D'aww! He matches this background colour I'm s...\n",
       "2         Hey man, I'm really not trying to edit war. It...\n",
       "3         \"\\nMore\\nI can't make any real suggestions on ...\n",
       "4         You, sir, are my hero. Any chance you remember...\n",
       "                                ...                        \n",
       "159566    \":::::And for the second time of asking, when ...\n",
       "159567    You should be ashamed of yourself \\n\\nThat is ...\n",
       "159568    Spitzer \\n\\nUmm, theres no actual article for ...\n",
       "159569    And it looks like it was actually you who put ...\n",
       "159570    \"\\nAnd ... I really don't think you understand...\n",
       "Name: comment_text, Length: 159571, dtype: object"
      ]
     },
     "execution_count": 10,
     "metadata": {},
     "output_type": "execute_result"
    }
   ],
   "source": [
    "x = data['comment_text']\n",
    "x"
   ]
  },
  {
   "cell_type": "markdown",
   "id": "189e7aee",
   "metadata": {
    "papermill": {
     "duration": 0.014181,
     "end_time": "2023-10-21T17:15:50.742061",
     "exception": false,
     "start_time": "2023-10-21T17:15:50.727880",
     "status": "completed"
    },
    "tags": []
   },
   "source": [
    "### "
   ]
  },
  {
   "cell_type": "markdown",
   "id": "d5a70c76",
   "metadata": {
    "papermill": {
     "duration": 0.014143,
     "end_time": "2023-10-21T17:15:50.770566",
     "exception": false,
     "start_time": "2023-10-21T17:15:50.756423",
     "status": "completed"
    },
    "tags": []
   },
   "source": [
    "preprosseing\n"
   ]
  },
  {
   "cell_type": "code",
   "execution_count": 11,
   "id": "d2dacb76",
   "metadata": {
    "execution": {
     "iopub.execute_input": "2023-10-21T17:15:50.800536Z",
     "iopub.status.busy": "2023-10-21T17:15:50.800258Z",
     "iopub.status.idle": "2023-10-21T17:15:51.662816Z",
     "shell.execute_reply": "2023-10-21T17:15:51.661890Z"
    },
    "papermill": {
     "duration": 0.880309,
     "end_time": "2023-10-21T17:15:51.665279",
     "exception": false,
     "start_time": "2023-10-21T17:15:50.784970",
     "status": "completed"
    },
    "tags": []
   },
   "outputs": [],
   "source": [
    "from tensorflow.keras.layers import TextVectorization "
   ]
  },
  {
   "cell_type": "code",
   "execution_count": 12,
   "id": "ead15e24",
   "metadata": {
    "execution": {
     "iopub.execute_input": "2023-10-21T17:15:51.695972Z",
     "iopub.status.busy": "2023-10-21T17:15:51.695666Z",
     "iopub.status.idle": "2023-10-21T17:15:51.705022Z",
     "shell.execute_reply": "2023-10-21T17:15:51.704141Z"
    },
    "papermill": {
     "duration": 0.026881,
     "end_time": "2023-10-21T17:15:51.707024",
     "exception": false,
     "start_time": "2023-10-21T17:15:51.680143",
     "status": "completed"
    },
    "tags": []
   },
   "outputs": [],
   "source": [
    "X=data['comment_text']\n",
    "Y=data[data.columns[2:]]\n",
    "\n"
   ]
  },
  {
   "cell_type": "code",
   "execution_count": 13,
   "id": "ebb254fe",
   "metadata": {
    "execution": {
     "iopub.execute_input": "2023-10-21T17:15:51.736848Z",
     "iopub.status.busy": "2023-10-21T17:15:51.736555Z",
     "iopub.status.idle": "2023-10-21T17:15:51.740580Z",
     "shell.execute_reply": "2023-10-21T17:15:51.739807Z"
    },
    "papermill": {
     "duration": 0.021222,
     "end_time": "2023-10-21T17:15:51.742609",
     "exception": false,
     "start_time": "2023-10-21T17:15:51.721387",
     "status": "completed"
    },
    "tags": []
   },
   "outputs": [],
   "source": [
    "MAX_FETURES=200000"
   ]
  },
  {
   "cell_type": "code",
   "execution_count": 14,
   "id": "bbe457fb",
   "metadata": {
    "execution": {
     "iopub.execute_input": "2023-10-21T17:15:51.772141Z",
     "iopub.status.busy": "2023-10-21T17:15:51.771886Z",
     "iopub.status.idle": "2023-10-21T17:15:54.402511Z",
     "shell.execute_reply": "2023-10-21T17:15:54.401453Z"
    },
    "papermill": {
     "duration": 2.648193,
     "end_time": "2023-10-21T17:15:54.405051",
     "exception": false,
     "start_time": "2023-10-21T17:15:51.756858",
     "status": "completed"
    },
    "tags": []
   },
   "outputs": [],
   "source": [
    "vecterizor = TextVectorization(max_tokens=MAX_FETURES,output_sequence_length=1800,output_mode='int')"
   ]
  },
  {
   "cell_type": "code",
   "execution_count": 15,
   "id": "eb9e7ea9",
   "metadata": {
    "execution": {
     "iopub.execute_input": "2023-10-21T17:15:54.435737Z",
     "iopub.status.busy": "2023-10-21T17:15:54.435420Z",
     "iopub.status.idle": "2023-10-21T17:15:54.441590Z",
     "shell.execute_reply": "2023-10-21T17:15:54.440662Z"
    },
    "papermill": {
     "duration": 0.023893,
     "end_time": "2023-10-21T17:15:54.443651",
     "exception": false,
     "start_time": "2023-10-21T17:15:54.419758",
     "status": "completed"
    },
    "tags": []
   },
   "outputs": [
    {
     "data": {
      "text/plain": [
       "pandas.core.series.Series"
      ]
     },
     "execution_count": 15,
     "metadata": {},
     "output_type": "execute_result"
    }
   ],
   "source": [
    "type(X)\n"
   ]
  },
  {
   "cell_type": "code",
   "execution_count": 16,
   "id": "b40864ec",
   "metadata": {
    "execution": {
     "iopub.execute_input": "2023-10-21T17:15:54.474320Z",
     "iopub.status.busy": "2023-10-21T17:15:54.473723Z",
     "iopub.status.idle": "2023-10-21T17:15:54.479334Z",
     "shell.execute_reply": "2023-10-21T17:15:54.478497Z"
    },
    "papermill": {
     "duration": 0.023155,
     "end_time": "2023-10-21T17:15:54.481345",
     "exception": false,
     "start_time": "2023-10-21T17:15:54.458190",
     "status": "completed"
    },
    "tags": []
   },
   "outputs": [
    {
     "data": {
      "text/plain": [
       "numpy.ndarray"
      ]
     },
     "execution_count": 16,
     "metadata": {},
     "output_type": "execute_result"
    }
   ],
   "source": [
    "type(X.values)"
   ]
  },
  {
   "cell_type": "code",
   "execution_count": 17,
   "id": "f3ca0d5a",
   "metadata": {
    "execution": {
     "iopub.execute_input": "2023-10-21T17:15:54.512192Z",
     "iopub.status.busy": "2023-10-21T17:15:54.511513Z",
     "iopub.status.idle": "2023-10-21T17:16:03.676223Z",
     "shell.execute_reply": "2023-10-21T17:16:03.675293Z"
    },
    "papermill": {
     "duration": 9.182692,
     "end_time": "2023-10-21T17:16:03.678721",
     "exception": false,
     "start_time": "2023-10-21T17:15:54.496029",
     "status": "completed"
    },
    "tags": []
   },
   "outputs": [],
   "source": [
    "vecterizor.adapt(X.values)"
   ]
  },
  {
   "cell_type": "code",
   "execution_count": 18,
   "id": "75f358e5",
   "metadata": {
    "execution": {
     "iopub.execute_input": "2023-10-21T17:16:03.710122Z",
     "iopub.status.busy": "2023-10-21T17:16:03.709798Z",
     "iopub.status.idle": "2023-10-21T17:16:08.306370Z",
     "shell.execute_reply": "2023-10-21T17:16:08.305327Z"
    },
    "papermill": {
     "duration": 4.614867,
     "end_time": "2023-10-21T17:16:08.308950",
     "exception": false,
     "start_time": "2023-10-21T17:16:03.694083",
     "status": "completed"
    },
    "tags": []
   },
   "outputs": [],
   "source": [
    "vectorized_text=vecterizor(X.values)"
   ]
  },
  {
   "cell_type": "code",
   "execution_count": 19,
   "id": "d90c690f",
   "metadata": {
    "execution": {
     "iopub.execute_input": "2023-10-21T17:16:08.340598Z",
     "iopub.status.busy": "2023-10-21T17:16:08.339831Z",
     "iopub.status.idle": "2023-10-21T17:16:08.346746Z",
     "shell.execute_reply": "2023-10-21T17:16:08.345871Z"
    },
    "papermill": {
     "duration": 0.024652,
     "end_time": "2023-10-21T17:16:08.348828",
     "exception": false,
     "start_time": "2023-10-21T17:16:08.324176",
     "status": "completed"
    },
    "tags": []
   },
   "outputs": [
    {
     "data": {
      "text/plain": [
       "<tf.Tensor: shape=(159571, 1800), dtype=int64, numpy=\n",
       "array([[  645,    76,     2, ...,     0,     0,     0],\n",
       "       [    1,    54,  2489, ...,     0,     0,     0],\n",
       "       [  425,   441,    70, ...,     0,     0,     0],\n",
       "       ...,\n",
       "       [32445,  7392,   383, ...,     0,     0,     0],\n",
       "       [    5,    12,   534, ...,     0,     0,     0],\n",
       "       [    5,     8,   130, ...,     0,     0,     0]])>"
      ]
     },
     "execution_count": 19,
     "metadata": {},
     "output_type": "execute_result"
    }
   ],
   "source": [
    "vectorized_text"
   ]
  },
  {
   "cell_type": "code",
   "execution_count": 20,
   "id": "b51e5c8a",
   "metadata": {
    "execution": {
     "iopub.execute_input": "2023-10-21T17:16:08.379554Z",
     "iopub.status.busy": "2023-10-21T17:16:08.379031Z",
     "iopub.status.idle": "2023-10-21T17:16:08.399059Z",
     "shell.execute_reply": "2023-10-21T17:16:08.398384Z"
    },
    "papermill": {
     "duration": 0.037378,
     "end_time": "2023-10-21T17:16:08.400932",
     "exception": false,
     "start_time": "2023-10-21T17:16:08.363554",
     "status": "completed"
    },
    "tags": []
   },
   "outputs": [],
   "source": [
    "dataset = tf.data.Dataset.from_tensor_slices((vectorized_text, Y))\n",
    "dataset = dataset.cache()\n",
    "dataset = dataset.shuffle(160000)\n",
    "dataset = dataset.batch(16)\n",
    "dataset = dataset.prefetch(8)"
   ]
  },
  {
   "cell_type": "code",
   "execution_count": 21,
   "id": "e1487553",
   "metadata": {
    "execution": {
     "iopub.execute_input": "2023-10-21T17:16:08.432737Z",
     "iopub.status.busy": "2023-10-21T17:16:08.432478Z",
     "iopub.status.idle": "2023-10-21T17:16:12.425603Z",
     "shell.execute_reply": "2023-10-21T17:16:12.424327Z"
    },
    "papermill": {
     "duration": 4.012825,
     "end_time": "2023-10-21T17:16:12.429687",
     "exception": false,
     "start_time": "2023-10-21T17:16:08.416862",
     "status": "completed"
    },
    "tags": []
   },
   "outputs": [],
   "source": [
    "dataset.as_numpy_iterator().next()\n",
    "(batch_x,batch_y)=dataset.as_numpy_iterator().next()"
   ]
  },
  {
   "cell_type": "code",
   "execution_count": 22,
   "id": "311c3767",
   "metadata": {
    "execution": {
     "iopub.execute_input": "2023-10-21T17:16:12.462034Z",
     "iopub.status.busy": "2023-10-21T17:16:12.461710Z",
     "iopub.status.idle": "2023-10-21T17:16:12.468017Z",
     "shell.execute_reply": "2023-10-21T17:16:12.467010Z"
    },
    "papermill": {
     "duration": 0.024338,
     "end_time": "2023-10-21T17:16:12.470096",
     "exception": false,
     "start_time": "2023-10-21T17:16:12.445758",
     "status": "completed"
    },
    "tags": []
   },
   "outputs": [
    {
     "data": {
      "text/plain": [
       "(16, 1800)"
      ]
     },
     "execution_count": 22,
     "metadata": {},
     "output_type": "execute_result"
    }
   ],
   "source": [
    "batch_x.shape"
   ]
  },
  {
   "cell_type": "code",
   "execution_count": 23,
   "id": "05856e4b",
   "metadata": {
    "execution": {
     "iopub.execute_input": "2023-10-21T17:16:12.501748Z",
     "iopub.status.busy": "2023-10-21T17:16:12.501440Z",
     "iopub.status.idle": "2023-10-21T17:16:12.507651Z",
     "shell.execute_reply": "2023-10-21T17:16:12.506659Z"
    },
    "papermill": {
     "duration": 0.024492,
     "end_time": "2023-10-21T17:16:12.509703",
     "exception": false,
     "start_time": "2023-10-21T17:16:12.485211",
     "status": "completed"
    },
    "tags": []
   },
   "outputs": [
    {
     "data": {
      "text/plain": [
       "(16, 6)"
      ]
     },
     "execution_count": 23,
     "metadata": {},
     "output_type": "execute_result"
    }
   ],
   "source": [
    "batch_y.shape"
   ]
  },
  {
   "cell_type": "markdown",
   "id": "afcbe757",
   "metadata": {
    "papermill": {
     "duration": 0.014935,
     "end_time": "2023-10-21T17:16:12.539809",
     "exception": false,
     "start_time": "2023-10-21T17:16:12.524874",
     "status": "completed"
    },
    "tags": []
   },
   "source": [
    "competing the pieline by particining the data set into train test and vald\n"
   ]
  },
  {
   "cell_type": "code",
   "execution_count": 24,
   "id": "e29b58e2",
   "metadata": {
    "execution": {
     "iopub.execute_input": "2023-10-21T17:16:12.571996Z",
     "iopub.status.busy": "2023-10-21T17:16:12.571187Z",
     "iopub.status.idle": "2023-10-21T17:16:12.581223Z",
     "shell.execute_reply": "2023-10-21T17:16:12.580480Z"
    },
    "papermill": {
     "duration": 0.028291,
     "end_time": "2023-10-21T17:16:12.583273",
     "exception": false,
     "start_time": "2023-10-21T17:16:12.554982",
     "status": "completed"
    },
    "tags": []
   },
   "outputs": [],
   "source": [
    "train=dataset.take(int(len(dataset)*7))\n",
    "vald=dataset.skip(int(len(dataset)*7)).take(int(len(dataset)*2))\n",
    "test=dataset.skip(int(len(dataset)*.9)).take(int(len(dataset)*.1))\n"
   ]
  },
  {
   "cell_type": "code",
   "execution_count": 25,
   "id": "1c7825f0",
   "metadata": {
    "execution": {
     "iopub.execute_input": "2023-10-21T17:16:12.615259Z",
     "iopub.status.busy": "2023-10-21T17:16:12.614906Z",
     "iopub.status.idle": "2023-10-21T17:16:12.620113Z",
     "shell.execute_reply": "2023-10-21T17:16:12.619223Z"
    },
    "papermill": {
     "duration": 0.023922,
     "end_time": "2023-10-21T17:16:12.622257",
     "exception": false,
     "start_time": "2023-10-21T17:16:12.598335",
     "status": "completed"
    },
    "tags": []
   },
   "outputs": [],
   "source": [
    "from tensorflow.keras.models import Sequential\n",
    "from tensorflow.keras.layers import Dense,LSTM,Dropout,Bidirectional,Embedding"
   ]
  },
  {
   "cell_type": "code",
   "execution_count": 26,
   "id": "e4b36938",
   "metadata": {
    "execution": {
     "iopub.execute_input": "2023-10-21T17:16:12.654015Z",
     "iopub.status.busy": "2023-10-21T17:16:12.653748Z",
     "iopub.status.idle": "2023-10-21T17:16:13.143934Z",
     "shell.execute_reply": "2023-10-21T17:16:13.143128Z"
    },
    "papermill": {
     "duration": 0.508745,
     "end_time": "2023-10-21T17:16:13.146464",
     "exception": false,
     "start_time": "2023-10-21T17:16:12.637719",
     "status": "completed"
    },
    "tags": []
   },
   "outputs": [],
   "source": [
    "model = Sequential()\n",
    "# Create the embedding layer \n",
    "model.add(Embedding(MAX_FETURES+1, 32))\n",
    "# Bidirectional LSTM Layer\n",
    "model.add(Bidirectional(LSTM(32, activation='tanh')))\n",
    "# Feature extractor Fully connected layers\n",
    "model.add(Dense(128, activation='relu'))\n",
    "#model.add(Dropout(0.2))\n",
    "model.add(Dense(256, activation='relu'))\n",
    "model.add(Dropout(0.01))\n",
    "model.add(Dense(128, activation='relu'))\n",
    "# Final layer \n",
    "model.add(Dense(6, activation='sigmoid'))"
   ]
  },
  {
   "cell_type": "code",
   "execution_count": 27,
   "id": "202da3b9",
   "metadata": {
    "execution": {
     "iopub.execute_input": "2023-10-21T17:16:13.178499Z",
     "iopub.status.busy": "2023-10-21T17:16:13.178178Z",
     "iopub.status.idle": "2023-10-21T17:16:13.190432Z",
     "shell.execute_reply": "2023-10-21T17:16:13.189699Z"
    },
    "papermill": {
     "duration": 0.030399,
     "end_time": "2023-10-21T17:16:13.192416",
     "exception": false,
     "start_time": "2023-10-21T17:16:13.162017",
     "status": "completed"
    },
    "tags": []
   },
   "outputs": [],
   "source": [
    "model.compile(loss='BinaryCrossentropy',optimizer='Adam')"
   ]
  },
  {
   "cell_type": "code",
   "execution_count": 28,
   "id": "205e784b",
   "metadata": {
    "execution": {
     "iopub.execute_input": "2023-10-21T17:16:13.223789Z",
     "iopub.status.busy": "2023-10-21T17:16:13.223507Z",
     "iopub.status.idle": "2023-10-21T17:16:13.229637Z",
     "shell.execute_reply": "2023-10-21T17:16:13.228780Z"
    },
    "papermill": {
     "duration": 0.024386,
     "end_time": "2023-10-21T17:16:13.231994",
     "exception": false,
     "start_time": "2023-10-21T17:16:13.207608",
     "status": "completed"
    },
    "tags": []
   },
   "outputs": [
    {
     "name": "stdout",
     "output_type": "stream",
     "text": [
      "Model: \"sequential\"\n",
      "_________________________________________________________________\n",
      "Layer (type)                 Output Shape              Param #   \n",
      "=================================================================\n",
      "embedding (Embedding)        (None, None, 32)          6400032   \n",
      "_________________________________________________________________\n",
      "bidirectional (Bidirectional (None, 64)                16640     \n",
      "_________________________________________________________________\n",
      "dense (Dense)                (None, 128)               8320      \n",
      "_________________________________________________________________\n",
      "dense_1 (Dense)              (None, 256)               33024     \n",
      "_________________________________________________________________\n",
      "dropout (Dropout)            (None, 256)               0         \n",
      "_________________________________________________________________\n",
      "dense_2 (Dense)              (None, 128)               32896     \n",
      "_________________________________________________________________\n",
      "dense_3 (Dense)              (None, 6)                 774       \n",
      "=================================================================\n",
      "Total params: 6,491,686\n",
      "Trainable params: 6,491,686\n",
      "Non-trainable params: 0\n",
      "_________________________________________________________________\n"
     ]
    }
   ],
   "source": [
    "model.summary()"
   ]
  },
  {
   "cell_type": "code",
   "execution_count": 29,
   "id": "b6754fdb",
   "metadata": {
    "execution": {
     "iopub.execute_input": "2023-10-21T17:16:13.264317Z",
     "iopub.status.busy": "2023-10-21T17:16:13.263981Z",
     "iopub.status.idle": "2023-10-21T17:16:13.268277Z",
     "shell.execute_reply": "2023-10-21T17:16:13.267325Z"
    },
    "papermill": {
     "duration": 0.022804,
     "end_time": "2023-10-21T17:16:13.270257",
     "exception": false,
     "start_time": "2023-10-21T17:16:13.247453",
     "status": "completed"
    },
    "tags": []
   },
   "outputs": [],
   "source": [
    "from keras.callbacks import EarlyStopping"
   ]
  },
  {
   "cell_type": "code",
   "execution_count": 30,
   "id": "f716786a",
   "metadata": {
    "execution": {
     "iopub.execute_input": "2023-10-21T17:16:13.301824Z",
     "iopub.status.busy": "2023-10-21T17:16:13.301538Z",
     "iopub.status.idle": "2023-10-21T17:16:13.305923Z",
     "shell.execute_reply": "2023-10-21T17:16:13.305042Z"
    },
    "papermill": {
     "duration": 0.022208,
     "end_time": "2023-10-21T17:16:13.307830",
     "exception": false,
     "start_time": "2023-10-21T17:16:13.285622",
     "status": "completed"
    },
    "tags": []
   },
   "outputs": [],
   "source": [
    "es = EarlyStopping(monitor='val_loss',patience = 3, verbose=1,restore_best_weights=True)"
   ]
  },
  {
   "cell_type": "code",
   "execution_count": null,
   "id": "c6976b7b",
   "metadata": {
    "papermill": {
     "duration": 0.015087,
     "end_time": "2023-10-21T17:16:13.338497",
     "exception": false,
     "start_time": "2023-10-21T17:16:13.323410",
     "status": "completed"
    },
    "tags": []
   },
   "outputs": [],
   "source": []
  },
  {
   "cell_type": "code",
   "execution_count": 31,
   "id": "814daabd",
   "metadata": {
    "execution": {
     "iopub.execute_input": "2023-10-21T17:16:13.370268Z",
     "iopub.status.busy": "2023-10-21T17:16:13.369955Z",
     "iopub.status.idle": "2023-10-21T22:40:51.277090Z",
     "shell.execute_reply": "2023-10-21T22:40:51.275692Z"
    },
    "papermill": {
     "duration": 19477.926204,
     "end_time": "2023-10-21T22:40:51.280047",
     "exception": false,
     "start_time": "2023-10-21T17:16:13.353843",
     "status": "completed"
    },
    "tags": []
   },
   "outputs": [
    {
     "name": "stdout",
     "output_type": "stream",
     "text": [
      "Epoch 1/20\n",
      "9974/9974 [==============================] - 968s 97ms/step - loss: 0.0583\n",
      "Epoch 2/20\n",
      "9974/9974 [==============================] - 966s 97ms/step - loss: 0.0430\n",
      "Epoch 3/20\n",
      "9974/9974 [==============================] - 965s 97ms/step - loss: 0.0367\n",
      "Epoch 4/20\n",
      "9974/9974 [==============================] - 966s 97ms/step - loss: 0.0310\n",
      "Epoch 5/20\n",
      "9974/9974 [==============================] - 966s 97ms/step - loss: 0.0266\n",
      "Epoch 6/20\n",
      "9974/9974 [==============================] - 972s 97ms/step - loss: 0.0229\n",
      "Epoch 7/20\n",
      "9974/9974 [==============================] - 975s 98ms/step - loss: 0.0197\n",
      "Epoch 8/20\n",
      "9974/9974 [==============================] - 978s 98ms/step - loss: 0.0172\n",
      "Epoch 9/20\n",
      "9974/9974 [==============================] - 964s 97ms/step - loss: 0.0147\n",
      "Epoch 10/20\n",
      "9974/9974 [==============================] - 963s 97ms/step - loss: 0.0127\n",
      "Epoch 11/20\n",
      "9974/9974 [==============================] - 963s 97ms/step - loss: 0.0111\n",
      "Epoch 12/20\n",
      "9974/9974 [==============================] - 963s 97ms/step - loss: 0.0097\n",
      "Epoch 13/20\n",
      "9974/9974 [==============================] - 964s 97ms/step - loss: 0.0086\n",
      "Epoch 14/20\n",
      "9974/9974 [==============================] - 966s 97ms/step - loss: 0.0075\n",
      "Epoch 15/20\n",
      "9974/9974 [==============================] - 967s 97ms/step - loss: 0.0071\n",
      "Epoch 16/20\n",
      "9974/9974 [==============================] - 978s 98ms/step - loss: 0.0063\n",
      "Epoch 17/20\n",
      "9974/9974 [==============================] - 984s 99ms/step - loss: 0.0060\n",
      "Epoch 18/20\n",
      "9974/9974 [==============================] - 984s 99ms/step - loss: 0.0054\n",
      "Epoch 19/20\n",
      "9974/9974 [==============================] - 984s 99ms/step - loss: 0.0050\n",
      "Epoch 20/20\n",
      "9974/9974 [==============================] - 983s 99ms/step - loss: 0.0048\n"
     ]
    }
   ],
   "source": [
    "history = model.fit(train, epochs=20,validation_data=vald,callbacks=[es])"
   ]
  },
  {
   "cell_type": "code",
   "execution_count": 32,
   "id": "963cc2fe",
   "metadata": {
    "execution": {
     "iopub.execute_input": "2023-10-21T22:41:25.156743Z",
     "iopub.status.busy": "2023-10-21T22:41:25.156331Z",
     "iopub.status.idle": "2023-10-21T22:41:25.305121Z",
     "shell.execute_reply": "2023-10-21T22:41:25.304077Z"
    },
    "papermill": {
     "duration": 16.863626,
     "end_time": "2023-10-21T22:41:25.307825",
     "exception": false,
     "start_time": "2023-10-21T22:41:08.444199",
     "status": "completed"
    },
    "tags": []
   },
   "outputs": [],
   "source": [
    "model.save('commenttoxicity.h5')"
   ]
  },
  {
   "cell_type": "code",
   "execution_count": 33,
   "id": "9937e766",
   "metadata": {
    "execution": {
     "iopub.execute_input": "2023-10-21T22:41:59.051699Z",
     "iopub.status.busy": "2023-10-21T22:41:59.050785Z",
     "iopub.status.idle": "2023-10-21T22:41:59.341346Z",
     "shell.execute_reply": "2023-10-21T22:41:59.340366Z"
    },
    "papermill": {
     "duration": 17.124567,
     "end_time": "2023-10-21T22:41:59.343890",
     "exception": false,
     "start_time": "2023-10-21T22:41:42.219323",
     "status": "completed"
    },
    "tags": []
   },
   "outputs": [
    {
     "data": {
      "text/plain": [
       "<Figure size 576x144 with 0 Axes>"
      ]
     },
     "metadata": {},
     "output_type": "display_data"
    },
    {
     "data": {
      "image/png": "[encoded data removed]",
      "text/plain": [
       "<Figure size 432x288 with 1 Axes>"
      ]
     },
     "metadata": {
      "needs_background": "light"
     },
     "output_type": "display_data"
    }
   ],
   "source": [
    "from matplotlib import pyplot as plt\n",
    "plt.figure(figsize=(8,2))\n",
    "pd.DataFrame(history.history).plot()\n",
    "plt.show()"
   ]
  },
  {
   "cell_type": "markdown",
   "id": "ec31d06d",
   "metadata": {
    "papermill": {
     "duration": 16.721693,
     "end_time": "2023-10-21T22:42:33.264031",
     "exception": false,
     "start_time": "2023-10-21T22:42:16.542338",
     "status": "completed"
    },
    "tags": []
   },
   "source": [
    "predition time"
   ]
  },
  {
   "cell_type": "code",
   "execution_count": 34,
   "id": "0df2e7d5",
   "metadata": {
    "execution": {
     "iopub.execute_input": "2023-10-21T22:43:07.021729Z",
     "iopub.status.busy": "2023-10-21T22:43:07.020860Z",
     "iopub.status.idle": "2023-10-21T22:43:09.707651Z",
     "shell.execute_reply": "2023-10-21T22:43:09.706647Z"
    },
    "papermill": {
     "duration": 19.44652,
     "end_time": "2023-10-21T22:43:09.710323",
     "exception": false,
     "start_time": "2023-10-21T22:42:50.263803",
     "status": "completed"
    },
    "tags": []
   },
   "outputs": [],
   "source": [
    "batch=test.as_numpy_iterator().next() "
   ]
  },
  {
   "cell_type": "code",
   "execution_count": 35,
   "id": "f8617f45",
   "metadata": {
    "execution": {
     "iopub.execute_input": "2023-10-21T22:43:43.567465Z",
     "iopub.status.busy": "2023-10-21T22:43:43.566670Z",
     "iopub.status.idle": "2023-10-21T22:43:43.584643Z",
     "shell.execute_reply": "2023-10-21T22:43:43.583467Z"
    },
    "papermill": {
     "duration": 16.976343,
     "end_time": "2023-10-21T22:43:43.587132",
     "exception": false,
     "start_time": "2023-10-21T22:43:26.610789",
     "status": "completed"
    },
    "tags": []
   },
   "outputs": [],
   "source": [
    "input_text=vecterizor('You are so horible. I hate you')"
   ]
  },
  {
   "cell_type": "code",
   "execution_count": 36,
   "id": "0c15aba8",
   "metadata": {
    "execution": {
     "iopub.execute_input": "2023-10-21T22:44:17.400334Z",
     "iopub.status.busy": "2023-10-21T22:44:17.399908Z",
     "iopub.status.idle": "2023-10-21T22:44:17.407278Z",
     "shell.execute_reply": "2023-10-21T22:44:17.406226Z"
    },
    "papermill": {
     "duration": 16.764803,
     "end_time": "2023-10-21T22:44:17.409556",
     "exception": false,
     "start_time": "2023-10-21T22:44:00.644753",
     "status": "completed"
    },
    "tags": []
   },
   "outputs": [
    {
     "data": {
      "text/plain": [
       "<tf.Tensor: shape=(1800,), dtype=int64, numpy=array([ 7, 20, 37, ...,  0,  0,  0])>"
      ]
     },
     "execution_count": 36,
     "metadata": {},
     "output_type": "execute_result"
    }
   ],
   "source": [
    "input_text"
   ]
  },
  {
   "cell_type": "code",
   "execution_count": 37,
   "id": "c060ac3d",
   "metadata": {
    "execution": {
     "iopub.execute_input": "2023-10-21T22:44:51.567161Z",
     "iopub.status.busy": "2023-10-21T22:44:51.566372Z",
     "iopub.status.idle": "2023-10-21T22:44:51.573336Z",
     "shell.execute_reply": "2023-10-21T22:44:51.572347Z"
    },
    "papermill": {
     "duration": 16.884325,
     "end_time": "2023-10-21T22:44:51.575474",
     "exception": false,
     "start_time": "2023-10-21T22:44:34.691149",
     "status": "completed"
    },
    "tags": []
   },
   "outputs": [
    {
     "data": {
      "text/plain": [
       "array([[ 7, 20, 37, ...,  0,  0,  0]])"
      ]
     },
     "execution_count": 37,
     "metadata": {},
     "output_type": "execute_result"
    }
   ],
   "source": [
    "np.expand_dims(input_text,0)"
   ]
  },
  {
   "cell_type": "code",
   "execution_count": 38,
   "id": "6ceadef9",
   "metadata": {
    "execution": {
     "iopub.execute_input": "2023-10-21T22:45:25.683924Z",
     "iopub.status.busy": "2023-10-21T22:45:25.683537Z",
     "iopub.status.idle": "2023-10-21T22:45:26.386552Z",
     "shell.execute_reply": "2023-10-21T22:45:26.385345Z"
    },
    "papermill": {
     "duration": 17.591884,
     "end_time": "2023-10-21T22:45:26.389472",
     "exception": false,
     "start_time": "2023-10-21T22:45:08.797588",
     "status": "completed"
    },
    "tags": []
   },
   "outputs": [
    {
     "data": {
      "text/plain": [
       "array([[9.76659298e-01, 1.34164905e-02, 2.60201860e-02, 6.36430923e-05,\n",
       "        1.78314298e-01, 1.17273361e-03]], dtype=float32)"
      ]
     },
     "execution_count": 38,
     "metadata": {},
     "output_type": "execute_result"
    }
   ],
   "source": [
    "model.predict(np.expand_dims(input_text,0))"
   ]
  },
  {
   "cell_type": "code",
   "execution_count": 39,
   "id": "5e83f096",
   "metadata": {
    "execution": {
     "iopub.execute_input": "2023-10-21T22:46:00.375223Z",
     "iopub.status.busy": "2023-10-21T22:46:00.374755Z",
     "iopub.status.idle": "2023-10-21T22:46:00.464851Z",
     "shell.execute_reply": "2023-10-21T22:46:00.463709Z"
    },
    "papermill": {
     "duration": 16.973972,
     "end_time": "2023-10-21T22:46:00.467508",
     "exception": false,
     "start_time": "2023-10-21T22:45:43.493536",
     "status": "completed"
    },
    "tags": []
   },
   "outputs": [
    {
     "data": {
      "text/plain": [
       "array([[9.76659298e-01, 1.34164905e-02, 2.60201860e-02, 6.36430923e-05,\n",
       "        1.78314298e-01, 1.17273361e-03]], dtype=float32)"
      ]
     },
     "execution_count": 39,
     "metadata": {},
     "output_type": "execute_result"
    }
   ],
   "source": [
    "model.predict(np.expand_dims(input_text,0))"
   ]
  },
  {
   "cell_type": "code",
   "execution_count": 40,
   "id": "98ff1683",
   "metadata": {
    "execution": {
     "iopub.execute_input": "2023-10-21T22:46:34.204461Z",
     "iopub.status.busy": "2023-10-21T22:46:34.203521Z",
     "iopub.status.idle": "2023-10-21T22:46:36.796134Z",
     "shell.execute_reply": "2023-10-21T22:46:36.795219Z"
    },
    "papermill": {
     "duration": 19.249851,
     "end_time": "2023-10-21T22:46:36.798955",
     "exception": false,
     "start_time": "2023-10-21T22:46:17.549104",
     "status": "completed"
    },
    "tags": []
   },
   "outputs": [],
   "source": [
    "batch_X,batch_Y=test.as_numpy_iterator().next() "
   ]
  },
  {
   "cell_type": "code",
   "execution_count": 41,
   "id": "6fab1d42",
   "metadata": {
    "execution": {
     "iopub.execute_input": "2023-10-21T22:47:10.578119Z",
     "iopub.status.busy": "2023-10-21T22:47:10.577730Z",
     "iopub.status.idle": "2023-10-21T22:47:10.682342Z",
     "shell.execute_reply": "2023-10-21T22:47:10.681222Z"
    },
    "papermill": {
     "duration": 16.753038,
     "end_time": "2023-10-21T22:47:10.684824",
     "exception": false,
     "start_time": "2023-10-21T22:46:53.931786",
     "status": "completed"
    },
    "tags": []
   },
   "outputs": [
    {
     "data": {
      "text/plain": [
       "array([[0, 0, 0, 0, 0, 0],\n",
       "       [0, 0, 0, 0, 0, 0],\n",
       "       [0, 0, 0, 0, 0, 0],\n",
       "       [0, 0, 0, 0, 0, 0],\n",
       "       [0, 0, 0, 0, 0, 0],\n",
       "       [0, 0, 0, 0, 0, 0],\n",
       "       [0, 0, 0, 0, 0, 0],\n",
       "       [0, 0, 0, 0, 0, 0],\n",
       "       [0, 0, 0, 0, 0, 0],\n",
       "       [0, 0, 0, 0, 0, 0],\n",
       "       [0, 0, 0, 0, 0, 0],\n",
       "       [0, 0, 0, 0, 0, 0],\n",
       "       [0, 0, 0, 0, 0, 0],\n",
       "       [1, 0, 1, 1, 1, 1],\n",
       "       [0, 0, 0, 0, 0, 0],\n",
       "       [0, 0, 0, 0, 0, 0]])"
      ]
     },
     "execution_count": 41,
     "metadata": {},
     "output_type": "execute_result"
    }
   ],
   "source": [
    "(model.predict(batch_X)>0.5).astype(int)"
   ]
  },
  {
   "cell_type": "code",
   "execution_count": 42,
   "id": "b05c77fd",
   "metadata": {
    "execution": {
     "iopub.execute_input": "2023-10-21T22:47:44.545503Z",
     "iopub.status.busy": "2023-10-21T22:47:44.545042Z",
     "iopub.status.idle": "2023-10-21T22:47:44.552279Z",
     "shell.execute_reply": "2023-10-21T22:47:44.551352Z"
    },
    "papermill": {
     "duration": 16.699612,
     "end_time": "2023-10-21T22:47:44.554550",
     "exception": false,
     "start_time": "2023-10-21T22:47:27.854938",
     "status": "completed"
    },
    "tags": []
   },
   "outputs": [
    {
     "data": {
      "text/plain": [
       "array([[0, 0, 0, 0, 0, 0],\n",
       "       [0, 0, 0, 0, 0, 0],\n",
       "       [0, 0, 0, 0, 0, 0],\n",
       "       [0, 0, 0, 0, 0, 0],\n",
       "       [0, 0, 0, 0, 0, 0],\n",
       "       [0, 0, 0, 0, 0, 0],\n",
       "       [0, 0, 0, 0, 0, 0],\n",
       "       [0, 0, 0, 0, 0, 0],\n",
       "       [0, 0, 0, 0, 0, 0],\n",
       "       [0, 0, 0, 0, 0, 0],\n",
       "       [0, 0, 0, 0, 0, 0],\n",
       "       [0, 0, 0, 0, 0, 0],\n",
       "       [0, 0, 0, 0, 0, 0],\n",
       "       [1, 0, 1, 1, 1, 1],\n",
       "       [0, 0, 0, 0, 0, 0],\n",
       "       [0, 0, 0, 0, 0, 0]])"
      ]
     },
     "execution_count": 42,
     "metadata": {},
     "output_type": "execute_result"
    }
   ],
   "source": [
    "batch_Y"
   ]
  },
  {
   "cell_type": "code",
   "execution_count": 43,
   "id": "431c2599",
   "metadata": {
    "execution": {
     "iopub.execute_input": "2023-10-21T22:48:18.448023Z",
     "iopub.status.busy": "2023-10-21T22:48:18.446964Z",
     "iopub.status.idle": "2023-10-21T22:48:18.533818Z",
     "shell.execute_reply": "2023-10-21T22:48:18.532615Z"
    },
    "papermill": {
     "duration": 16.811082,
     "end_time": "2023-10-21T22:48:18.536621",
     "exception": false,
     "start_time": "2023-10-21T22:48:01.725539",
     "status": "completed"
    },
    "tags": []
   },
   "outputs": [],
   "source": [
    "res=model.predict(np.expand_dims(input_text,0))"
   ]
  },
  {
   "cell_type": "raw",
   "id": "7b85e3ab",
   "metadata": {
    "papermill": {
     "duration": 16.784657,
     "end_time": "2023-10-21T22:48:52.449015",
     "exception": false,
     "start_time": "2023-10-21T22:48:35.664358",
     "status": "completed"
    },
    "tags": []
   },
   "source": [
    "res"
   ]
  },
  {
   "cell_type": "code",
   "execution_count": 44,
   "id": "bf890c53",
   "metadata": {
    "execution": {
     "iopub.execute_input": "2023-10-21T22:49:26.506141Z",
     "iopub.status.busy": "2023-10-21T22:49:26.504952Z",
     "iopub.status.idle": "2023-10-21T22:49:26.511044Z",
     "shell.execute_reply": "2023-10-21T22:49:26.510198Z"
    },
    "papermill": {
     "duration": 16.868778,
     "end_time": "2023-10-21T22:49:26.513415",
     "exception": false,
     "start_time": "2023-10-21T22:49:09.644637",
     "status": "completed"
    },
    "tags": []
   },
   "outputs": [],
   "source": [
    "from tensorflow.keras.metrics import Precision, Recall, CategoricalAccuracy"
   ]
  },
  {
   "cell_type": "code",
   "execution_count": 45,
   "id": "9f5e24ec",
   "metadata": {
    "execution": {
     "iopub.execute_input": "2023-10-21T22:50:00.485442Z",
     "iopub.status.busy": "2023-10-21T22:50:00.484624Z",
     "iopub.status.idle": "2023-10-21T22:50:00.499029Z",
     "shell.execute_reply": "2023-10-21T22:50:00.498205Z"
    },
    "papermill": {
     "duration": 16.752987,
     "end_time": "2023-10-21T22:50:00.501569",
     "exception": false,
     "start_time": "2023-10-21T22:49:43.748582",
     "status": "completed"
    },
    "tags": []
   },
   "outputs": [],
   "source": [
    "pre = Precision()\n",
    "re = Recall()\n",
    "acc = CategoricalAccuracy()"
   ]
  },
  {
   "cell_type": "code",
   "execution_count": 46,
   "id": "ee4b994e",
   "metadata": {
    "execution": {
     "iopub.execute_input": "2023-10-21T22:50:34.440014Z",
     "iopub.status.busy": "2023-10-21T22:50:34.439643Z",
     "iopub.status.idle": "2023-10-21T22:52:07.921604Z",
     "shell.execute_reply": "2023-10-21T22:52:07.920582Z"
    },
    "papermill": {
     "duration": 110.330066,
     "end_time": "2023-10-21T22:52:07.924436",
     "exception": false,
     "start_time": "2023-10-21T22:50:17.594370",
     "status": "completed"
    },
    "tags": []
   },
   "outputs": [],
   "source": [
    "for batch in test.as_numpy_iterator(): \n",
    "    # Unpack the batch \n",
    "    X_true, y_true = batch\n",
    "    # Make a prediction \n",
    "    yhat = model.predict(X_true)\n",
    "    \n",
    "    # Flatten the predictions\n",
    "    y_true = y_true.flatten()\n",
    "    yhat = yhat.flatten()\n",
    "    \n",
    "    pre.update_state(y_true, yhat)\n",
    "    re.update_state(y_true, yhat)\n",
    "    acc.update_state(y_true, yhat)"
   ]
  },
  {
   "cell_type": "code",
   "execution_count": 47,
   "id": "129dbdfc",
   "metadata": {
    "execution": {
     "iopub.execute_input": "2023-10-21T22:52:41.783847Z",
     "iopub.status.busy": "2023-10-21T22:52:41.782941Z",
     "iopub.status.idle": "2023-10-21T22:52:41.792349Z",
     "shell.execute_reply": "2023-10-21T22:52:41.791203Z"
    },
    "papermill": {
     "duration": 16.968089,
     "end_time": "2023-10-21T22:52:41.794666",
     "exception": false,
     "start_time": "2023-10-21T22:52:24.826577",
     "status": "completed"
    },
    "tags": []
   },
   "outputs": [
    {
     "name": "stdout",
     "output_type": "stream",
     "text": [
      "Precision: 0.9828424453735352, Recall:0.9839679598808289, Accuracy:0.5105316042900085\n"
     ]
    }
   ],
   "source": [
    "print(f'Precision: {pre.result().numpy()}, Recall:{re.result().numpy()}, Accuracy:{acc.result().numpy()}')"
   ]
  },
  {
   "cell_type": "code",
   "execution_count": null,
   "id": "34efac6d",
   "metadata": {
    "execution": {
     "iopub.status.busy": "2023-10-13T05:31:32.069407Z",
     "iopub.status.idle": "2023-10-13T05:31:32.069932Z",
     "shell.execute_reply": "2023-10-13T05:31:32.069690Z",
     "shell.execute_reply.started": "2023-10-13T05:31:32.069665Z"
    },
    "papermill": {
     "duration": 17.120177,
     "end_time": "2023-10-21T22:53:15.608048",
     "exception": false,
     "start_time": "2023-10-21T22:52:58.487871",
     "status": "completed"
    },
    "tags": []
   },
   "outputs": [],
   "source": []
  }
 ],
 "metadata": {
  "kernelspec": {
   "display_name": "Python 3",
   "language": "python",
   "name": "python3"
  },
  "language_info": {
   "codemirror_mode": {
    "name": "ipython",
    "version": 3
   },
   "file_extension": ".py",
   "mimetype": "text/x-python",
   "name": "python",
   "nbconvert_exporter": "python",
   "pygments_lexer": "ipython3",
   "version": "3.7.12"
  },
  "papermill": {
   "default_parameters": {},
   "duration": 20283.509337,
   "end_time": "2023-10-21T22:53:35.716177",
   "environment_variables": {},
   "exception": null,
   "input_path": "__notebook__.ipynb",
   "output_path": "__notebook__.ipynb",
   "parameters": {},
   "start_time": "2023-10-21T17:15:32.206840",
   "version": "2.3.4"
  }
 },
 "nbformat": 4,
 "nbformat_minor": 5
}
