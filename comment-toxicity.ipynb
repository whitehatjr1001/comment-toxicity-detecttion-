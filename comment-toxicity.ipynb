{
 "cells": [
  {
   "cell_type": "code",
   "execution_count": 1,
   "id": "a3a81374",
   "metadata": {
    "execution": {
     "iopub.execute_input": "2023-10-19T18:12:42.369939Z",
     "iopub.status.busy": "2023-10-19T18:12:42.369556Z",
     "iopub.status.idle": "2023-10-19T18:12:46.809765Z",
     "shell.execute_reply": "2023-10-19T18:12:46.809060Z"
    },
    "papermill": {
     "duration": 4.45447,
     "end_time": "2023-10-19T18:12:46.811938",
     "exception": false,
     "start_time": "2023-10-19T18:12:42.357468",
     "status": "completed"
    },
    "tags": []
   },
   "outputs": [],
   "source": [
    "import os\n",
    "import tensorflow as tf\n",
    "import numpy as np\n",
    "import pandas as pd\n",
    "\n",
    "\n"
   ]
  },
  {
   "cell_type": "code",
   "execution_count": 2,
   "id": "fbda69a5",
   "metadata": {
    "execution": {
     "iopub.execute_input": "2023-10-19T18:12:46.829630Z",
     "iopub.status.busy": "2023-10-19T18:12:46.828939Z",
     "iopub.status.idle": "2023-10-19T18:12:48.490567Z",
     "shell.execute_reply": "2023-10-19T18:12:48.489593Z"
    },
    "papermill": {
     "duration": 1.672516,
     "end_time": "2023-10-19T18:12:48.492686",
     "exception": false,
     "start_time": "2023-10-19T18:12:46.820170",
     "status": "completed"
    },
    "tags": []
   },
   "outputs": [
    {
     "name": "stdout",
     "output_type": "stream",
     "text": [
      "Archive:  /kaggle/input/jigsaw-toxic-comment-classification-challenge/test.csv.zip\r\n",
      "  inflating: test.csv                \r\n"
     ]
    }
   ],
   "source": [
    "!unzip /kaggle/input/jigsaw-toxic-comment-classification-challenge/test.csv.zip\n"
   ]
  },
  {
   "cell_type": "code",
   "execution_count": 3,
   "id": "b22ed779",
   "metadata": {
    "execution": {
     "iopub.execute_input": "2023-10-19T18:12:48.512652Z",
     "iopub.status.busy": "2023-10-19T18:12:48.511843Z",
     "iopub.status.idle": "2023-10-19T18:12:50.253585Z",
     "shell.execute_reply": "2023-10-19T18:12:50.252595Z"
    },
    "papermill": {
     "duration": 1.755117,
     "end_time": "2023-10-19T18:12:50.255843",
     "exception": false,
     "start_time": "2023-10-19T18:12:48.500726",
     "status": "completed"
    },
    "tags": []
   },
   "outputs": [
    {
     "name": "stdout",
     "output_type": "stream",
     "text": [
      "Archive:  /kaggle/input/jigsaw-toxic-comment-classification-challenge/train.csv.zip\r\n",
      "  inflating: train.csv               \r\n"
     ]
    }
   ],
   "source": [
    "!unzip /kaggle/input/jigsaw-toxic-comment-classification-challenge/train.csv.zip"
   ]
  },
  {
   "cell_type": "code",
   "execution_count": 4,
   "id": "95fc8f51",
   "metadata": {
    "execution": {
     "iopub.execute_input": "2023-10-19T18:12:50.273598Z",
     "iopub.status.busy": "2023-10-19T18:12:50.272789Z",
     "iopub.status.idle": "2023-10-19T18:12:50.471400Z",
     "shell.execute_reply": "2023-10-19T18:12:50.470575Z"
    },
    "papermill": {
     "duration": 0.209107,
     "end_time": "2023-10-19T18:12:50.473050",
     "exception": false,
     "start_time": "2023-10-19T18:12:50.263943",
     "status": "completed"
    },
    "tags": []
   },
   "outputs": [],
   "source": [
    "physical_devices = tf.config.list_physical_devices('GPU')"
   ]
  },
  {
   "cell_type": "code",
   "execution_count": 5,
   "id": "ff888fc0",
   "metadata": {
    "execution": {
     "iopub.execute_input": "2023-10-19T18:12:50.490035Z",
     "iopub.status.busy": "2023-10-19T18:12:50.489742Z",
     "iopub.status.idle": "2023-10-19T18:12:51.397400Z",
     "shell.execute_reply": "2023-10-19T18:12:51.396673Z"
    },
    "papermill": {
     "duration": 0.918627,
     "end_time": "2023-10-19T18:12:51.399642",
     "exception": false,
     "start_time": "2023-10-19T18:12:50.481015",
     "status": "completed"
    },
    "tags": []
   },
   "outputs": [],
   "source": [
    "data = pd.read_csv('/kaggle/working/train.csv')"
   ]
  },
  {
   "cell_type": "code",
   "execution_count": 6,
   "id": "f9b85a4d",
   "metadata": {
    "execution": {
     "iopub.execute_input": "2023-10-19T18:12:51.416394Z",
     "iopub.status.busy": "2023-10-19T18:12:51.416093Z",
     "iopub.status.idle": "2023-10-19T18:12:51.436310Z",
     "shell.execute_reply": "2023-10-19T18:12:51.435462Z"
    },
    "papermill": {
     "duration": 0.030309,
     "end_time": "2023-10-19T18:12:51.437985",
     "exception": false,
     "start_time": "2023-10-19T18:12:51.407676",
     "status": "completed"
    },
    "tags": []
   },
   "outputs": [
    {
     "data": {
      "text/html": [
       "<div>\n",
       "<style scoped>\n",
       "    .dataframe tbody tr th:only-of-type {\n",
       "        vertical-align: middle;\n",
       "    }\n",
       "\n",
       "    .dataframe tbody tr th {\n",
       "        vertical-align: top;\n",
       "    }\n",
       "\n",
       "    .dataframe thead th {\n",
       "        text-align: right;\n",
       "    }\n",
       "</style>\n",
       "<table border=\"1\" class=\"dataframe\">\n",
       "  <thead>\n",
       "    <tr style=\"text-align: right;\">\n",
       "      <th></th>\n",
       "      <th>id</th>\n",
       "      <th>comment_text</th>\n",
       "      <th>toxic</th>\n",
       "      <th>severe_toxic</th>\n",
       "      <th>obscene</th>\n",
       "      <th>threat</th>\n",
       "      <th>insult</th>\n",
       "      <th>identity_hate</th>\n",
       "    </tr>\n",
       "  </thead>\n",
       "  <tbody>\n",
       "    <tr>\n",
       "      <th>0</th>\n",
       "      <td>0000997932d777bf</td>\n",
       "      <td>Explanation\\nWhy the edits made under my usern...</td>\n",
       "      <td>0</td>\n",
       "      <td>0</td>\n",
       "      <td>0</td>\n",
       "      <td>0</td>\n",
       "      <td>0</td>\n",
       "      <td>0</td>\n",
       "    </tr>\n",
       "    <tr>\n",
       "      <th>1</th>\n",
       "      <td>000103f0d9cfb60f</td>\n",
       "      <td>D'aww! He matches this background colour I'm s...</td>\n",
       "      <td>0</td>\n",
       "      <td>0</td>\n",
       "      <td>0</td>\n",
       "      <td>0</td>\n",
       "      <td>0</td>\n",
       "      <td>0</td>\n",
       "    </tr>\n",
       "    <tr>\n",
       "      <th>2</th>\n",
       "      <td>000113f07ec002fd</td>\n",
       "      <td>Hey man, I'm really not trying to edit war. It...</td>\n",
       "      <td>0</td>\n",
       "      <td>0</td>\n",
       "      <td>0</td>\n",
       "      <td>0</td>\n",
       "      <td>0</td>\n",
       "      <td>0</td>\n",
       "    </tr>\n",
       "    <tr>\n",
       "      <th>3</th>\n",
       "      <td>0001b41b1c6bb37e</td>\n",
       "      <td>\"\\nMore\\nI can't make any real suggestions on ...</td>\n",
       "      <td>0</td>\n",
       "      <td>0</td>\n",
       "      <td>0</td>\n",
       "      <td>0</td>\n",
       "      <td>0</td>\n",
       "      <td>0</td>\n",
       "    </tr>\n",
       "    <tr>\n",
       "      <th>4</th>\n",
       "      <td>0001d958c54c6e35</td>\n",
       "      <td>You, sir, are my hero. Any chance you remember...</td>\n",
       "      <td>0</td>\n",
       "      <td>0</td>\n",
       "      <td>0</td>\n",
       "      <td>0</td>\n",
       "      <td>0</td>\n",
       "      <td>0</td>\n",
       "    </tr>\n",
       "  </tbody>\n",
       "</table>\n",
       "</div>"
      ],
      "text/plain": [
       "                 id                                       comment_text  toxic  \\\n",
       "0  0000997932d777bf  Explanation\\nWhy the edits made under my usern...      0   \n",
       "1  000103f0d9cfb60f  D'aww! He matches this background colour I'm s...      0   \n",
       "2  000113f07ec002fd  Hey man, I'm really not trying to edit war. It...      0   \n",
       "3  0001b41b1c6bb37e  \"\\nMore\\nI can't make any real suggestions on ...      0   \n",
       "4  0001d958c54c6e35  You, sir, are my hero. Any chance you remember...      0   \n",
       "\n",
       "   severe_toxic  obscene  threat  insult  identity_hate  \n",
       "0             0        0       0       0              0  \n",
       "1             0        0       0       0              0  \n",
       "2             0        0       0       0              0  \n",
       "3             0        0       0       0              0  \n",
       "4             0        0       0       0              0  "
      ]
     },
     "execution_count": 6,
     "metadata": {},
     "output_type": "execute_result"
    }
   ],
   "source": [
    "data.head()"
   ]
  },
  {
   "cell_type": "code",
   "execution_count": 7,
   "id": "536ac22a",
   "metadata": {
    "execution": {
     "iopub.execute_input": "2023-10-19T18:12:51.454847Z",
     "iopub.status.busy": "2023-10-19T18:12:51.454346Z",
     "iopub.status.idle": "2023-10-19T18:12:51.464444Z",
     "shell.execute_reply": "2023-10-19T18:12:51.463713Z"
    },
    "papermill": {
     "duration": 0.020253,
     "end_time": "2023-10-19T18:12:51.466123",
     "exception": false,
     "start_time": "2023-10-19T18:12:51.445870",
     "status": "completed"
    },
    "tags": []
   },
   "outputs": [
    {
     "data": {
      "text/plain": [
       "0         6\n",
       "1         6\n",
       "2         6\n",
       "3         6\n",
       "4         6\n",
       "         ..\n",
       "159566    6\n",
       "159567    6\n",
       "159568    6\n",
       "159569    6\n",
       "159570    6\n",
       "Length: 159571, dtype: int64"
      ]
     },
     "execution_count": 7,
     "metadata": {},
     "output_type": "execute_result"
    }
   ],
   "source": [
    "data.count(axis=1,level=None,numeric_only=True)"
   ]
  },
  {
   "cell_type": "code",
   "execution_count": 8,
   "id": "eecbd11f",
   "metadata": {
    "execution": {
     "iopub.execute_input": "2023-10-19T18:12:51.482541Z",
     "iopub.status.busy": "2023-10-19T18:12:51.482290Z",
     "iopub.status.idle": "2023-10-19T18:12:51.494158Z",
     "shell.execute_reply": "2023-10-19T18:12:51.493387Z"
    },
    "papermill": {
     "duration": 0.022104,
     "end_time": "2023-10-19T18:12:51.495983",
     "exception": false,
     "start_time": "2023-10-19T18:12:51.473879",
     "status": "completed"
    },
    "tags": []
   },
   "outputs": [
    {
     "data": {
      "text/plain": [
       "144277"
      ]
     },
     "execution_count": 8,
     "metadata": {},
     "output_type": "execute_result"
    }
   ],
   "source": [
    "x=data['toxic'].value_counts()[0]\n",
    "x\n"
   ]
  },
  {
   "cell_type": "code",
   "execution_count": 9,
   "id": "978e6deb",
   "metadata": {
    "execution": {
     "iopub.execute_input": "2023-10-19T18:12:51.513176Z",
     "iopub.status.busy": "2023-10-19T18:12:51.512509Z",
     "iopub.status.idle": "2023-10-19T18:12:51.519304Z",
     "shell.execute_reply": "2023-10-19T18:12:51.518437Z"
    },
    "papermill": {
     "duration": 0.017109,
     "end_time": "2023-10-19T18:12:51.521107",
     "exception": false,
     "start_time": "2023-10-19T18:12:51.503998",
     "status": "completed"
    },
    "tags": []
   },
   "outputs": [
    {
     "data": {
      "text/plain": [
       "15294"
      ]
     },
     "execution_count": 9,
     "metadata": {},
     "output_type": "execute_result"
    }
   ],
   "source": [
    "y=data['toxic'].value_counts()[1]\n",
    "y\n"
   ]
  },
  {
   "cell_type": "code",
   "execution_count": 10,
   "id": "961327b5",
   "metadata": {
    "execution": {
     "iopub.execute_input": "2023-10-19T18:12:51.538456Z",
     "iopub.status.busy": "2023-10-19T18:12:51.537716Z",
     "iopub.status.idle": "2023-10-19T18:12:51.544252Z",
     "shell.execute_reply": "2023-10-19T18:12:51.543440Z"
    },
    "papermill": {
     "duration": 0.017009,
     "end_time": "2023-10-19T18:12:51.546061",
     "exception": false,
     "start_time": "2023-10-19T18:12:51.529052",
     "status": "completed"
    },
    "tags": []
   },
   "outputs": [
    {
     "data": {
      "text/plain": [
       "0         Explanation\\nWhy the edits made under my usern...\n",
       "1         D'aww! He matches this background colour I'm s...\n",
       "2         Hey man, I'm really not trying to edit war. It...\n",
       "3         \"\\nMore\\nI can't make any real suggestions on ...\n",
       "4         You, sir, are my hero. Any chance you remember...\n",
       "                                ...                        \n",
       "159566    \":::::And for the second time of asking, when ...\n",
       "159567    You should be ashamed of yourself \\n\\nThat is ...\n",
       "159568    Spitzer \\n\\nUmm, theres no actual article for ...\n",
       "159569    And it looks like it was actually you who put ...\n",
       "159570    \"\\nAnd ... I really don't think you understand...\n",
       "Name: comment_text, Length: 159571, dtype: object"
      ]
     },
     "execution_count": 10,
     "metadata": {},
     "output_type": "execute_result"
    }
   ],
   "source": [
    "x = data['comment_text']\n",
    "x"
   ]
  },
  {
   "cell_type": "markdown",
   "id": "bc5ab35a",
   "metadata": {
    "papermill": {
     "duration": 0.007838,
     "end_time": "2023-10-19T18:12:51.561919",
     "exception": false,
     "start_time": "2023-10-19T18:12:51.554081",
     "status": "completed"
    },
    "tags": []
   },
   "source": [
    "### "
   ]
  },
  {
   "cell_type": "markdown",
   "id": "a9dedaeb",
   "metadata": {
    "papermill": {
     "duration": 0.007931,
     "end_time": "2023-10-19T18:12:51.577818",
     "exception": false,
     "start_time": "2023-10-19T18:12:51.569887",
     "status": "completed"
    },
    "tags": []
   },
   "source": [
    "preprosseing\n"
   ]
  },
  {
   "cell_type": "code",
   "execution_count": 11,
   "id": "c03bf569",
   "metadata": {
    "execution": {
     "iopub.execute_input": "2023-10-19T18:12:51.594699Z",
     "iopub.status.busy": "2023-10-19T18:12:51.594446Z",
     "iopub.status.idle": "2023-10-19T18:12:52.408690Z",
     "shell.execute_reply": "2023-10-19T18:12:52.407691Z"
    },
    "papermill": {
     "duration": 0.825185,
     "end_time": "2023-10-19T18:12:52.410924",
     "exception": false,
     "start_time": "2023-10-19T18:12:51.585739",
     "status": "completed"
    },
    "tags": []
   },
   "outputs": [],
   "source": [
    "from tensorflow.keras.layers import TextVectorization "
   ]
  },
  {
   "cell_type": "code",
   "execution_count": 12,
   "id": "ea0c1d81",
   "metadata": {
    "execution": {
     "iopub.execute_input": "2023-10-19T18:12:52.428911Z",
     "iopub.status.busy": "2023-10-19T18:12:52.428612Z",
     "iopub.status.idle": "2023-10-19T18:12:52.437921Z",
     "shell.execute_reply": "2023-10-19T18:12:52.437188Z"
    },
    "papermill": {
     "duration": 0.020154,
     "end_time": "2023-10-19T18:12:52.439599",
     "exception": false,
     "start_time": "2023-10-19T18:12:52.419445",
     "status": "completed"
    },
    "tags": []
   },
   "outputs": [],
   "source": [
    "X=data['comment_text']\n",
    "Y=data[data.columns[2:]]\n",
    "\n"
   ]
  },
  {
   "cell_type": "code",
   "execution_count": 13,
   "id": "ac4ce1fc",
   "metadata": {
    "execution": {
     "iopub.execute_input": "2023-10-19T18:12:52.457463Z",
     "iopub.status.busy": "2023-10-19T18:12:52.456809Z",
     "iopub.status.idle": "2023-10-19T18:12:52.460523Z",
     "shell.execute_reply": "2023-10-19T18:12:52.459709Z"
    },
    "papermill": {
     "duration": 0.014463,
     "end_time": "2023-10-19T18:12:52.462244",
     "exception": false,
     "start_time": "2023-10-19T18:12:52.447781",
     "status": "completed"
    },
    "tags": []
   },
   "outputs": [],
   "source": [
    "MAX_FETURES=200000"
   ]
  },
  {
   "cell_type": "code",
   "execution_count": 14,
   "id": "e58e7c33",
   "metadata": {
    "execution": {
     "iopub.execute_input": "2023-10-19T18:12:52.480073Z",
     "iopub.status.busy": "2023-10-19T18:12:52.479788Z",
     "iopub.status.idle": "2023-10-19T18:12:55.214265Z",
     "shell.execute_reply": "2023-10-19T18:12:55.213234Z"
    },
    "papermill": {
     "duration": 2.745759,
     "end_time": "2023-10-19T18:12:55.216490",
     "exception": false,
     "start_time": "2023-10-19T18:12:52.470731",
     "status": "completed"
    },
    "tags": []
   },
   "outputs": [],
   "source": [
    "vecterizor = TextVectorization(max_tokens=MAX_FETURES,output_sequence_length=1800,output_mode='int')"
   ]
  },
  {
   "cell_type": "code",
   "execution_count": 15,
   "id": "1c63f036",
   "metadata": {
    "execution": {
     "iopub.execute_input": "2023-10-19T18:12:55.234167Z",
     "iopub.status.busy": "2023-10-19T18:12:55.233868Z",
     "iopub.status.idle": "2023-10-19T18:12:55.239224Z",
     "shell.execute_reply": "2023-10-19T18:12:55.238397Z"
    },
    "papermill": {
     "duration": 0.016138,
     "end_time": "2023-10-19T18:12:55.241074",
     "exception": false,
     "start_time": "2023-10-19T18:12:55.224936",
     "status": "completed"
    },
    "tags": []
   },
   "outputs": [
    {
     "data": {
      "text/plain": [
       "pandas.core.series.Series"
      ]
     },
     "execution_count": 15,
     "metadata": {},
     "output_type": "execute_result"
    }
   ],
   "source": [
    "type(X)\n"
   ]
  },
  {
   "cell_type": "code",
   "execution_count": 16,
   "id": "2eb99d6e",
   "metadata": {
    "execution": {
     "iopub.execute_input": "2023-10-19T18:12:55.258546Z",
     "iopub.status.busy": "2023-10-19T18:12:55.258285Z",
     "iopub.status.idle": "2023-10-19T18:12:55.263320Z",
     "shell.execute_reply": "2023-10-19T18:12:55.262550Z"
    },
    "papermill": {
     "duration": 0.015571,
     "end_time": "2023-10-19T18:12:55.264975",
     "exception": false,
     "start_time": "2023-10-19T18:12:55.249404",
     "status": "completed"
    },
    "tags": []
   },
   "outputs": [
    {
     "data": {
      "text/plain": [
       "numpy.ndarray"
      ]
     },
     "execution_count": 16,
     "metadata": {},
     "output_type": "execute_result"
    }
   ],
   "source": [
    "type(X.values)"
   ]
  },
  {
   "cell_type": "code",
   "execution_count": 17,
   "id": "2e4157f3",
   "metadata": {
    "execution": {
     "iopub.execute_input": "2023-10-19T18:12:55.282402Z",
     "iopub.status.busy": "2023-10-19T18:12:55.282162Z",
     "iopub.status.idle": "2023-10-19T18:13:04.196200Z",
     "shell.execute_reply": "2023-10-19T18:13:04.195171Z"
    },
    "papermill": {
     "duration": 8.925386,
     "end_time": "2023-10-19T18:13:04.198468",
     "exception": false,
     "start_time": "2023-10-19T18:12:55.273082",
     "status": "completed"
    },
    "tags": []
   },
   "outputs": [],
   "source": [
    "vecterizor.adapt(X.values)"
   ]
  },
  {
   "cell_type": "code",
   "execution_count": 18,
   "id": "9642df9e",
   "metadata": {
    "execution": {
     "iopub.execute_input": "2023-10-19T18:13:04.216891Z",
     "iopub.status.busy": "2023-10-19T18:13:04.216595Z",
     "iopub.status.idle": "2023-10-19T18:13:09.144363Z",
     "shell.execute_reply": "2023-10-19T18:13:09.143555Z"
    },
    "papermill": {
     "duration": 4.93948,
     "end_time": "2023-10-19T18:13:09.146644",
     "exception": false,
     "start_time": "2023-10-19T18:13:04.207164",
     "status": "completed"
    },
    "tags": []
   },
   "outputs": [],
   "source": [
    "vectorized_text=vecterizor(X.values)"
   ]
  },
  {
   "cell_type": "code",
   "execution_count": 19,
   "id": "ecfcbea2",
   "metadata": {
    "execution": {
     "iopub.execute_input": "2023-10-19T18:13:09.165402Z",
     "iopub.status.busy": "2023-10-19T18:13:09.164644Z",
     "iopub.status.idle": "2023-10-19T18:13:09.170414Z",
     "shell.execute_reply": "2023-10-19T18:13:09.169600Z"
    },
    "papermill": {
     "duration": 0.016646,
     "end_time": "2023-10-19T18:13:09.172081",
     "exception": false,
     "start_time": "2023-10-19T18:13:09.155435",
     "status": "completed"
    },
    "tags": []
   },
   "outputs": [
    {
     "data": {
      "text/plain": [
       "<tf.Tensor: shape=(159571, 1800), dtype=int64, numpy=\n",
       "array([[  645,    76,     2, ...,     0,     0,     0],\n",
       "       [    1,    54,  2489, ...,     0,     0,     0],\n",
       "       [  425,   441,    70, ...,     0,     0,     0],\n",
       "       ...,\n",
       "       [32445,  7392,   383, ...,     0,     0,     0],\n",
       "       [    5,    12,   534, ...,     0,     0,     0],\n",
       "       [    5,     8,   130, ...,     0,     0,     0]])>"
      ]
     },
     "execution_count": 19,
     "metadata": {},
     "output_type": "execute_result"
    }
   ],
   "source": [
    "vectorized_text"
   ]
  },
  {
   "cell_type": "code",
   "execution_count": 20,
   "id": "af045013",
   "metadata": {
    "execution": {
     "iopub.execute_input": "2023-10-19T18:13:09.189894Z",
     "iopub.status.busy": "2023-10-19T18:13:09.189642Z",
     "iopub.status.idle": "2023-10-19T18:13:09.208908Z",
     "shell.execute_reply": "2023-10-19T18:13:09.208235Z"
    },
    "papermill": {
     "duration": 0.030384,
     "end_time": "2023-10-19T18:13:09.210881",
     "exception": false,
     "start_time": "2023-10-19T18:13:09.180497",
     "status": "completed"
    },
    "tags": []
   },
   "outputs": [],
   "source": [
    "dataset = tf.data.Dataset.from_tensor_slices((vectorized_text, Y))\n",
    "dataset = dataset.cache()\n",
    "dataset = dataset.shuffle(160000)\n",
    "dataset = dataset.batch(16)\n",
    "dataset = dataset.prefetch(8)"
   ]
  },
  {
   "cell_type": "code",
   "execution_count": 21,
   "id": "4a6bdbfb",
   "metadata": {
    "execution": {
     "iopub.execute_input": "2023-10-19T18:13:09.231064Z",
     "iopub.status.busy": "2023-10-19T18:13:09.230319Z",
     "iopub.status.idle": "2023-10-19T18:13:13.881667Z",
     "shell.execute_reply": "2023-10-19T18:13:13.880746Z"
    },
    "papermill": {
     "duration": 4.664118,
     "end_time": "2023-10-19T18:13:13.884064",
     "exception": false,
     "start_time": "2023-10-19T18:13:09.219946",
     "status": "completed"
    },
    "tags": []
   },
   "outputs": [],
   "source": [
    "dataset.as_numpy_iterator().next()\n",
    "(batch_x,batch_y)=dataset.as_numpy_iterator().next()"
   ]
  },
  {
   "cell_type": "code",
   "execution_count": 22,
   "id": "b83d3ec0",
   "metadata": {
    "execution": {
     "iopub.execute_input": "2023-10-19T18:13:13.903070Z",
     "iopub.status.busy": "2023-10-19T18:13:13.902773Z",
     "iopub.status.idle": "2023-10-19T18:13:13.908329Z",
     "shell.execute_reply": "2023-10-19T18:13:13.907401Z"
    },
    "papermill": {
     "duration": 0.016955,
     "end_time": "2023-10-19T18:13:13.910126",
     "exception": false,
     "start_time": "2023-10-19T18:13:13.893171",
     "status": "completed"
    },
    "tags": []
   },
   "outputs": [
    {
     "data": {
      "text/plain": [
       "(16, 1800)"
      ]
     },
     "execution_count": 22,
     "metadata": {},
     "output_type": "execute_result"
    }
   ],
   "source": [
    "batch_x.shape"
   ]
  },
  {
   "cell_type": "code",
   "execution_count": 23,
   "id": "8684ebcd",
   "metadata": {
    "execution": {
     "iopub.execute_input": "2023-10-19T18:13:13.928164Z",
     "iopub.status.busy": "2023-10-19T18:13:13.927911Z",
     "iopub.status.idle": "2023-10-19T18:13:13.933338Z",
     "shell.execute_reply": "2023-10-19T18:13:13.932462Z"
    },
    "papermill": {
     "duration": 0.016501,
     "end_time": "2023-10-19T18:13:13.935127",
     "exception": false,
     "start_time": "2023-10-19T18:13:13.918626",
     "status": "completed"
    },
    "tags": []
   },
   "outputs": [
    {
     "data": {
      "text/plain": [
       "(16, 6)"
      ]
     },
     "execution_count": 23,
     "metadata": {},
     "output_type": "execute_result"
    }
   ],
   "source": [
    "batch_y.shape"
   ]
  },
  {
   "cell_type": "markdown",
   "id": "b8dd3178",
   "metadata": {
    "papermill": {
     "duration": 0.008275,
     "end_time": "2023-10-19T18:13:13.951991",
     "exception": false,
     "start_time": "2023-10-19T18:13:13.943716",
     "status": "completed"
    },
    "tags": []
   },
   "source": [
    "competing the pieline by particining the data set into train test and vald\n"
   ]
  },
  {
   "cell_type": "code",
   "execution_count": 24,
   "id": "a9f3d1a1",
   "metadata": {
    "execution": {
     "iopub.execute_input": "2023-10-19T18:13:13.970722Z",
     "iopub.status.busy": "2023-10-19T18:13:13.969952Z",
     "iopub.status.idle": "2023-10-19T18:13:13.979315Z",
     "shell.execute_reply": "2023-10-19T18:13:13.978551Z"
    },
    "papermill": {
     "duration": 0.020635,
     "end_time": "2023-10-19T18:13:13.981055",
     "exception": false,
     "start_time": "2023-10-19T18:13:13.960420",
     "status": "completed"
    },
    "tags": []
   },
   "outputs": [],
   "source": [
    "train=dataset.take(int(len(dataset)*7))\n",
    "vald=dataset.skip(int(len(dataset)*7)).take(int(len(dataset)*2))\n",
    "test=dataset.skip(int(len(dataset)*.9)).take(int(len(dataset)*.1))\n"
   ]
  },
  {
   "cell_type": "code",
   "execution_count": 25,
   "id": "57b1eb81",
   "metadata": {
    "execution": {
     "iopub.execute_input": "2023-10-19T18:13:13.999683Z",
     "iopub.status.busy": "2023-10-19T18:13:13.999014Z",
     "iopub.status.idle": "2023-10-19T18:13:14.004312Z",
     "shell.execute_reply": "2023-10-19T18:13:14.003490Z"
    },
    "papermill": {
     "duration": 0.016459,
     "end_time": "2023-10-19T18:13:14.006034",
     "exception": false,
     "start_time": "2023-10-19T18:13:13.989575",
     "status": "completed"
    },
    "tags": []
   },
   "outputs": [],
   "source": [
    "from tensorflow.keras.models import Sequential\n",
    "from tensorflow.keras.layers import Dense,LSTM,Dropout,Bidirectional,Embedding"
   ]
  },
  {
   "cell_type": "code",
   "execution_count": 26,
   "id": "345c952d",
   "metadata": {
    "execution": {
     "iopub.execute_input": "2023-10-19T18:13:14.024872Z",
     "iopub.status.busy": "2023-10-19T18:13:14.024115Z",
     "iopub.status.idle": "2023-10-19T18:13:14.462909Z",
     "shell.execute_reply": "2023-10-19T18:13:14.462138Z"
    },
    "papermill": {
     "duration": 0.450513,
     "end_time": "2023-10-19T18:13:14.465059",
     "exception": false,
     "start_time": "2023-10-19T18:13:14.014546",
     "status": "completed"
    },
    "tags": []
   },
   "outputs": [],
   "source": [
    "model = Sequential()\n",
    "# Create the embedding layer \n",
    "model.add(Embedding(MAX_FETURES+1, 32))\n",
    "# Bidirectional LSTM Layer\n",
    "model.add(Bidirectional(LSTM(32, activation='tanh')))\n",
    "# Feature extractor Fully connected layers\n",
    "model.add(Dense(128, activation='relu'))\n",
    "#model.add(Dropout(0.2))\n",
    "model.add(Dense(256, activation='relu'))\n",
    "model.add(Dropout(0.01))\n",
    "model.add(Dense(128, activation='relu'))\n",
    "# Final layer \n",
    "model.add(Dense(6, activation='sigmoid'))"
   ]
  },
  {
   "cell_type": "code",
   "execution_count": 27,
   "id": "3be42632",
   "metadata": {
    "execution": {
     "iopub.execute_input": "2023-10-19T18:13:14.485744Z",
     "iopub.status.busy": "2023-10-19T18:13:14.485447Z",
     "iopub.status.idle": "2023-10-19T18:13:14.498932Z",
     "shell.execute_reply": "2023-10-19T18:13:14.498043Z"
    },
    "papermill": {
     "duration": 0.026416,
     "end_time": "2023-10-19T18:13:14.501234",
     "exception": false,
     "start_time": "2023-10-19T18:13:14.474818",
     "status": "completed"
    },
    "tags": []
   },
   "outputs": [],
   "source": [
    "model.compile(loss='BinaryCrossentropy',optimizer='Adam')"
   ]
  },
  {
   "cell_type": "code",
   "execution_count": 28,
   "id": "b6949624",
   "metadata": {
    "execution": {
     "iopub.execute_input": "2023-10-19T18:13:14.521892Z",
     "iopub.status.busy": "2023-10-19T18:13:14.521619Z",
     "iopub.status.idle": "2023-10-19T18:13:14.527734Z",
     "shell.execute_reply": "2023-10-19T18:13:14.526572Z"
    },
    "papermill": {
     "duration": 0.018889,
     "end_time": "2023-10-19T18:13:14.529581",
     "exception": false,
     "start_time": "2023-10-19T18:13:14.510692",
     "status": "completed"
    },
    "tags": []
   },
   "outputs": [
    {
     "name": "stdout",
     "output_type": "stream",
     "text": [
      "Model: \"sequential\"\n",
      "_________________________________________________________________\n",
      "Layer (type)                 Output Shape              Param #   \n",
      "=================================================================\n",
      "embedding (Embedding)        (None, None, 32)          6400032   \n",
      "_________________________________________________________________\n",
      "bidirectional (Bidirectional (None, 64)                16640     \n",
      "_________________________________________________________________\n",
      "dense (Dense)                (None, 128)               8320      \n",
      "_________________________________________________________________\n",
      "dense_1 (Dense)              (None, 256)               33024     \n",
      "_________________________________________________________________\n",
      "dropout (Dropout)            (None, 256)               0         \n",
      "_________________________________________________________________\n",
      "dense_2 (Dense)              (None, 128)               32896     \n",
      "_________________________________________________________________\n",
      "dense_3 (Dense)              (None, 6)                 774       \n",
      "=================================================================\n",
      "Total params: 6,491,686\n",
      "Trainable params: 6,491,686\n",
      "Non-trainable params: 0\n",
      "_________________________________________________________________\n"
     ]
    }
   ],
   "source": [
    "model.summary()"
   ]
  },
  {
   "cell_type": "code",
   "execution_count": 29,
   "id": "2cbe7262",
   "metadata": {
    "execution": {
     "iopub.execute_input": "2023-10-19T18:13:14.547684Z",
     "iopub.status.busy": "2023-10-19T18:13:14.547441Z",
     "iopub.status.idle": "2023-10-19T18:13:14.551032Z",
     "shell.execute_reply": "2023-10-19T18:13:14.550257Z"
    },
    "papermill": {
     "duration": 0.014607,
     "end_time": "2023-10-19T18:13:14.552705",
     "exception": false,
     "start_time": "2023-10-19T18:13:14.538098",
     "status": "completed"
    },
    "tags": []
   },
   "outputs": [],
   "source": [
    "from keras.callbacks import EarlyStopping"
   ]
  },
  {
   "cell_type": "code",
   "execution_count": 30,
   "id": "c875dcec",
   "metadata": {
    "execution": {
     "iopub.execute_input": "2023-10-19T18:13:14.570806Z",
     "iopub.status.busy": "2023-10-19T18:13:14.570549Z",
     "iopub.status.idle": "2023-10-19T18:13:14.574823Z",
     "shell.execute_reply": "2023-10-19T18:13:14.573976Z"
    },
    "papermill": {
     "duration": 0.015264,
     "end_time": "2023-10-19T18:13:14.576574",
     "exception": false,
     "start_time": "2023-10-19T18:13:14.561310",
     "status": "completed"
    },
    "tags": []
   },
   "outputs": [],
   "source": [
    "es = EarlyStopping(monitor='val_loss',patience = 3, verbose=1,restore_best_weights=True)"
   ]
  },
  {
   "cell_type": "code",
   "execution_count": 31,
   "id": "29331b4f",
   "metadata": {
    "execution": {
     "iopub.execute_input": "2023-10-19T18:13:14.594431Z",
     "iopub.status.busy": "2023-10-19T18:13:14.594162Z",
     "iopub.status.idle": "2023-10-19T19:42:42.138190Z",
     "shell.execute_reply": "2023-10-19T19:42:42.137180Z"
    },
    "papermill": {
     "duration": 5367.555235,
     "end_time": "2023-10-19T19:42:42.140284",
     "exception": false,
     "start_time": "2023-10-19T18:13:14.585049",
     "status": "completed"
    },
    "tags": []
   },
   "outputs": [
    {
     "name": "stdout",
     "output_type": "stream",
     "text": [
      "Epoch 1/5\n",
      "9974/9974 [==============================] - 1065s 106ms/step - loss: 0.0595\n",
      "Epoch 2/5\n",
      "9974/9974 [==============================] - 1063s 107ms/step - loss: 0.0433\n",
      "Epoch 3/5\n",
      "9974/9974 [==============================] - 1065s 107ms/step - loss: 0.0365\n",
      "Epoch 4/5\n",
      "9974/9974 [==============================] - 1063s 107ms/step - loss: 0.0312\n",
      "Epoch 5/5\n",
      "9974/9974 [==============================] - 1062s 106ms/step - loss: 0.0267\n"
     ]
    }
   ],
   "source": [
    "history = model.fit(train, epochs=5,validation_data=vald,callbacks=[es])"
   ]
  },
  {
   "cell_type": "code",
   "execution_count": 32,
   "id": "c30675db",
   "metadata": {
    "execution": {
     "iopub.execute_input": "2023-10-19T19:42:46.691129Z",
     "iopub.status.busy": "2023-10-19T19:42:46.690148Z",
     "iopub.status.idle": "2023-10-19T19:42:46.843233Z",
     "shell.execute_reply": "2023-10-19T19:42:46.842266Z"
    },
    "papermill": {
     "duration": 2.367556,
     "end_time": "2023-10-19T19:42:46.845464",
     "exception": false,
     "start_time": "2023-10-19T19:42:44.477908",
     "status": "completed"
    },
    "tags": []
   },
   "outputs": [],
   "source": [
    "model.save('commenttoxicity.h5')"
   ]
  },
  {
   "cell_type": "code",
   "execution_count": 33,
   "id": "93a1b990",
   "metadata": {
    "execution": {
     "iopub.execute_input": "2023-10-19T19:42:51.279085Z",
     "iopub.status.busy": "2023-10-19T19:42:51.278241Z",
     "iopub.status.idle": "2023-10-19T19:42:51.512955Z",
     "shell.execute_reply": "2023-10-19T19:42:51.512061Z"
    },
    "papermill": {
     "duration": 2.448417,
     "end_time": "2023-10-19T19:42:51.514763",
     "exception": false,
     "start_time": "2023-10-19T19:42:49.066346",
     "status": "completed"
    },
    "tags": []
   },
   "outputs": [
    {
     "data": {
      "text/plain": [
       "<Figure size 576x144 with 0 Axes>"
      ]
     },
     "metadata": {},
     "output_type": "display_data"
    },
    {
     "data": {
      "image/png": "[encoded data removed]",
      "text/plain": [
       "<Figure size 432x288 with 1 Axes>"
      ]
     },
     "metadata": {
      "needs_background": "light"
     },
     "output_type": "display_data"
    }
   ],
   "source": [
    "from matplotlib import pyplot as plt\n",
    "plt.figure(figsize=(8,2))\n",
    "pd.DataFrame(history.history).plot()\n",
    "plt.show()"
   ]
  },
  {
   "cell_type": "markdown",
   "id": "e1021f61",
   "metadata": {
    "papermill": {
     "duration": 2.305448,
     "end_time": "2023-10-19T19:42:56.146670",
     "exception": false,
     "start_time": "2023-10-19T19:42:53.841222",
     "status": "completed"
    },
    "tags": []
   },
   "source": [
    "predition time"
   ]
  },
  {
   "cell_type": "code",
   "execution_count": 34,
   "id": "795b457c",
   "metadata": {
    "execution": {
     "iopub.execute_input": "2023-10-19T19:43:00.591706Z",
     "iopub.status.busy": "2023-10-19T19:43:00.591362Z",
     "iopub.status.idle": "2023-10-19T19:43:03.330411Z",
     "shell.execute_reply": "2023-10-19T19:43:03.329651Z"
    },
    "papermill": {
     "duration": 4.955093,
     "end_time": "2023-10-19T19:43:03.332602",
     "exception": false,
     "start_time": "2023-10-19T19:42:58.377509",
     "status": "completed"
    },
    "tags": []
   },
   "outputs": [],
   "source": [
    "batch=test.as_numpy_iterator().next() "
   ]
  },
  {
   "cell_type": "code",
   "execution_count": 35,
   "id": "ab2839de",
   "metadata": {
    "execution": {
     "iopub.execute_input": "2023-10-19T19:43:07.869172Z",
     "iopub.status.busy": "2023-10-19T19:43:07.868853Z",
     "iopub.status.idle": "2023-10-19T19:43:07.885094Z",
     "shell.execute_reply": "2023-10-19T19:43:07.884462Z"
    },
    "papermill": {
     "duration": 2.297424,
     "end_time": "2023-10-19T19:43:07.886882",
     "exception": false,
     "start_time": "2023-10-19T19:43:05.589458",
     "status": "completed"
    },
    "tags": []
   },
   "outputs": [],
   "source": [
    "input_text=vecterizor('You are so horible. I hate you')"
   ]
  },
  {
   "cell_type": "code",
   "execution_count": 36,
   "id": "aa2a85b5",
   "metadata": {
    "execution": {
     "iopub.execute_input": "2023-10-19T19:43:12.382747Z",
     "iopub.status.busy": "2023-10-19T19:43:12.382010Z",
     "iopub.status.idle": "2023-10-19T19:43:12.388231Z",
     "shell.execute_reply": "2023-10-19T19:43:12.387333Z"
    },
    "papermill": {
     "duration": 2.21747,
     "end_time": "2023-10-19T19:43:12.390004",
     "exception": false,
     "start_time": "2023-10-19T19:43:10.172534",
     "status": "completed"
    },
    "tags": []
   },
   "outputs": [
    {
     "data": {
      "text/plain": [
       "<tf.Tensor: shape=(1800,), dtype=int64, numpy=array([ 7, 20, 37, ...,  0,  0,  0])>"
      ]
     },
     "execution_count": 36,
     "metadata": {},
     "output_type": "execute_result"
    }
   ],
   "source": [
    "input_text"
   ]
  },
  {
   "cell_type": "code",
   "execution_count": 37,
   "id": "3a36099d",
   "metadata": {
    "execution": {
     "iopub.execute_input": "2023-10-19T19:43:16.913953Z",
     "iopub.status.busy": "2023-10-19T19:43:16.913080Z",
     "iopub.status.idle": "2023-10-19T19:43:16.919227Z",
     "shell.execute_reply": "2023-10-19T19:43:16.918324Z"
    },
    "papermill": {
     "duration": 2.284126,
     "end_time": "2023-10-19T19:43:16.920866",
     "exception": false,
     "start_time": "2023-10-19T19:43:14.636740",
     "status": "completed"
    },
    "tags": []
   },
   "outputs": [
    {
     "data": {
      "text/plain": [
       "array([[ 7, 20, 37, ...,  0,  0,  0]])"
      ]
     },
     "execution_count": 37,
     "metadata": {},
     "output_type": "execute_result"
    }
   ],
   "source": [
    "np.expand_dims(input_text,0)"
   ]
  },
  {
   "cell_type": "code",
   "execution_count": 38,
   "id": "caf94ac8",
   "metadata": {
    "execution": {
     "iopub.execute_input": "2023-10-19T19:43:21.449721Z",
     "iopub.status.busy": "2023-10-19T19:43:21.449365Z",
     "iopub.status.idle": "2023-10-19T19:43:22.020949Z",
     "shell.execute_reply": "2023-10-19T19:43:22.019980Z"
    },
    "papermill": {
     "duration": 2.846942,
     "end_time": "2023-10-19T19:43:22.023030",
     "exception": false,
     "start_time": "2023-10-19T19:43:19.176088",
     "status": "completed"
    },
    "tags": []
   },
   "outputs": [
    {
     "data": {
      "text/plain": [
       "array([[0.89590955, 0.00436866, 0.04203485, 0.01006283, 0.38152352,\n",
       "        0.07104596]], dtype=float32)"
      ]
     },
     "execution_count": 38,
     "metadata": {},
     "output_type": "execute_result"
    }
   ],
   "source": [
    "model.predict(np.expand_dims(input_text,0))"
   ]
  },
  {
   "cell_type": "code",
   "execution_count": 39,
   "id": "81740d17",
   "metadata": {
    "execution": {
     "iopub.execute_input": "2023-10-19T19:43:26.558245Z",
     "iopub.status.busy": "2023-10-19T19:43:26.557409Z",
     "iopub.status.idle": "2023-10-19T19:43:26.629446Z",
     "shell.execute_reply": "2023-10-19T19:43:26.628569Z"
    },
    "papermill": {
     "duration": 2.365969,
     "end_time": "2023-10-19T19:43:26.631251",
     "exception": false,
     "start_time": "2023-10-19T19:43:24.265282",
     "status": "completed"
    },
    "tags": []
   },
   "outputs": [
    {
     "data": {
      "text/plain": [
       "array([[0.89590955, 0.00436866, 0.04203485, 0.01006283, 0.38152352,\n",
       "        0.07104596]], dtype=float32)"
      ]
     },
     "execution_count": 39,
     "metadata": {},
     "output_type": "execute_result"
    }
   ],
   "source": [
    "model.predict(np.expand_dims(input_text,0))"
   ]
  },
  {
   "cell_type": "code",
   "execution_count": 40,
   "id": "ce5aaf8e",
   "metadata": {
    "execution": {
     "iopub.execute_input": "2023-10-19T19:43:31.021850Z",
     "iopub.status.busy": "2023-10-19T19:43:31.021492Z",
     "iopub.status.idle": "2023-10-19T19:43:33.816922Z",
     "shell.execute_reply": "2023-10-19T19:43:33.815921Z"
    },
    "papermill": {
     "duration": 4.984798,
     "end_time": "2023-10-19T19:43:33.819199",
     "exception": false,
     "start_time": "2023-10-19T19:43:28.834401",
     "status": "completed"
    },
    "tags": []
   },
   "outputs": [],
   "source": [
    "batch_X,batch_Y=test.as_numpy_iterator().next() "
   ]
  },
  {
   "cell_type": "code",
   "execution_count": 41,
   "id": "a42e8457",
   "metadata": {
    "execution": {
     "iopub.execute_input": "2023-10-19T19:43:38.393143Z",
     "iopub.status.busy": "2023-10-19T19:43:38.392461Z",
     "iopub.status.idle": "2023-10-19T19:43:38.485931Z",
     "shell.execute_reply": "2023-10-19T19:43:38.485157Z"
    },
    "papermill": {
     "duration": 2.375465,
     "end_time": "2023-10-19T19:43:38.487653",
     "exception": false,
     "start_time": "2023-10-19T19:43:36.112188",
     "status": "completed"
    },
    "tags": []
   },
   "outputs": [
    {
     "data": {
      "text/plain": [
       "array([[0, 0, 0, 0, 0, 0],\n",
       "       [0, 0, 0, 0, 0, 0],\n",
       "       [0, 0, 0, 0, 0, 0],\n",
       "       [0, 0, 0, 0, 0, 0],\n",
       "       [0, 0, 0, 0, 0, 0],\n",
       "       [0, 0, 0, 0, 0, 0],\n",
       "       [0, 0, 0, 0, 0, 0],\n",
       "       [1, 0, 0, 0, 1, 0],\n",
       "       [0, 0, 0, 0, 0, 0],\n",
       "       [1, 0, 1, 0, 1, 0],\n",
       "       [0, 0, 0, 0, 0, 0],\n",
       "       [0, 0, 0, 0, 0, 0],\n",
       "       [0, 0, 0, 0, 0, 0],\n",
       "       [0, 0, 0, 0, 0, 0],\n",
       "       [0, 0, 0, 0, 0, 0],\n",
       "       [0, 0, 0, 0, 0, 0]])"
      ]
     },
     "execution_count": 41,
     "metadata": {},
     "output_type": "execute_result"
    }
   ],
   "source": [
    "(model.predict(batch_X)>0.5).astype(int)"
   ]
  },
  {
   "cell_type": "code",
   "execution_count": 42,
   "id": "e411857d",
   "metadata": {
    "execution": {
     "iopub.execute_input": "2023-10-19T19:43:43.009431Z",
     "iopub.status.busy": "2023-10-19T19:43:43.008850Z",
     "iopub.status.idle": "2023-10-19T19:43:43.014514Z",
     "shell.execute_reply": "2023-10-19T19:43:43.013721Z"
    },
    "papermill": {
     "duration": 2.231991,
     "end_time": "2023-10-19T19:43:43.016326",
     "exception": false,
     "start_time": "2023-10-19T19:43:40.784335",
     "status": "completed"
    },
    "tags": []
   },
   "outputs": [
    {
     "data": {
      "text/plain": [
       "array([[0, 0, 0, 0, 0, 0],\n",
       "       [0, 0, 0, 0, 0, 0],\n",
       "       [0, 0, 0, 0, 0, 0],\n",
       "       [0, 0, 0, 0, 0, 0],\n",
       "       [0, 0, 0, 0, 0, 0],\n",
       "       [0, 0, 0, 0, 0, 0],\n",
       "       [0, 0, 0, 0, 0, 0],\n",
       "       [1, 0, 0, 0, 1, 0],\n",
       "       [0, 0, 0, 0, 0, 0],\n",
       "       [1, 0, 1, 0, 1, 0],\n",
       "       [0, 0, 0, 0, 0, 0],\n",
       "       [0, 0, 0, 0, 0, 0],\n",
       "       [0, 0, 0, 0, 0, 0],\n",
       "       [0, 0, 0, 0, 0, 0],\n",
       "       [0, 0, 1, 0, 0, 0],\n",
       "       [0, 0, 0, 0, 0, 0]])"
      ]
     },
     "execution_count": 42,
     "metadata": {},
     "output_type": "execute_result"
    }
   ],
   "source": [
    "batch_Y"
   ]
  },
  {
   "cell_type": "code",
   "execution_count": 43,
   "id": "8a0af234",
   "metadata": {
    "execution": {
     "iopub.execute_input": "2023-10-19T19:43:47.405675Z",
     "iopub.status.busy": "2023-10-19T19:43:47.405329Z",
     "iopub.status.idle": "2023-10-19T19:43:47.476239Z",
     "shell.execute_reply": "2023-10-19T19:43:47.475389Z"
    },
    "papermill": {
     "duration": 2.273799,
     "end_time": "2023-10-19T19:43:47.478333",
     "exception": false,
     "start_time": "2023-10-19T19:43:45.204534",
     "status": "completed"
    },
    "tags": []
   },
   "outputs": [],
   "source": [
    "res=model.predict(np.expand_dims(input_text,0))"
   ]
  },
  {
   "cell_type": "raw",
   "id": "4e21410b",
   "metadata": {
    "papermill": {
     "duration": 2.183378,
     "end_time": "2023-10-19T19:43:51.950475",
     "exception": false,
     "start_time": "2023-10-19T19:43:49.767097",
     "status": "completed"
    },
    "tags": []
   },
   "source": [
    "res"
   ]
  },
  {
   "cell_type": "code",
   "execution_count": 44,
   "id": "4f3c9424",
   "metadata": {
    "execution": {
     "iopub.execute_input": "2023-10-19T19:43:56.439411Z",
     "iopub.status.busy": "2023-10-19T19:43:56.438260Z",
     "iopub.status.idle": "2023-10-19T19:43:56.443839Z",
     "shell.execute_reply": "2023-10-19T19:43:56.443187Z"
    },
    "papermill": {
     "duration": 2.188916,
     "end_time": "2023-10-19T19:43:56.445761",
     "exception": false,
     "start_time": "2023-10-19T19:43:54.256845",
     "status": "completed"
    },
    "tags": []
   },
   "outputs": [],
   "source": [
    "from tensorflow.keras.metrics import Precision, Recall, CategoricalAccuracy"
   ]
  },
  {
   "cell_type": "code",
   "execution_count": 45,
   "id": "433d803b",
   "metadata": {
    "execution": {
     "iopub.execute_input": "2023-10-19T19:44:00.893394Z",
     "iopub.status.busy": "2023-10-19T19:44:00.892926Z",
     "iopub.status.idle": "2023-10-19T19:44:00.904540Z",
     "shell.execute_reply": "2023-10-19T19:44:00.903869Z"
    },
    "papermill": {
     "duration": 2.191538,
     "end_time": "2023-10-19T19:44:00.906320",
     "exception": false,
     "start_time": "2023-10-19T19:43:58.714782",
     "status": "completed"
    },
    "tags": []
   },
   "outputs": [],
   "source": [
    "pre = Precision()\n",
    "re = Recall()\n",
    "acc = CategoricalAccuracy()"
   ]
  },
  {
   "cell_type": "code",
   "execution_count": 46,
   "id": "2ab8ddc6",
   "metadata": {
    "execution": {
     "iopub.execute_input": "2023-10-19T19:44:05.473564Z",
     "iopub.status.busy": "2023-10-19T19:44:05.472749Z",
     "iopub.status.idle": "2023-10-19T19:45:35.591927Z",
     "shell.execute_reply": "2023-10-19T19:45:35.590946Z"
    },
    "papermill": {
     "duration": 92.325713,
     "end_time": "2023-10-19T19:45:35.594388",
     "exception": false,
     "start_time": "2023-10-19T19:44:03.268675",
     "status": "completed"
    },
    "tags": []
   },
   "outputs": [],
   "source": [
    "for batch in test.as_numpy_iterator(): \n",
    "    # Unpack the batch \n",
    "    X_true, y_true = batch\n",
    "    # Make a prediction \n",
    "    yhat = model.predict(X_true)\n",
    "    \n",
    "    # Flatten the predictions\n",
    "    y_true = y_true.flatten()\n",
    "    yhat = yhat.flatten()\n",
    "    \n",
    "    pre.update_state(y_true, yhat)\n",
    "    re.update_state(y_true, yhat)\n",
    "    acc.update_state(y_true, yhat)"
   ]
  },
  {
   "cell_type": "code",
   "execution_count": 47,
   "id": "d2832122",
   "metadata": {
    "execution": {
     "iopub.execute_input": "2023-10-19T19:45:40.115292Z",
     "iopub.status.busy": "2023-10-19T19:45:40.114903Z",
     "iopub.status.idle": "2023-10-19T19:45:40.123099Z",
     "shell.execute_reply": "2023-10-19T19:45:40.122173Z"
    },
    "papermill": {
     "duration": 2.225951,
     "end_time": "2023-10-19T19:45:40.124900",
     "exception": false,
     "start_time": "2023-10-19T19:45:37.898949",
     "status": "completed"
    },
    "tags": []
   },
   "outputs": [
    {
     "name": "stdout",
     "output_type": "stream",
     "text": [
      "Precision: 0.8944377899169922, Recall:0.8737949132919312, Accuracy:0.5105316042900085\n"
     ]
    }
   ],
   "source": [
    "print(f'Precision: {pre.result().numpy()}, Recall:{re.result().numpy()}, Accuracy:{acc.result().numpy()}')"
   ]
  },
  {
   "cell_type": "code",
   "execution_count": null,
   "id": "a30b7107",
   "metadata": {
    "execution": {
     "iopub.status.busy": "2023-10-13T05:31:32.069407Z",
     "iopub.status.idle": "2023-10-13T05:31:32.069932Z",
     "shell.execute_reply": "2023-10-13T05:31:32.069690Z",
     "shell.execute_reply.started": "2023-10-13T05:31:32.069665Z"
    },
    "papermill": {
     "duration": 2.247046,
     "end_time": "2023-10-19T19:45:44.707066",
     "exception": false,
     "start_time": "2023-10-19T19:45:42.460020",
     "status": "completed"
    },
    "tags": []
   },
   "outputs": [],
   "source": []
  }
 ],
 "metadata": {
  "kernelspec": {
   "display_name": "Python 3",
   "language": "python",
   "name": "python3"
  },
  "language_info": {
   "codemirror_mode": {
    "name": "ipython",
    "version": 3
   },
   "file_extension": ".py",
   "mimetype": "text/x-python",
   "name": "python",
   "nbconvert_exporter": "python",
   "pygments_lexer": "ipython3",
   "version": "3.7.12"
  },
  "papermill": {
   "default_parameters": {},
   "duration": 5595.33684,
   "end_time": "2023-10-19T19:45:50.627920",
   "environment_variables": {},
   "exception": null,
   "input_path": "__notebook__.ipynb",
   "output_path": "__notebook__.ipynb",
   "parameters": {},
   "start_time": "2023-10-19T18:12:35.291080",
   "version": "2.3.4"
  }
 },
 "nbformat": 4,
 "nbformat_minor": 5
}
